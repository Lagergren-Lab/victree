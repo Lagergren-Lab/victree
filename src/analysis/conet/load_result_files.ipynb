{
 "cells": [
  {
   "cell_type": "markdown",
   "id": "7a4060f5908e912c",
   "metadata": {},
   "source": [
    "# CONET results\n",
    "\n",
    "Load results files: newick tree, cell assignment, copy number alterations in nodes and copy number profiles.\n"
   ]
  },
  {
   "cell_type": "code",
   "execution_count": 1,
   "id": "b53536f06f0e13d0",
   "metadata": {
    "ExecuteTime": {
     "end_time": "2023-11-23T13:19:42.698026Z",
     "start_time": "2023-11-23T13:19:42.150525Z"
    }
   },
   "outputs": [],
   "source": [
    "import os\n",
    "\n",
    "import pandas as pd\n",
    "import numpy as np\n",
    "import networkx as nx"
   ]
  },
  {
   "cell_type": "code",
   "execution_count": 2,
   "id": "b44da4ffe3b1dcb5",
   "metadata": {
    "ExecuteTime": {
     "end_time": "2023-11-23T13:19:42.704912Z",
     "start_time": "2023-11-23T13:19:42.699740Z"
    }
   },
   "outputs": [],
   "source": [
    "data_path = \"/Users/zemp/phd/scilife/cpt_experiments/SA501X3F/conet-out\"\n",
    "attachment_path = os.path.join(data_path, \"best_attachment_final\")\n",
    "tree_newick_path = os.path.join(data_path, \"best_tree_Newick\")\n",
    "tree_edges_path = os.path.join(data_path, \"best_tree_final\")\n",
    "\n",
    "corr_counts_path = \"/Users/zemp/phd/scilife/cpt_experiments/CONET/CONET/python/notebooks/biological_data/data/SA501X3F_filtered_corrected_counts.csv\"\n",
    "cn_calling_path = \"/Users/zemp/phd/scilife/cpt_experiments/CONET/CONET/cn_calling_SA501X3F.csv\""
   ]
  },
  {
   "cell_type": "code",
   "execution_count": 3,
   "id": "4534a4f92f21a93e",
   "metadata": {
    "ExecuteTime": {
     "end_time": "2023-11-23T13:19:42.711134Z",
     "start_time": "2023-11-23T13:19:42.705347Z"
    }
   },
   "outputs": [
    {
     "name": "stdout",
     "output_type": "stream",
     "text": [
      "DiGraph with 226 nodes and 225 edges\n"
     ]
    }
   ],
   "source": [
    "tree_nx = nx.DiGraph()\n",
    "node_map = {\"(0,0)\": 0}\n",
    "# read tree and map clones\n",
    "node_idx = 1\n",
    "with open(tree_edges_path, 'r') as tree_edges_file:\n",
    "    for l in tree_edges_file.readlines():\n",
    "        # nodes u -> v\n",
    "        u, v = l.strip().split('-')\n",
    "        if u not in node_map:\n",
    "            node_map[u] = node_idx\n",
    "            tree_nx.add_node(node_idx, cna=u)\n",
    "            node_idx += 1\n",
    "        if v not in node_map:\n",
    "            node_map[v] = node_idx\n",
    "            tree_nx.add_node(node_idx, cna=v)\n",
    "            node_idx += 1\n",
    "        \n",
    "        tree_nx.add_edge(node_map[u], node_map[v])\n",
    "        # separate copy number alteration boundaries\n",
    "        u_start, u_end = u.split(',')\n",
    "        v_start, v_end = v.split(',')\n",
    "print(tree_nx)"
   ]
  },
  {
   "cell_type": "code",
   "execution_count": 4,
   "id": "fdef8b81cc557692",
   "metadata": {
    "ExecuteTime": {
     "end_time": "2023-11-23T13:19:42.718445Z",
     "start_time": "2023-11-23T13:19:42.711894Z"
    }
   },
   "outputs": [
    {
     "data": {
      "text/plain": "True"
     },
     "execution_count": 4,
     "metadata": {},
     "output_type": "execute_result"
    }
   ],
   "source": [
    "nx.is_arborescence(tree_nx)"
   ]
  },
  {
   "cell_type": "code",
   "execution_count": 5,
   "id": "fc39db91219548a9",
   "metadata": {
    "ExecuteTime": {
     "end_time": "2023-11-23T13:19:42.744790Z",
     "start_time": "2023-11-23T13:19:42.721301Z"
    }
   },
   "outputs": [
    {
     "data": {
      "text/plain": "{'(0,0)': 0,\n '(1_750001,1_13950001)': 1,\n '(1_60150001,1_61350001)': 2,\n '(1_144900001,1_145500001)': 3,\n '(1_156000001,1_249250621)': 4,\n '(2_150001,2_25800001)': 5,\n '(2_50250001,2_53850001)': 6,\n '(2_53400001,2_59850001)': 7,\n '(2_59700001,2_63600001)': 8,\n '(2_91800001,2_95550001)': 9,\n '(2_159900001,2_177150001)': 10,\n '(2_195750001,2_201750001)': 11,\n '(3_13800001,3_16350001)': 12,\n '(3_34350001,3_86850001)': 13,\n '(3_87000001,3_89100001)': 14,\n '(3_114000001,3_180450001)': 15,\n '(3_141150001,3_153000001)': 16,\n '(3_152100001,3_198022430)': 17,\n '(4_150001,4_70500001)': 18,\n '(4_135300001,4_190500001)': 19,\n '(4_151650001,4_190650001)': 20,\n '(5_54150001,5_129150001)': 21,\n '(5_127050001,5_128850001)': 22,\n '(5_150450001,5_180915260)': 23,\n '(6_300001,6_32400001)': 24,\n '(6_55350001,6_57600001)': 25,\n '(6_90000001,6_114450001)': 26,\n '(6_126000001,6_144000001)': 27,\n '(6_136350001,6_144150001)': 28,\n '(6_157350001,6_171115067)': 29,\n '(7_73800001,7_74400001)': 30,\n '(7_138750001,7_159138663)': 31,\n '(8_150001,8_126600001)': 32,\n '(8_74550001,8_76800001)': 33,\n '(8_88650001,8_100800001)': 34,\n '(10_118500001,10_135534747)': 35,\n '(11_34800001,11_43500001)': 36,\n '(11_100200001,11_135006516)': 37,\n '(12_46800001,12_68850001)': 38,\n '(13_38700001,13_83400001)': 39,\n '(14_19200001,14_93300001)': 40,\n '(15_22350001,15_22800001)': 41,\n '(15_59400001,15_72900001)': 42,\n '(16_2550001,16_12900001)': 43,\n '(16_5850001,16_6750001)': 44,\n '(16_6000001,16_6300001)': 45,\n '(16_6300001,16_13050001)': 46,\n '(16_6450001,16_8700001)': 47,\n '(16_13500001,16_15600001)': 48,\n '(16_15750001,16_16500001)': 49,\n '(17_1,17_18450001)': 50,\n '(17_18300001,17_47250001)': 51,\n '(17_18450001,17_79800001)': 52,\n '(18_150001,18_8250001)': 53,\n '(18_56100001,18_78077248)': 54,\n '(20_150001,20_30300001)': 55,\n '(20_42750001,20_49950001)': 56,\n '(21_10800001,21_14700001)': 57,\n '(24_2700001,24_59373566)': 58,\n '(8_68250001,8_146364022)': 59,\n '(16_8100001,16_8850001)': 60,\n '(18_23100001,18_32400001)': 61,\n '(21_35250001,21_48129895)': 62,\n '(14_94350001,14_106500001)': 63,\n '(6_76950001,6_86400001)': 64,\n '(6_93450001,6_156750001)': 65,\n '(6_145500001,6_156750001)': 66,\n '(8_150001,8_76650001)': 67,\n '(14_93450001,14_107349540)': 68,\n '(6_143100001,6_156600001)': 69,\n '(2_58650001,2_242400001)': 70,\n '(6_143250001,6_157350001)': 71,\n '(8_150001,8_77550001)': 72,\n '(8_68100001,8_76950001)': 73,\n '(8_68400001,8_76350001)': 74,\n '(8_74700001,8_77100001)': 75,\n '(8_76500001,8_77400001)': 76,\n '(8_77850001,8_78000001)': 77,\n '(6_86400001,6_156750001)': 78,\n '(6_300001,6_14850001)': 79,\n '(15_66600001,15_102531392)': 80,\n '(6_78750001,6_112050001)': 81,\n '(3_118350001,3_152250001)': 82,\n '(3_114000001,3_162150001)': 83,\n '(2_50400001,2_63450001)': 84,\n '(2_64200001,2_228600001)': 85,\n '(2_50850001,2_113400001)': 86,\n '(6_103500001,6_155850001)': 87,\n '(11_15150001,11_100050001)': 88,\n '(18_22800001,18_55950001)': 89,\n '(6_93900001,6_94650001)': 90,\n '(1_235350001,1_242250001)': 91,\n '(2_27000001,2_64500001)': 92,\n '(6_113700001,6_140850001)': 93,\n '(4_135900001,4_151500001)': 94,\n '(6_135600001,6_156600001)': 95,\n '(18_22650001,18_74100001)': 96,\n '(3_150001,3_35550001)': 97,\n '(6_127200001,6_143100001)': 98,\n '(6_105000001,6_126900001)': 99,\n '(1_242250001,1_249250621)': 100,\n '(6_137400001,6_137550001)': 101,\n '(2_43500001,2_59400001)': 102,\n '(6_93600001,6_94050001)': 103,\n '(8_142950001,8_146364022)': 104,\n '(2_180450001,2_243199373)': 105,\n '(3_141300001,3_152250001)': 106,\n '(10_60600001,10_120300001)': 107,\n '(1_165600001,1_249250621)': 108,\n '(3_141300001,3_178950001)': 109,\n '(6_137100001,6_140850001)': 110,\n '(6_25650001,6_32250001)': 111,\n '(11_14850001,11_97200001)': 112,\n '(23_300001,23_155270560)': 113,\n '(6_105000001,6_156600001)': 114,\n '(9_78900001,9_84600001)': 115,\n '(5_1350001,5_30900001)': 116,\n '(9_79800001,9_85200001)': 117,\n '(3_150001,3_35100001)': 118,\n '(6_95250001,6_156750001)': 119,\n '(6_104850001,6_105600001)': 120,\n '(6_114900001,6_129750001)': 121,\n '(11_82050001,11_123150001)': 122,\n '(6_112950001,6_115200001)': 123,\n '(6_127350001,6_156600001)': 124,\n '(6_114300001,6_136200001)': 125,\n '(3_114000001,3_164550001)': 126,\n '(6_100650001,6_137100001)': 127,\n '(6_99750001,6_126900001)': 128,\n '(7_76800001,7_76950001)': 129,\n '(3_3300001,3_180300001)': 130,\n '(6_113100001,6_171115067)': 131,\n '(8_92400001,8_116700001)': 132,\n '(6_103500001,6_135600001)': 133,\n '(8_92400001,8_143700001)': 134,\n '(2_25800001,2_64800001)': 135,\n '(6_115050001,6_142500001)': 136,\n '(6_94800001,6_103650001)': 137,\n '(6_103500001,6_155700001)': 138,\n '(8_73200001,8_142950001)': 139,\n '(6_114900001,6_156300001)': 140,\n '(1_9600001,1_39300001)': 141,\n '(2_26700001,2_86100001)': 142,\n '(12_42900001,12_69450001)': 143,\n '(6_93600001,6_94650001)': 144,\n '(6_109500001,6_126300001)': 145,\n '(6_112800001,6_120150001)': 146,\n '(6_78750001,6_153450001)': 147,\n '(12_66600001,12_133851895)': 148,\n '(12_14400001,12_14550001)': 149,\n '(6_93750001,6_126150001)': 150,\n '(6_78750001,6_146700001)': 151,\n '(6_104850001,6_109650001)': 152,\n '(3_39750001,3_87150001)': 153,\n '(6_95850001,6_107250001)': 154,\n '(6_91800001,6_137400001)': 155,\n '(6_114300001,6_157950001)': 156,\n '(6_100500001,6_135450001)': 157,\n '(6_113850001,6_135450001)': 158,\n '(6_100650001,6_136650001)': 159,\n '(6_86100001,6_153450001)': 160,\n '(2_60000001,2_63450001)': 161,\n '(6_99750001,6_105000001)': 162,\n '(1_11550001,1_159150001)': 163,\n '(6_78300001,6_127350001)': 164,\n '(6_93450001,6_153300001)': 165,\n '(6_86250001,6_126600001)': 166,\n '(6_103500001,6_135000001)': 167,\n '(6_83250001,6_114300001)': 168,\n '(8_41400001,8_77850001)': 169,\n '(4_130800001,4_140400001)': 170,\n '(8_73200001,8_119400001)': 171,\n '(6_114150001,6_157800001)': 172,\n '(6_105750001,6_143100001)': 173,\n '(6_129900001,6_155850001)': 174,\n '(12_150001,12_300001)': 175,\n '(9_79050001,9_136650001)': 176,\n '(8_68400001,8_143850001)': 177,\n '(6_77250001,6_101850001)': 178,\n '(6_142500001,6_157800001)': 179,\n '(6_126600001,6_135000001)': 180,\n '(17_66600001,17_79500001)': 181,\n '(6_105750001,6_136050001)': 182,\n '(6_136200001,6_155850001)': 183,\n '(18_22950001,18_26100001)': 184,\n '(6_107250001,6_159150001)': 185,\n '(3_103050001,3_178950001)': 186,\n '(6_95850001,6_111300001)': 187,\n '(6_77400001,6_153300001)': 188,\n '(17_66450001,17_78600001)': 189,\n '(3_133800001,3_178950001)': 190,\n '(7_2700001,7_4950001)': 191,\n '(6_93900001,6_145950001)': 192,\n '(6_94200001,6_156450001)': 193,\n '(6_100500001,6_142950001)': 194,\n '(6_112050001,6_125400001)': 195,\n '(19_300001,19_28200001)': 196,\n '(11_34650001,11_42600001)': 197,\n '(6_85050001,6_157800001)': 198,\n '(18_55800001,18_74250001)': 199,\n '(6_94650001,6_103500001)': 200,\n '(2_58950001,2_64050001)': 201,\n '(6_127350001,6_136200001)': 202,\n '(6_126000001,6_134550001)': 203,\n '(6_93750001,6_129750001)': 204,\n '(6_112200001,6_136050001)': 205,\n '(2_26700001,2_154200001)': 206,\n '(6_114000001,6_114150001)': 207,\n '(6_94200001,6_95100001)': 208,\n '(3_52950001,3_168600001)': 209,\n '(4_74250001,4_130650001)': 210,\n '(17_6000001,17_80850001)': 211,\n '(11_11250001,11_69150001)': 212,\n '(22_17400001,22_32100001)': 213,\n '(6_105600001,6_113850001)': 214,\n '(6_92100001,6_126750001)': 215,\n '(6_94050001,6_112050001)': 216,\n '(6_95250001,6_142800001)': 217,\n '(13_39600001,13_115169878)': 218,\n '(16_2700001,16_15600001)': 219,\n '(6_101700001,6_126600001)': 220,\n '(6_93600001,6_156450001)': 221,\n '(11_9600001,11_131700001)': 222,\n '(13_83250001,13_115169878)': 223,\n '(16_8400001,16_89250001)': 224,\n '(9_9150001,9_141213431)': 225}"
     },
     "execution_count": 5,
     "metadata": {},
     "output_type": "execute_result"
    }
   ],
   "source": [
    "node_map"
   ]
  },
  {
   "cell_type": "code",
   "execution_count": 6,
   "id": "d835908adc97ce2b",
   "metadata": {
    "ExecuteTime": {
     "end_time": "2023-11-23T13:19:42.745589Z",
     "start_time": "2023-11-23T13:19:42.725690Z"
    }
   },
   "outputs": [
    {
     "name": "stdout",
     "output_type": "stream",
     "text": [
      "(((((((((((((((((((((((((((((((((((((((((((((((((((((((((((((((((((((((((((((((((86)85)81,((((((93)91,92)90)89)88)87)82,(94,95)83,(((102,103,104)98,((107)105,106)99,((110)108,109)100,((112)111)101)96,97)84)80)78,(((((122)119,(123,124)120,(((((130)129)128)127)125,126)121)117,(131)118)114,(((((142)140,141)139)136,((148)143,(((((160,(((166)163,(167)164,(((171)170)168,(172)169)165)162)161)157,((((178,179)177)174,(((183,184)182)180,(185)181)175,176)173)158,159)152,153,((189)186,(190)187,188)154,155,156)150,151)149)144,((194)191,(((198)197)195,196)192,193)145,(((((205)204)202,203)200,201)199)146,147)137,138)132,133,(((((212)211)210)209)206,(213,214)207,((((220,221)219)217,218)215,216)208)134,135)115,116)113)79)77)76)75)74)73)72)71)69,((((225)224)223)222)70)68)67)66)65)64)63)62)61)60)59)58)57)56)55)54)53)52)51)50)49)48)47)46)45)44)43)42)41)40)39)38)37)36)35)34)33)32)31)30)29)28)27)26)25)24)23)22)21)20)19)18)17)16)15)14)13)12)11)10)9)8)7)6)5)4)3)2)1)0;\n"
     ]
    }
   ],
   "source": [
    "# read newick\n",
    "with open(tree_newick_path, 'r') as newick_file:\n",
    "    newick_str = newick_file.readline()\n",
    "    for cna, clone_id in node_map.items():\n",
    "        newick_str = newick_str.replace(cna.replace(',', '__'), str(clone_id))\n",
    "    print(newick_str)"
   ]
  },
  {
   "cell_type": "code",
   "execution_count": 7,
   "id": "1a05a7938bb1f2c4",
   "metadata": {
    "ExecuteTime": {
     "end_time": "2023-11-23T13:19:42.746361Z",
     "start_time": "2023-11-23T13:19:42.731408Z"
    }
   },
   "outputs": [
    {
     "data": {
      "text/plain": "   cell    cna_start      cna_end                        cna  clone_id\n0     0  6_112950001  6_115200001  (6_112950001,6_115200001)       123\n1     1   6_91800001  6_137400001   (6_91800001,6_137400001)       155\n2     2   6_99750001  6_105000001   (6_99750001,6_105000001)       162\n3     3  18_22950001  18_26100001  (18_22950001,18_26100001)       184\n4     4  6_114000001  6_114150001  (6_114000001,6_114150001)       207",
      "text/html": "<div>\n<style scoped>\n    .dataframe tbody tr th:only-of-type {\n        vertical-align: middle;\n    }\n\n    .dataframe tbody tr th {\n        vertical-align: top;\n    }\n\n    .dataframe thead th {\n        text-align: right;\n    }\n</style>\n<table border=\"1\" class=\"dataframe\">\n  <thead>\n    <tr style=\"text-align: right;\">\n      <th></th>\n      <th>cell</th>\n      <th>cna_start</th>\n      <th>cna_end</th>\n      <th>cna</th>\n      <th>clone_id</th>\n    </tr>\n  </thead>\n  <tbody>\n    <tr>\n      <th>0</th>\n      <td>0</td>\n      <td>6_112950001</td>\n      <td>6_115200001</td>\n      <td>(6_112950001,6_115200001)</td>\n      <td>123</td>\n    </tr>\n    <tr>\n      <th>1</th>\n      <td>1</td>\n      <td>6_91800001</td>\n      <td>6_137400001</td>\n      <td>(6_91800001,6_137400001)</td>\n      <td>155</td>\n    </tr>\n    <tr>\n      <th>2</th>\n      <td>2</td>\n      <td>6_99750001</td>\n      <td>6_105000001</td>\n      <td>(6_99750001,6_105000001)</td>\n      <td>162</td>\n    </tr>\n    <tr>\n      <th>3</th>\n      <td>3</td>\n      <td>18_22950001</td>\n      <td>18_26100001</td>\n      <td>(18_22950001,18_26100001)</td>\n      <td>184</td>\n    </tr>\n    <tr>\n      <th>4</th>\n      <td>4</td>\n      <td>6_114000001</td>\n      <td>6_114150001</td>\n      <td>(6_114000001,6_114150001)</td>\n      <td>207</td>\n    </tr>\n  </tbody>\n</table>\n</div>"
     },
     "execution_count": 7,
     "metadata": {},
     "output_type": "execute_result"
    }
   ],
   "source": [
    "# read cell assignments\n",
    "attachment_df = pd.read_csv(attachment_path, sep=';', names=[\"cell\", \"cna_start\", \"cna_end\"])\n",
    "attachment_df[\"cna\"] = \"(\" + attachment_df[\"cna_start\"] + \",\" + attachment_df[\"cna_end\"] + \")\"\n",
    "attachment_df[\"clone_id\"] = attachment_df[\"cna\"].map(node_map)\n",
    "attachment_df.head()"
   ]
  },
  {
   "cell_type": "code",
   "execution_count": 8,
   "id": "567c35f2457e55a0",
   "metadata": {
    "ExecuteTime": {
     "end_time": "2023-11-23T13:19:43.748628Z",
     "start_time": "2023-11-23T13:19:42.744584Z"
    }
   },
   "outputs": [],
   "source": [
    "# read cn matrix\n",
    "bio_df = pd.read_csv(corr_counts_path)\n",
    "cell_names = bio_df.filter(like='SA501X3F').columns\n",
    "con_cn_df = pd.read_csv(cn_calling_path)\n",
    "cn_matrix = con_cn_df[cell_names].to_numpy().T"
   ]
  },
  {
   "cell_type": "markdown",
   "id": "dc611778612840d3",
   "metadata": {},
   "source": [
    "# Read VICTree results"
   ]
  },
  {
   "cell_type": "code",
   "execution_count": 9,
   "id": "62016f50f36d7a42",
   "metadata": {
    "ExecuteTime": {
     "end_time": "2023-11-23T13:19:45.987780Z",
     "start_time": "2023-11-23T13:19:43.745820Z"
    }
   },
   "outputs": [],
   "source": [
    "import anndata as ad\n",
    "from io import StringIO\n",
    "from utils.tree_utils import parse_newick\n",
    "from sklearn.metrics import v_measure_score, adjusted_rand_score, f1_score"
   ]
  },
  {
   "cell_type": "code",
   "execution_count": 10,
   "id": "a077aeb117d6223b",
   "metadata": {
    "ExecuteTime": {
     "end_time": "2023-11-23T13:19:45.994772Z",
     "start_time": "2023-11-23T13:19:45.988308Z"
    }
   },
   "outputs": [],
   "source": [
    "out_ad_path = \"/Users/zemp/phd/scilife/cpt_experiments/SA501X3F/victree-out/K12/victree.out.h5ad\""
   ]
  },
  {
   "cell_type": "code",
   "execution_count": 11,
   "id": "f929bcf1bd85000d",
   "metadata": {
    "ExecuteTime": {
     "end_time": "2023-11-23T13:19:46.150868Z",
     "start_time": "2023-11-23T13:19:45.997733Z"
    }
   },
   "outputs": [
    {
     "name": "stderr",
     "output_type": "stream",
     "text": [
      "/Users/zemp/miniconda3/envs/victree310/lib/python3.10/site-packages/anndata/_core/anndata.py:121: ImplicitModificationWarning: Transforming to str index.\n",
      "  warnings.warn(\"Transforming to str index.\", ImplicitModificationWarning)\n"
     ]
    }
   ],
   "source": [
    "out_ad = ad.read_h5ad(out_ad_path)\n",
    "v_cell_assignment = out_ad.obs['victree-clone']\n",
    "v_newick_str = out_ad.uns['victree-tree-newick'][0].decode(\"UTF-8\")\n",
    "v_tree_nx = parse_newick(StringIO(v_newick_str))\n",
    "v_cn_matrix = out_ad.layers['victree-cn-viterbi']"
   ]
  },
  {
   "cell_type": "markdown",
   "id": "936ecc890f5b85c2",
   "metadata": {},
   "source": [
    "# Comparison\n"
   ]
  },
  {
   "cell_type": "code",
   "execution_count": 12,
   "id": "356d6a59f0eb9ed2",
   "metadata": {
    "ExecuteTime": {
     "end_time": "2023-11-23T13:19:46.268993Z",
     "start_time": "2023-11-23T13:19:46.146090Z"
    }
   },
   "outputs": [
    {
     "data": {
      "text/plain": "0.0745214263040948"
     },
     "execution_count": 12,
     "metadata": {},
     "output_type": "execute_result"
    }
   ],
   "source": [
    "# cn mad\n",
    "cn_mad = np.mean(np.abs(cn_matrix - v_cn_matrix))\n",
    "cn_mad"
   ]
  },
  {
   "cell_type": "code",
   "execution_count": 13,
   "id": "3438df615ad4498a",
   "metadata": {
    "ExecuteTime": {
     "end_time": "2023-11-23T13:19:46.269523Z",
     "start_time": "2023-11-23T13:19:46.196136Z"
    }
   },
   "outputs": [
    {
     "data": {
      "text/plain": "0.01834831184134963"
     },
     "execution_count": 13,
     "metadata": {},
     "output_type": "execute_result"
    }
   ],
   "source": [
    "# ARI\n",
    "ari = adjusted_rand_score(v_cell_assignment, attachment_df['clone_id'])\n",
    "ari"
   ]
  },
  {
   "cell_type": "code",
   "execution_count": 14,
   "id": "41a99c2cb89dae6b",
   "metadata": {
    "ExecuteTime": {
     "end_time": "2023-11-23T13:19:46.269864Z",
     "start_time": "2023-11-23T13:19:46.211260Z"
    }
   },
   "outputs": [
    {
     "data": {
      "text/plain": "0.42669804939021866"
     },
     "execution_count": 14,
     "metadata": {},
     "output_type": "execute_result"
    }
   ],
   "source": [
    "# V-measure\n",
    "vmeas = v_measure_score(v_cell_assignment, attachment_df['clone_id'])\n",
    "vmeas"
   ]
  },
  {
   "cell_type": "markdown",
   "id": "3fac14ae",
   "metadata": {},
   "source": [
    "The score is sum_ij ( (path_a(i, j) / max_path_a) - (path_b(i, j) / max_path_b) )"
   ]
  },
  {
   "cell_type": "code",
   "execution_count": 15,
   "id": "939c7b7c5d730eff",
   "metadata": {
    "ExecuteTime": {
     "end_time": "2023-11-23T13:19:51.755506Z",
     "start_time": "2023-11-23T13:19:46.216659Z"
    }
   },
   "outputs": [
    {
     "name": "stderr",
     "output_type": "stream",
     "text": [
      "/Users/zemp/PycharmProjects/victree/src/utils/evaluation.py:160: FutureWarning: Series.__getitem__ treating keys as positions is deprecated. In a future version, integer keys will always be treated as labels (consistent with DataFrame behavior). To access a value by position, use `ser.iloc[pos]`\n",
      "  path_bij = dist_mat_b[b_assignment[i]][b_assignment[j]] / max_dist_b\n"
     ]
    },
    {
     "data": {
      "text/plain": "0.24706425263699508"
     },
     "execution_count": 15,
     "metadata": {},
     "output_type": "execute_result"
    }
   ],
   "source": [
    "from utils.evaluation import tree_matching_score\n",
    "tm_score, tm_score_mat = tree_matching_score(tree_nx, attachment_df['clone_id'], v_tree_nx, v_cell_assignment, return_single_scores=True)\n",
    "tm_score"
   ]
  },
  {
   "cell_type": "markdown",
   "id": "f62c51d345f4e5d8",
   "metadata": {},
   "source": [
    "### Plot trees"
   ]
  },
  {
   "cell_type": "code",
   "execution_count": 16,
   "id": "ebdd3b4995df46a0",
   "metadata": {
    "ExecuteTime": {
     "end_time": "2023-11-23T13:19:51.763107Z",
     "start_time": "2023-11-23T13:19:51.755039Z"
    }
   },
   "outputs": [
    {
     "name": "stderr",
     "output_type": "stream",
     "text": [
      "/var/folders/kf/j5d6g9gd4tg5n6vzhr5p_1f00000gn/T/ipykernel_21065/62779124.py:5: MatplotlibDeprecationWarning: The get_cmap function was deprecated in Matplotlib 3.7 and will be removed two minor releases later. Use ``matplotlib.colormaps[name]`` or ``matplotlib.colormaps.get_cmap(obj)`` instead.\n",
      "  color_list = cm.get_cmap(\"Set3\").colors\n"
     ]
    }
   ],
   "source": [
    "import matplotlib.pyplot as plt\n",
    "from matplotlib import cm\n",
    "from networkx.drawing.nx_agraph import graphviz_layout\n",
    "\n",
    "color_list = cm.get_cmap(\"Set3\").colors"
   ]
  },
  {
   "cell_type": "code",
   "execution_count": 17,
   "id": "3e691eb2b6cf398c",
   "metadata": {
    "ExecuteTime": {
     "end_time": "2023-11-23T13:19:51.764029Z",
     "start_time": "2023-11-23T13:19:51.760516Z"
    }
   },
   "outputs": [],
   "source": [
    "def max_agreement_conet_to_victree_nodes(conet_ca: np.ndarray, victree_ca: np.ndarray) -> list:\n",
    "    clone_map = np.empty(max(conet_ca) + 1, dtype=np.int64)    \n",
    "    for c_clone in range(clone_map.size):\n",
    "        clone_cells = np.where(conet_ca == c_clone)[0]\n",
    "        v_clones, counts = np.unique(victree_ca[clone_cells], return_counts=True)\n",
    "        # pick the victree clone which is most representative of \n",
    "        # the cells in the conet clones\n",
    "        # e.g. conet clone: 5 has cells: c1, c2, c3\n",
    "        #   victree assigns cells c1 -> 2, c2 -> 2, c3 -> 1\n",
    "        # then conet clone 5 will be mapped to victree clone 2\n",
    "        if clone_cells.size > 0:\n",
    "            clone_map[c_clone] = v_clones[np.argmax(counts)]\n",
    "        else:\n",
    "            clone_map[c_clone] = 0\n",
    "    return clone_map"
   ]
  },
  {
   "cell_type": "code",
   "execution_count": 18,
   "id": "492afe26a8ffba9a",
   "metadata": {
    "ExecuteTime": {
     "end_time": "2023-11-23T13:19:54.335162Z",
     "start_time": "2023-11-23T13:19:51.766830Z"
    }
   },
   "outputs": [
    {
     "name": "stderr",
     "output_type": "stream",
     "text": [
      "/var/folders/kf/j5d6g9gd4tg5n6vzhr5p_1f00000gn/T/ipykernel_21065/2304746386.py:5: FutureWarning: Series.__getitem__ treating keys as positions is deprecated. In a future version, integer keys will always be treated as labels (consistent with DataFrame behavior). To access a value by position, use `ser.iloc[pos]`\n",
      "  v_clones, counts = np.unique(victree_ca[clone_cells], return_counts=True)\n"
     ]
    },
    {
     "name": "stdout",
     "output_type": "stream",
     "text": [
      "number of conet clones mapped to each victree clone. victree clone '0' contains allconet empty clones\n",
      "(array([ 0,  1,  2,  3,  4,  5,  6,  7,  8,  9, 10, 11]), array([112,  51,  23,  16,   7,   5,   3,   1,   2,   1,   4,   1]))\n"
     ]
    }
   ],
   "source": [
    "# conet tree\n",
    "c_n_clones = max(attachment_df['clone_id'] + 1)\n",
    "c_pos = graphviz_layout(tree_nx, prog='dot')\n",
    "clone_counts = np.unique(attachment_df['clone_id'], return_counts=True)\n",
    "\n",
    "# make node_size_dict have all clones (even of size 0)\n",
    "full_clone_counts = np.zeros(c_n_clones)\n",
    "full_clone_counts[clone_counts[0]] = clone_counts[1]\n",
    "\n",
    "node_size_dict = {i: a for i, a in enumerate(full_clone_counts)}\n",
    "node_size = [node_size_dict[i] * 60 for i in tree_nx.nodes()]\n",
    "# list of size tree_nx.number_of_nodes(), with map to v_tree_nx node ids\n",
    "node_match = max_agreement_conet_to_victree_nodes(attachment_df['clone_id'], v_cell_assignment)\n",
    "print(\"number of conet clones mapped to each victree clone. victree clone '0' contains all\" +\n",
    "      \"conet empty clones\")\n",
    "print(np.unique(node_match, return_counts=True))\n",
    "fig, ax = plt.subplots(figsize=(20, 80), dpi=100)\n",
    "nx.draw(tree_nx, node_color=[color_list[c] for c in node_match],\n",
    "        with_labels=True, pos=c_pos,\n",
    "        #node_size=node_size\n",
    "        )\n",
    "fig.savefig(\"conet_treeplot_equalsize.png\")"
   ]
  },
  {
   "cell_type": "code",
   "execution_count": 19,
   "id": "11b3a61a2a94f6b7",
   "metadata": {
    "ExecuteTime": {
     "end_time": "2023-11-23T13:19:54.700989Z",
     "start_time": "2023-11-23T13:19:54.337691Z"
    }
   },
   "outputs": [],
   "source": [
    "# victree tree\n",
    "v_pos = graphviz_layout(v_tree_nx, prog='dot')\n",
    "clone_counts = np.unique(v_cell_assignment, return_counts=True)\n",
    "node_size_dict = {a[0]: a[1] for a in zip(*clone_counts)}\n",
    "node_size_dict[0] = 0\n",
    "node_size = [node_size_dict[i] * 25 for i in v_tree_nx.nodes()]\n",
    "fig, ax = plt.subplots(figsize=(8,8), dpi=100)\n",
    "nx.draw(v_tree_nx, node_color=color_list,\n",
    "        with_labels=True, pos=v_pos,\n",
    "        node_size=node_size\n",
    "        )\n",
    "fig.savefig(\"victree_treeplot_sized.png\")"
   ]
  }
 ],
 "metadata": {
  "kernelspec": {
   "display_name": "Python 3 (ipykernel)",
   "language": "python",
   "name": "python3"
  },
  "language_info": {
   "codemirror_mode": {
    "name": "ipython",
    "version": 3
   },
   "file_extension": ".py",
   "mimetype": "text/x-python",
   "name": "python",
   "nbconvert_exporter": "python",
   "pygments_lexer": "ipython3",
   "version": "3.10.13"
  }
 },
 "nbformat": 4,
 "nbformat_minor": 5
}
