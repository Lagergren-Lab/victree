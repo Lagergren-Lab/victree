{
 "cells": [
  {
   "cell_type": "markdown",
   "id": "57ea7205-69aa-4331-ac29-2990c25dfdfe",
   "metadata": {},
   "source": [
    "# CONET test\n",
    "> compare conet with victree result"
   ]
  },
  {
   "cell_type": "markdown",
   "id": "683f341e-07fe-44d8-8a79-2af475e5edfb",
   "metadata": {},
   "source": [
    "## Read simulated data"
   ]
  },
  {
   "cell_type": "code",
   "execution_count": 1,
   "id": "9c8ef512-1ba6-4315-a859-c8f12032cbad",
   "metadata": {
    "ExecuteTime": {
     "end_time": "2023-09-07T20:37:48.556965Z",
     "start_time": "2023-09-07T20:37:42.253784Z"
    }
   },
   "outputs": [
    {
     "name": "stderr",
     "output_type": "stream",
     "text": [
      "/Users/zemp/PycharmProjects/victree/venv/lib/python3.10/site-packages/umap/distances.py:1063: NumbaDeprecationWarning: The 'nopython' keyword argument was not supplied to the 'numba.jit' decorator. The implicit default value for this argument is currently False, but it will be changed to True in Numba 0.59.0. See https://numba.readthedocs.io/en/stable/reference/deprecation.html#deprecation-of-object-mode-fall-back-behaviour-when-using-jit for details.\n",
      "  @numba.jit()\n",
      "/Users/zemp/PycharmProjects/victree/venv/lib/python3.10/site-packages/umap/distances.py:1071: NumbaDeprecationWarning: The 'nopython' keyword argument was not supplied to the 'numba.jit' decorator. The implicit default value for this argument is currently False, but it will be changed to True in Numba 0.59.0. See https://numba.readthedocs.io/en/stable/reference/deprecation.html#deprecation-of-object-mode-fall-back-behaviour-when-using-jit for details.\n",
      "  @numba.jit()\n",
      "/Users/zemp/PycharmProjects/victree/venv/lib/python3.10/site-packages/umap/distances.py:1086: NumbaDeprecationWarning: The 'nopython' keyword argument was not supplied to the 'numba.jit' decorator. The implicit default value for this argument is currently False, but it will be changed to True in Numba 0.59.0. See https://numba.readthedocs.io/en/stable/reference/deprecation.html#deprecation-of-object-mode-fall-back-behaviour-when-using-jit for details.\n",
      "  @numba.jit()\n",
      "/Users/zemp/PycharmProjects/victree/venv/lib/python3.10/site-packages/umap/umap_.py:660: NumbaDeprecationWarning: The 'nopython' keyword argument was not supplied to the 'numba.jit' decorator. The implicit default value for this argument is currently False, but it will be changed to True in Numba 0.59.0. See https://numba.readthedocs.io/en/stable/reference/deprecation.html#deprecation-of-object-mode-fall-back-behaviour-when-using-jit for details.\n",
      "  @numba.jit()\n"
     ]
    }
   ],
   "source": [
    "import scgenome.plotting as pl\n",
    "import anndata\n",
    "import pandas as pd"
   ]
  },
  {
   "cell_type": "code",
   "execution_count": 2,
   "id": "f511bc55-7ed1-4e69-a572-5a36ce79ad5b",
   "metadata": {
    "ExecuteTime": {
     "end_time": "2023-09-07T20:37:48.588240Z",
     "start_time": "2023-09-07T20:37:48.560249Z"
    }
   },
   "outputs": [
    {
     "name": "stderr",
     "output_type": "stream",
     "text": [
      "/Users/zemp/PycharmProjects/victree/venv/lib/python3.10/site-packages/anndata/_core/anndata.py:117: ImplicitModificationWarning: Transforming to str index.\n",
      "  warnings.warn(\"Transforming to str index.\", ImplicitModificationWarning)\n"
     ]
    }
   ],
   "source": [
    "adata = anndata.read_h5ad(\"/Users/zemp/PycharmProjects/victree/datasets/simul_k5a7n300m2012e10-1000d10mt1-10-2500-50.h5ad\")"
   ]
  },
  {
   "cell_type": "code",
   "execution_count": 3,
   "id": "bfd9b472-a678-44dd-bc32-4ea000867b7e",
   "metadata": {
    "ExecuteTime": {
     "end_time": "2023-09-07T20:37:48.592739Z",
     "start_time": "2023-09-07T20:37:48.589386Z"
    }
   },
   "outputs": [
    {
     "data": {
      "text/plain": "Layers with keys: copy, state"
     },
     "execution_count": 3,
     "metadata": {},
     "output_type": "execute_result"
    }
   ],
   "source": [
    "adata.layers"
   ]
  },
  {
   "cell_type": "code",
   "execution_count": 4,
   "id": "42104975-00a2-4054-b494-59db188def99",
   "metadata": {
    "ExecuteTime": {
     "end_time": "2023-09-07T20:37:48.943940Z",
     "start_time": "2023-09-07T20:37:48.592980Z"
    }
   },
   "outputs": [
    {
     "data": {
      "text/plain": "{'fig': <Figure size 640x480 with 5 Axes>,\n 'axes': array([[<Axes: >, <Axes: >],\n        [<Axes: xlabel='chromosome'>, <Axes: >]], dtype=object),\n 'adata': View of AnnData object with n_obs × n_vars = 300 × 2012\n     obs: 'clone', 'baseline'\n     var: 'chr', 'start', 'end'\n     layers: 'copy', 'state',\n 'im': <matplotlib.image.AxesImage at 0x28c513bb0>,\n 'legend_info': {'ax_legend': <Axes: >,\n  'legend': <matplotlib.legend.Legend at 0x28c5f8490>},\n 'annotation_info': {}}"
     },
     "execution_count": 4,
     "metadata": {},
     "output_type": "execute_result"
    },
    {
     "data": {
      "text/plain": "<Figure size 640x480 with 5 Axes>",
      "image/png": "[encoded data removed]"
     },
     "metadata": {},
     "output_type": "display_data"
    }
   ],
   "source": [
    "pl.plot_cell_cn_matrix_fig(adata, 'state', cell_order_fields=['clone'], max_cn=7)"
   ]
  },
  {
   "cell_type": "markdown",
   "id": "913b6e5d-a85e-416f-b15c-cc66ad477609",
   "metadata": {},
   "source": [
    "## Candidate breakpoints\n",
    "\n",
    "**ground truth candidate**"
   ]
  },
  {
   "cell_type": "code",
   "execution_count": 5,
   "id": "8c2b64b9-d6e5-4cae-ad2a-ea6ed897d758",
   "metadata": {
    "ExecuteTime": {
     "end_time": "2023-09-07T20:37:48.955653Z",
     "start_time": "2023-09-07T20:37:48.950048Z"
    }
   },
   "outputs": [],
   "source": [
    "# create dataframe chr, start, end, c1, c2, ..., cN\n",
    "adata.obs_names = pd.Series(['c' + str(i).zfill(4) for i in range(adata.n_obs)])\n",
    "obs_df = adata.to_df(layer='copy').transpose()"
   ]
  },
  {
   "cell_type": "code",
   "execution_count": 6,
   "id": "4ecc3c1c-04b3-4928-b4bd-7877e055eacc",
   "metadata": {
    "ExecuteTime": {
     "end_time": "2023-09-07T20:37:49.095120Z",
     "start_time": "2023-09-07T20:37:48.961012Z"
    }
   },
   "outputs": [
    {
     "data": {
      "text/plain": "   c0000  c0001  c0003  c0004  c0007\n0      1      1      1      1      1\n1      0      0      0      0      0\n2      0      0      0      0      0\n3      0      0      0      0      0\n4      0      0      0      0      0",
      "text/html": "<div>\n<style scoped>\n    .dataframe tbody tr th:only-of-type {\n        vertical-align: middle;\n    }\n\n    .dataframe tbody tr th {\n        vertical-align: top;\n    }\n\n    .dataframe thead th {\n        text-align: right;\n    }\n</style>\n<table border=\"1\" class=\"dataframe\">\n  <thead>\n    <tr style=\"text-align: right;\">\n      <th></th>\n      <th>c0000</th>\n      <th>c0001</th>\n      <th>c0003</th>\n      <th>c0004</th>\n      <th>c0007</th>\n    </tr>\n  </thead>\n  <tbody>\n    <tr>\n      <th>0</th>\n      <td>1</td>\n      <td>1</td>\n      <td>1</td>\n      <td>1</td>\n      <td>1</td>\n    </tr>\n    <tr>\n      <th>1</th>\n      <td>0</td>\n      <td>0</td>\n      <td>0</td>\n      <td>0</td>\n      <td>0</td>\n    </tr>\n    <tr>\n      <th>2</th>\n      <td>0</td>\n      <td>0</td>\n      <td>0</td>\n      <td>0</td>\n      <td>0</td>\n    </tr>\n    <tr>\n      <th>3</th>\n      <td>0</td>\n      <td>0</td>\n      <td>0</td>\n      <td>0</td>\n      <td>0</td>\n    </tr>\n    <tr>\n      <th>4</th>\n      <td>0</td>\n      <td>0</td>\n      <td>0</td>\n      <td>0</td>\n      <td>0</td>\n    </tr>\n  </tbody>\n</table>\n</div>"
     },
     "execution_count": 6,
     "metadata": {},
     "output_type": "execute_result"
    }
   ],
   "source": [
    "# create dataframe chr, start, end, cn1, cn2, cnK\n",
    "# to then transform into candidate_brkpt\n",
    "clone_cn = adata.to_df(layer='state').drop_duplicates().transpose()\n",
    "# possible breakpoints:\n",
    "#   1. cn change\n",
    "for c in clone_cn.columns:\n",
    "    clone_cn[c] = (clone_cn[c].diff() != 0).astype(int)\n",
    "\n",
    "clone_cn.head()"
   ]
  },
  {
   "cell_type": "code",
   "execution_count": 7,
   "id": "cbe01eba-ce1f-4173-934c-faef364fee04",
   "metadata": {
    "ExecuteTime": {
     "end_time": "2023-09-07T20:37:49.147968Z",
     "start_time": "2023-09-07T20:37:49.096929Z"
    }
   },
   "outputs": [
    {
     "data": {
      "text/plain": "  chr    start      end  candidate_brkp     c0000     c0001     c0002  \\\n0   1        0  1549868               1  1.804362  1.978042  1.997247   \n1   1  1549868  3099736               0  1.924912  1.920113  2.073836   \n2   1  3099736  4649604               0  1.608191  1.750273  1.949237   \n3   1  4649604  6199472               0  1.954437  1.922123  1.827253   \n4   1  6199472  7749340               0  2.169822  2.034965  1.841820   \n\n      c0003     c0004     c0005  ...     c0290     c0291     c0292     c0293  \\\n0  2.076500  1.728144  1.908139  ...  1.997477  1.735741  1.932484  2.044921   \n1  1.859172  1.902410  1.816983  ...  1.792584  1.893874  1.996491  2.277385   \n2  2.052145  1.990869  1.640945  ...  1.915367  1.593306  2.121506  2.319390   \n3  1.763524  1.806883  1.667633  ...  1.715031  1.733487  1.795792  2.224655   \n4  2.319825  2.020610  2.029629  ...  1.920180  1.922212  1.864454  2.280417   \n\n      c0294     c0295     c0296     c0297     c0298     c0299  \n0  2.105437  2.225175  2.117285  1.873872  2.126660  1.982203  \n1  2.070604  1.969832  2.119550  2.109384  2.247047  2.264290  \n2  2.206440  2.216484  1.891138  1.987253  2.015648  2.043902  \n3  1.750854  1.907336  1.940248  2.092002  1.884669  2.127871  \n4  1.883932  1.891093  2.008379  1.672374  1.922325  1.846295  \n\n[5 rows x 304 columns]",
      "text/html": "<div>\n<style scoped>\n    .dataframe tbody tr th:only-of-type {\n        vertical-align: middle;\n    }\n\n    .dataframe tbody tr th {\n        vertical-align: top;\n    }\n\n    .dataframe thead th {\n        text-align: right;\n    }\n</style>\n<table border=\"1\" class=\"dataframe\">\n  <thead>\n    <tr style=\"text-align: right;\">\n      <th></th>\n      <th>chr</th>\n      <th>start</th>\n      <th>end</th>\n      <th>candidate_brkp</th>\n      <th>c0000</th>\n      <th>c0001</th>\n      <th>c0002</th>\n      <th>c0003</th>\n      <th>c0004</th>\n      <th>c0005</th>\n      <th>...</th>\n      <th>c0290</th>\n      <th>c0291</th>\n      <th>c0292</th>\n      <th>c0293</th>\n      <th>c0294</th>\n      <th>c0295</th>\n      <th>c0296</th>\n      <th>c0297</th>\n      <th>c0298</th>\n      <th>c0299</th>\n    </tr>\n  </thead>\n  <tbody>\n    <tr>\n      <th>0</th>\n      <td>1</td>\n      <td>0</td>\n      <td>1549868</td>\n      <td>1</td>\n      <td>1.804362</td>\n      <td>1.978042</td>\n      <td>1.997247</td>\n      <td>2.076500</td>\n      <td>1.728144</td>\n      <td>1.908139</td>\n      <td>...</td>\n      <td>1.997477</td>\n      <td>1.735741</td>\n      <td>1.932484</td>\n      <td>2.044921</td>\n      <td>2.105437</td>\n      <td>2.225175</td>\n      <td>2.117285</td>\n      <td>1.873872</td>\n      <td>2.126660</td>\n      <td>1.982203</td>\n    </tr>\n    <tr>\n      <th>1</th>\n      <td>1</td>\n      <td>1549868</td>\n      <td>3099736</td>\n      <td>0</td>\n      <td>1.924912</td>\n      <td>1.920113</td>\n      <td>2.073836</td>\n      <td>1.859172</td>\n      <td>1.902410</td>\n      <td>1.816983</td>\n      <td>...</td>\n      <td>1.792584</td>\n      <td>1.893874</td>\n      <td>1.996491</td>\n      <td>2.277385</td>\n      <td>2.070604</td>\n      <td>1.969832</td>\n      <td>2.119550</td>\n      <td>2.109384</td>\n      <td>2.247047</td>\n      <td>2.264290</td>\n    </tr>\n    <tr>\n      <th>2</th>\n      <td>1</td>\n      <td>3099736</td>\n      <td>4649604</td>\n      <td>0</td>\n      <td>1.608191</td>\n      <td>1.750273</td>\n      <td>1.949237</td>\n      <td>2.052145</td>\n      <td>1.990869</td>\n      <td>1.640945</td>\n      <td>...</td>\n      <td>1.915367</td>\n      <td>1.593306</td>\n      <td>2.121506</td>\n      <td>2.319390</td>\n      <td>2.206440</td>\n      <td>2.216484</td>\n      <td>1.891138</td>\n      <td>1.987253</td>\n      <td>2.015648</td>\n      <td>2.043902</td>\n    </tr>\n    <tr>\n      <th>3</th>\n      <td>1</td>\n      <td>4649604</td>\n      <td>6199472</td>\n      <td>0</td>\n      <td>1.954437</td>\n      <td>1.922123</td>\n      <td>1.827253</td>\n      <td>1.763524</td>\n      <td>1.806883</td>\n      <td>1.667633</td>\n      <td>...</td>\n      <td>1.715031</td>\n      <td>1.733487</td>\n      <td>1.795792</td>\n      <td>2.224655</td>\n      <td>1.750854</td>\n      <td>1.907336</td>\n      <td>1.940248</td>\n      <td>2.092002</td>\n      <td>1.884669</td>\n      <td>2.127871</td>\n    </tr>\n    <tr>\n      <th>4</th>\n      <td>1</td>\n      <td>6199472</td>\n      <td>7749340</td>\n      <td>0</td>\n      <td>2.169822</td>\n      <td>2.034965</td>\n      <td>1.841820</td>\n      <td>2.319825</td>\n      <td>2.020610</td>\n      <td>2.029629</td>\n      <td>...</td>\n      <td>1.920180</td>\n      <td>1.922212</td>\n      <td>1.864454</td>\n      <td>2.280417</td>\n      <td>1.883932</td>\n      <td>1.891093</td>\n      <td>2.008379</td>\n      <td>1.672374</td>\n      <td>1.922325</td>\n      <td>1.846295</td>\n    </tr>\n  </tbody>\n</table>\n<p>5 rows × 304 columns</p>\n</div>"
     },
     "execution_count": 7,
     "metadata": {},
     "output_type": "execute_result"
    }
   ],
   "source": [
    "candidate_breakpoints_df = pd.concat([adata.var[['chr', 'start', 'end']], \n",
    "                                      clone_cn.prod(axis=1).rename('candidate_brkp')], axis=1)\n",
    "conet_df = pd.concat([candidate_breakpoints_df, obs_df], axis=1)\n",
    "conet_df.head()"
   ]
  },
  {
   "cell_type": "code",
   "execution_count": 8,
   "outputs": [],
   "source": [
    "chr_codes = {str(i): i for i in range(1, 23)}\n",
    "chr_codes['X'] = 23\n",
    "chr_codes['Y'] = 24\n",
    "conet_df['chr'] = conet_df['chr'].map(chr_codes)\n",
    "conet_df['width'] = conet_df['end'] - conet_df['start']"
   ],
   "metadata": {
    "collapsed": false,
    "ExecuteTime": {
     "end_time": "2023-09-07T20:37:50.002534Z",
     "start_time": "2023-09-07T20:37:49.123885Z"
    }
   },
   "id": "eccd1124bb7cc11f"
  },
  {
   "cell_type": "code",
   "execution_count": 9,
   "outputs": [
    {
     "data": {
      "text/plain": "0       False\n1       False\n2       False\n3       False\n4       False\n        ...  \n2007    False\n2008    False\n2009    False\n2010    False\n2011    False\nLength: 2012, dtype: bool"
     },
     "execution_count": 9,
     "metadata": {},
     "output_type": "execute_result"
    }
   ],
   "source": [
    "(obs_df.diff().abs() > 3).sum(axis=1) > (.8 * obs_df.shape[1])"
   ],
   "metadata": {
    "collapsed": false,
    "ExecuteTime": {
     "end_time": "2023-09-07T20:37:50.014534Z",
     "start_time": "2023-09-07T20:37:49.142702Z"
    }
   },
   "id": "7781821a6c8e3656"
  },
  {
   "cell_type": "code",
   "execution_count": 10,
   "outputs": [
    {
     "name": "stdout",
     "output_type": "stream",
     "text": [
      "beg-end chr new candidates: 48\n"
     ]
    }
   ],
   "source": [
    "#   2. beginning and end of chromosomes\n",
    "beg_end_chr_loc = (conet_df['chr'].shift(1) != conet_df['chr']) | (conet_df['chr'].shift(-1) != conet_df['chr'])\n",
    "conet_df.loc[beg_end_chr_loc, 'candidate_brkp'] = 1\n",
    "print(f\"beg-end chr new candidates: {beg_end_chr_loc.sum()}\")"
   ],
   "metadata": {
    "collapsed": false,
    "ExecuteTime": {
     "end_time": "2023-09-07T20:37:50.054117Z",
     "start_time": "2023-09-07T20:37:49.166982Z"
    }
   },
   "id": "dad008938b567e8e"
  },
  {
   "cell_type": "code",
   "execution_count": 11,
   "outputs": [
    {
     "name": "stdout",
     "output_type": "stream",
     "text": [
      "high count diff new candidates: 4\n"
     ]
    }
   ],
   "source": [
    "#   3. high corr counts abs diff evidence (> 80% of cells have diff > 3)\n",
    "high_diff_mask = (obs_df.diff().abs() > 3).sum(axis=1) > (.3 * obs_df.shape[1])\n",
    "conet_df.loc[high_diff_mask, 'candidate_brkp'] = 1\n",
    "print(f\"high count diff new candidates: {high_diff_mask.sum()}\")"
   ],
   "metadata": {
    "collapsed": false,
    "ExecuteTime": {
     "end_time": "2023-09-07T20:37:50.054663Z",
     "start_time": "2023-09-07T20:37:49.174836Z"
    }
   },
   "id": "31e31f6df9e2c036"
  },
  {
   "cell_type": "code",
   "execution_count": 12,
   "outputs": [
    {
     "name": "stdout",
     "output_type": "stream",
     "text": [
      "shift to right new candidates: 50\n"
     ]
    }
   ],
   "source": [
    "#   4. locus to the right of previously computed candidate\n",
    "shifted_cand_brkp_mask = conet_df['candidate_brkp'].shift(1, fill_value=0) == 1\n",
    "conet_df.loc[shifted_cand_brkp_mask, 'candidate_brkp'] = 1\n",
    "print(f\"shift to right new candidates: {shifted_cand_brkp_mask.sum()}\")"
   ],
   "metadata": {
    "collapsed": false,
    "ExecuteTime": {
     "end_time": "2023-09-07T20:37:50.067182Z",
     "start_time": "2023-09-07T20:37:49.185968Z"
    }
   },
   "id": "76b6844626fd9bd0"
  },
  {
   "cell_type": "code",
   "execution_count": 13,
   "outputs": [],
   "source": [
    "# save file csv\n",
    "conet_df.to_csv(\"/Users/zemp/phd/msk/conet-exp/corr_counts.csv\", index=False)"
   ],
   "metadata": {
    "collapsed": false,
    "ExecuteTime": {
     "end_time": "2023-09-07T20:37:50.152313Z",
     "start_time": "2023-09-07T20:37:49.192255Z"
    }
   },
   "id": "3b33025691ebdeeb"
  },
  {
   "cell_type": "markdown",
   "id": "1f1747c2-ce9e-4cac-8d92-1df86bbe2551",
   "metadata": {},
   "source": [
    "**HMMcopy pre-processing**"
   ]
  },
  {
   "cell_type": "markdown",
   "id": "b3691f3c-dd66-4c7b-8d34-13497b014433",
   "metadata": {},
   "source": [
    "## Run CONET"
   ]
  },
  {
   "cell_type": "code",
   "execution_count": 14,
   "id": "b39d586f-cbcf-4204-ab18-3383f990146d",
   "metadata": {
    "ExecuteTime": {
     "end_time": "2023-09-07T20:37:50.297357Z",
     "start_time": "2023-09-07T20:37:49.991289Z"
    }
   },
   "outputs": [],
   "source": [
    "bin_dir = \"/Users/zemp/phd/scilife/cpt_experiments/CONET/CONET\"\n",
    "from conet import CorrectedCounts, DataConverter\n",
    "\n",
    "cc = CorrectedCounts(conet_df)\n",
    "DataConverter(event_length_normalizer=3095677412).create_CoNET_input_files(bin_dir, corrected_counts=cc)"
   ]
  },
  {
   "cell_type": "markdown",
   "id": "80e927f4-8204-4c7f-82d4-24bd1d89d523",
   "metadata": {},
   "source": [
    "## Load VICTREE output"
   ]
  },
  {
   "cell_type": "markdown",
   "id": "2b0ea824-c24b-4789-b3d5-23de6d32e272",
   "metadata": {},
   "source": [
    "## Compare with ARI score"
   ]
  },
  {
   "cell_type": "code",
   "execution_count": 14,
   "id": "a10f8bd4-eeff-4cf9-8d4c-5506ceda9bc9",
   "metadata": {
    "ExecuteTime": {
     "end_time": "2023-09-07T20:37:50.307395Z",
     "start_time": "2023-09-07T20:37:50.203197Z"
    }
   },
   "outputs": [],
   "source": []
  }
 ],
 "metadata": {
  "kernelspec": {
   "display_name": "Python 3 (ipykernel)",
   "language": "python",
   "name": "python3"
  },
  "language_info": {
   "codemirror_mode": {
    "name": "ipython",
    "version": 3
   },
   "file_extension": ".py",
   "mimetype": "text/x-python",
   "name": "python",
   "nbconvert_exporter": "python",
   "pygments_lexer": "ipython3",
   "version": "3.10.12"
  }
 },
 "nbformat": 4,
 "nbformat_minor": 5
}
