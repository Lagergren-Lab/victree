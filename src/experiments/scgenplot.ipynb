{
 "cells": [
  {
   "cell_type": "code",
   "execution_count": 1,
   "id": "initial_id",
   "metadata": {
    "collapsed": true,
    "ExecuteTime": {
     "end_time": "2023-10-17T12:09:53.177318Z",
     "start_time": "2023-10-17T12:09:44.346331Z"
    }
   },
   "outputs": [],
   "source": [
    "import scgenome.plotting as pl\n",
    "import anndata"
   ]
  },
  {
   "cell_type": "code",
   "execution_count": 2,
   "id": "23b5463e5fc7615b",
   "metadata": {
    "ExecuteTime": {
     "end_time": "2023-10-17T12:09:54.078779Z",
     "start_time": "2023-10-17T12:09:54.048269Z"
    }
   },
   "outputs": [
    {
     "name": "stderr",
     "output_type": "stream",
     "text": [
      "/home/zemp/opt/miniconda3/envs/victree-env/lib/python3.10/site-packages/anndata/_core/anndata.py:183: ImplicitModificationWarning: Transforming to str index.\n",
      "  warnings.warn(\"Transforming to str index.\", ImplicitModificationWarning)\n"
     ]
    }
   ],
   "source": [
    "# file_path = \"/Users/zemp/phd/scilife/mskcc_data/MM_GEO/patient_MM-03.h5ad\"\n",
    "# file_path = \"/Users/zemp/PycharmProjects/victree/datasets/simul_k5a7n300m2012e50-4000d5mt1-2000-500-50.h5ad\"\n",
    "file_path = \"../../datasets/simul_k5a7n300m5004e200-100000d3mt1-2000-500-50.h5ad\"\n",
    "ad = anndata.read_h5ad(file_path)"
   ]
  },
  {
   "cell_type": "code",
   "execution_count": 3,
   "id": "8ab1a54f",
   "metadata": {
    "ExecuteTime": {
     "end_time": "2023-10-17T12:09:53.234158Z",
     "start_time": "2023-10-17T12:09:53.222411Z"
    }
   },
   "outputs": [],
   "source": [
    "## changes chromosome names from 'chr3' to '3'\n",
    "if 'chr' in str(ad.var['chr'].iloc[0]):\n",
    "    chr_codes = {c: c[3:] for c in ad.var['chr'].unique()}\n",
    "    ad.var['chr'] = ad.var['chr'].map(chr_codes)"
   ]
  },
  {
   "cell_type": "code",
   "execution_count": 3,
   "id": "88919841",
   "metadata": {},
   "outputs": [],
   "source": []
  },
  {
   "cell_type": "code",
   "execution_count": 4,
   "id": "ef1fcea58c5c5818",
   "metadata": {
    "ExecuteTime": {
     "end_time": "2023-10-17T12:09:57.446473Z",
     "start_time": "2023-10-17T12:09:56.424531Z"
    }
   },
   "outputs": [
    {
     "ename": "NameError",
     "evalue": "name 'c' is not defined",
     "output_type": "error",
     "traceback": [
      "\u001B[0;31m---------------------------------------------------------------------------\u001B[0m",
      "\u001B[0;31mNameError\u001B[0m                                 Traceback (most recent call last)",
      "Cell \u001B[0;32mIn[4], line 10\u001B[0m\n\u001B[1;32m      7\u001B[0m     annotation_fields \u001B[38;5;241m=\u001B[39m [\u001B[38;5;124m'\u001B[39m\u001B[38;5;124mcluster_id\u001B[39m\u001B[38;5;124m'\u001B[39m]\n\u001B[1;32m      8\u001B[0m     cell_order_fields \u001B[38;5;241m=\u001B[39m [\u001B[38;5;124m'\u001B[39m\u001B[38;5;124mcluster_id\u001B[39m\u001B[38;5;124m'\u001B[39m]\n\u001B[0;32m---> 10\u001B[0m g \u001B[38;5;241m=\u001B[39m \u001B[43mpl\u001B[49m\u001B[38;5;241;43m.\u001B[39;49m\u001B[43mplot_cell_cn_matrix_fig\u001B[49m\u001B[43m(\u001B[49m\u001B[43mad\u001B[49m\u001B[43m,\u001B[49m\u001B[43m \u001B[49m\u001B[38;5;124;43m'\u001B[39;49m\u001B[38;5;124;43mstate\u001B[39;49m\u001B[38;5;124;43m'\u001B[39;49m\u001B[43m,\u001B[49m\u001B[43m \u001B[49m\u001B[43mmax_cn\u001B[49m\u001B[38;5;241;43m=\u001B[39;49m\u001B[38;5;241;43m6\u001B[39;49m\u001B[43m,\u001B[49m\u001B[43m \u001B[49m\u001B[43mcell_order_fields\u001B[49m\u001B[38;5;241;43m=\u001B[39;49m\u001B[43mcell_order_fields\u001B[49m\u001B[43m,\u001B[49m\u001B[43m \u001B[49m\u001B[43mannotation_fields\u001B[49m\u001B[38;5;241;43m=\u001B[39;49m\u001B[43mannotation_fields\u001B[49m\u001B[43m)\u001B[49m\n",
      "File \u001B[0;32m~/opt/miniconda3/envs/victree-env/lib/python3.10/site-packages/scgenome/plotting/heatmap.py:379\u001B[0m, in \u001B[0;36mplot_cell_cn_matrix_fig\u001B[0;34m(adata, layer_name, tree, cell_order_fields, annotation_fields, var_annotation_fields, fig, raw, vmin, vmax, cmap, max_cn, show_cell_ids, show_subsets)\u001B[0m\n\u001B[1;32m    375\u001B[0m     num_annotations \u001B[38;5;241m+\u001B[39m\u001B[38;5;241m=\u001B[39m \u001B[38;5;241m2\u001B[39m\n\u001B[1;32m    377\u001B[0m num_var_annotations \u001B[38;5;241m=\u001B[39m \u001B[38;5;28mlen\u001B[39m(var_annotation_fields)\n\u001B[0;32m--> 379\u001B[0m fig_main, fig_legends \u001B[38;5;241m=\u001B[39m fig\u001B[38;5;241m.\u001B[39msubfigures(nrows\u001B[38;5;241m=\u001B[39m\u001B[38;5;241m2\u001B[39m, ncols\u001B[38;5;241m=\u001B[39m\u001B[38;5;241m1\u001B[39m, height_ratios\u001B[38;5;241m=\u001B[39m[\u001B[38;5;241m5\u001B[39m, \u001B[38;5;241m1\u001B[39m], squeeze\u001B[38;5;241m=\u001B[39m\u001B[38;5;28;01mTrue\u001B[39;00m, figsize\u001B[38;5;241m=\u001B[39m\u001B[43mc\u001B[49m(\u001B[38;5;241m20\u001B[39m, \u001B[38;5;241m20\u001B[39m))\n\u001B[1;32m    380\u001B[0m fig_legends\u001B[38;5;241m.\u001B[39mpatch\u001B[38;5;241m.\u001B[39mset_alpha(\u001B[38;5;241m0.0\u001B[39m)\n\u001B[1;32m    382\u001B[0m width_ratios \u001B[38;5;241m=\u001B[39m [\u001B[38;5;241m0.5\u001B[39m] \u001B[38;5;241m*\u001B[39m num_phylo \u001B[38;5;241m+\u001B[39m [\u001B[38;5;241m1\u001B[39m] \u001B[38;5;241m+\u001B[39m [\u001B[38;5;241m0.005\u001B[39m] \u001B[38;5;241m+\u001B[39m [\u001B[38;5;241m0.02\u001B[39m] \u001B[38;5;241m*\u001B[39m num_annotations\n",
      "\u001B[0;31mNameError\u001B[0m: name 'c' is not defined"
     ]
    },
    {
     "data": {
      "text/plain": "<Figure size 640x480 with 0 Axes>"
     },
     "metadata": {},
     "output_type": "display_data"
    }
   ],
   "source": [
    "annotation_fields = None\n",
    "cell_order_fields = None\n",
    "if 'clone' in ad.obs:\n",
    "    annotation_fields = ['baseline', 'clone']\n",
    "    cell_order_fields = ['clone']\n",
    "elif 'cluster_id' in ad.obs:\n",
    "    annotation_fields = ['cluster_id']\n",
    "    cell_order_fields = ['cluster_id']\n",
    "\n",
    "g = pl.plot_cell_cn_matrix_fig(ad, 'state', max_cn=6, cell_order_fields=cell_order_fields, annotation_fields=annotation_fields)\n"
   ]
  },
  {
   "cell_type": "code",
   "execution_count": null,
   "outputs": [],
   "source": [
    "from io import StringIO\n",
    "from utils.tree_utils import parse_newick, tree_to_newick\n",
    "from networkx.drawing.nx_agraph import graphviz_layout\n",
    "import networkx as nx\n",
    "\n",
    "if 'tree_newick' in ad.uns:\n",
    "    tree_newick =str(ad.uns['tree-newick'][0], 'UTF-8')\n",
    "    tree = parse_newick(StringIO(tree_newick))\n",
    "    pos = graphviz_layout(tree, prog='dot')\n",
    "    nx.draw(tree, node_color=list(g['annotation_info']['clone']['level_colors'].values()), with_labels=True, pos=pos)"
   ],
   "metadata": {
    "collapsed": false,
    "ExecuteTime": {
     "end_time": "2023-10-17T12:09:58.877510Z",
     "start_time": "2023-10-17T12:09:57.451914Z"
    }
   },
   "id": "69abc0eaa8fcf52"
  },
  {
   "cell_type": "code",
   "execution_count": null,
   "id": "f34a562be1b835dd",
   "metadata": {
    "ExecuteTime": {
     "end_time": "2023-10-17T11:59:13.147322Z",
     "start_time": "2023-10-17T11:59:13.082983Z"
    }
   },
   "outputs": [],
   "source": [
    "# ad.write_csvs(\"/Users/zemp/PycharmProjects/victree/datasets/corr_reads.csv\")"
   ]
  },
  {
   "cell_type": "code",
   "execution_count": null,
   "id": "243ebdbc85899ccc",
   "metadata": {
    "pycharm": {
     "name": "#%%\n"
    }
   },
   "outputs": [],
   "source": []
  }
 ],
 "metadata": {
  "kernelspec": {
   "display_name": "Python 3 (ipykernel)",
   "language": "python",
   "name": "python3"
  },
  "language_info": {
   "codemirror_mode": {
    "name": "ipython",
    "version": 3
   },
   "file_extension": ".py",
   "mimetype": "text/x-python",
   "name": "python",
   "nbconvert_exporter": "python",
   "pygments_lexer": "ipython3",
   "version": "3.10.13"
  }
 },
 "nbformat": 4,
 "nbformat_minor": 5
}