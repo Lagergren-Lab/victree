{
 "cells": [
  {
   "cell_type": "markdown",
   "source": [
    "### Simulates copy number sequences through the TSMHMM model, clusters the data using a GMM and plots the associated lower bound for different K"
   ],
   "metadata": {
    "collapsed": false
   }
  },
  {
   "cell_type": "code",
   "execution_count": 1,
   "outputs": [
    {
     "name": "stderr",
     "output_type": "stream",
     "text": [
      "/Users/haraldme/miniconda3/envs/victree/lib/python3.10/site-packages/umap/distances.py:1063: NumbaDeprecationWarning: \u001B[1mThe 'nopython' keyword argument was not supplied to the 'numba.jit' decorator. The implicit default value for this argument is currently False, but it will be changed to True in Numba 0.59.0. See https://numba.readthedocs.io/en/stable/reference/deprecation.html#deprecation-of-object-mode-fall-back-behaviour-when-using-jit for details.\u001B[0m\n",
      "  @numba.jit()\n",
      "/Users/haraldme/miniconda3/envs/victree/lib/python3.10/site-packages/umap/distances.py:1071: NumbaDeprecationWarning: \u001B[1mThe 'nopython' keyword argument was not supplied to the 'numba.jit' decorator. The implicit default value for this argument is currently False, but it will be changed to True in Numba 0.59.0. See https://numba.readthedocs.io/en/stable/reference/deprecation.html#deprecation-of-object-mode-fall-back-behaviour-when-using-jit for details.\u001B[0m\n",
      "  @numba.jit()\n",
      "/Users/haraldme/miniconda3/envs/victree/lib/python3.10/site-packages/umap/distances.py:1086: NumbaDeprecationWarning: \u001B[1mThe 'nopython' keyword argument was not supplied to the 'numba.jit' decorator. The implicit default value for this argument is currently False, but it will be changed to True in Numba 0.59.0. See https://numba.readthedocs.io/en/stable/reference/deprecation.html#deprecation-of-object-mode-fall-back-behaviour-when-using-jit for details.\u001B[0m\n",
      "  @numba.jit()\n",
      "/Users/haraldme/miniconda3/envs/victree/lib/python3.10/site-packages/umap/umap_.py:660: NumbaDeprecationWarning: \u001B[1mThe 'nopython' keyword argument was not supplied to the 'numba.jit' decorator. The implicit default value for this argument is currently False, but it will be changed to True in Numba 0.59.0. See https://numba.readthedocs.io/en/stable/reference/deprecation.html#deprecation-of-object-mode-fall-back-behaviour-when-using-jit for details.\u001B[0m\n",
      "  @numba.jit()\n"
     ]
    }
   ],
   "source": [
    "import matplotlib.pyplot as plt\n",
    "import numpy as np\n",
    "import sklearn.mixture\n",
    "import simul\n",
    "import os\n",
    "\n",
    "from utils.config import Config"
   ],
   "metadata": {
    "collapsed": false
   }
  },
  {
   "cell_type": "code",
   "execution_count": 3,
   "metadata": {
    "collapsed": false,
    "jupyter": {
     "outputs_hidden": false
    }
   },
   "outputs": [],
   "source": [
    "true_K = 10\n",
    "M = 3000\n",
    "N = 500\n",
    "A = 7\n",
    "config = Config(n_nodes=true_K, n_cells=N, chain_length=M, n_states=A)\n",
    "output_simul = simul.simulate_full_dataset(config, store_anndata=False)\n",
    "CN_profiles = output_simul['c']\n",
    "cell_to_clone_assignments = output_simul['z']\n",
    "observations = np.zeros((N, M))\n",
    "for n in range(N):\n",
    "    observations[n, :] = CN_profiles[cell_to_clone_assignments[n]].numpy()"
   ]
  },
  {
   "cell_type": "code",
   "execution_count": null,
   "outputs": [],
   "source": [
    "observations"
   ],
   "metadata": {
    "collapsed": false
   }
  },
  {
   "cell_type": "code",
   "execution_count": 5,
   "outputs": [
    {
     "name": "stderr",
     "output_type": "stream",
     "text": [
      "/Users/haraldme/miniconda3/envs/victree/lib/python3.10/site-packages/sklearn/mixture/_base.py:146: ConvergenceWarning: Number of distinct clusters (10) found smaller than n_clusters (11). Possibly due to duplicate points in X.\n",
      "  .fit(X)\n",
      "/Users/haraldme/miniconda3/envs/victree/lib/python3.10/site-packages/sklearn/mixture/_base.py:146: ConvergenceWarning: Number of distinct clusters (10) found smaller than n_clusters (11). Possibly due to duplicate points in X.\n",
      "  .fit(X)\n",
      "/Users/haraldme/miniconda3/envs/victree/lib/python3.10/site-packages/sklearn/mixture/_base.py:146: ConvergenceWarning: Number of distinct clusters (10) found smaller than n_clusters (11). Possibly due to duplicate points in X.\n",
      "  .fit(X)\n",
      "/Users/haraldme/miniconda3/envs/victree/lib/python3.10/site-packages/sklearn/mixture/_base.py:146: ConvergenceWarning: Number of distinct clusters (10) found smaller than n_clusters (11). Possibly due to duplicate points in X.\n",
      "  .fit(X)\n",
      "/Users/haraldme/miniconda3/envs/victree/lib/python3.10/site-packages/sklearn/mixture/_base.py:146: ConvergenceWarning: Number of distinct clusters (10) found smaller than n_clusters (11). Possibly due to duplicate points in X.\n",
      "  .fit(X)\n",
      "/Users/haraldme/miniconda3/envs/victree/lib/python3.10/site-packages/sklearn/mixture/_base.py:146: ConvergenceWarning: Number of distinct clusters (10) found smaller than n_clusters (11). Possibly due to duplicate points in X.\n",
      "  .fit(X)\n",
      "/Users/haraldme/miniconda3/envs/victree/lib/python3.10/site-packages/sklearn/mixture/_base.py:146: ConvergenceWarning: Number of distinct clusters (10) found smaller than n_clusters (11). Possibly due to duplicate points in X.\n",
      "  .fit(X)\n",
      "/Users/haraldme/miniconda3/envs/victree/lib/python3.10/site-packages/sklearn/mixture/_base.py:146: ConvergenceWarning: Number of distinct clusters (10) found smaller than n_clusters (11). Possibly due to duplicate points in X.\n",
      "  .fit(X)\n",
      "/Users/haraldme/miniconda3/envs/victree/lib/python3.10/site-packages/sklearn/mixture/_base.py:146: ConvergenceWarning: Number of distinct clusters (10) found smaller than n_clusters (11). Possibly due to duplicate points in X.\n",
      "  .fit(X)\n",
      "/Users/haraldme/miniconda3/envs/victree/lib/python3.10/site-packages/sklearn/mixture/_base.py:146: ConvergenceWarning: Number of distinct clusters (10) found smaller than n_clusters (11). Possibly due to duplicate points in X.\n",
      "  .fit(X)\n",
      "/Users/haraldme/miniconda3/envs/victree/lib/python3.10/site-packages/sklearn/mixture/_base.py:146: ConvergenceWarning: Number of distinct clusters (10) found smaller than n_clusters (12). Possibly due to duplicate points in X.\n",
      "  .fit(X)\n",
      "/Users/haraldme/miniconda3/envs/victree/lib/python3.10/site-packages/sklearn/mixture/_base.py:146: ConvergenceWarning: Number of distinct clusters (10) found smaller than n_clusters (12). Possibly due to duplicate points in X.\n",
      "  .fit(X)\n",
      "/Users/haraldme/miniconda3/envs/victree/lib/python3.10/site-packages/sklearn/mixture/_base.py:146: ConvergenceWarning: Number of distinct clusters (10) found smaller than n_clusters (12). Possibly due to duplicate points in X.\n",
      "  .fit(X)\n",
      "/Users/haraldme/miniconda3/envs/victree/lib/python3.10/site-packages/sklearn/mixture/_base.py:146: ConvergenceWarning: Number of distinct clusters (10) found smaller than n_clusters (12). Possibly due to duplicate points in X.\n",
      "  .fit(X)\n",
      "/Users/haraldme/miniconda3/envs/victree/lib/python3.10/site-packages/sklearn/mixture/_base.py:146: ConvergenceWarning: Number of distinct clusters (10) found smaller than n_clusters (12). Possibly due to duplicate points in X.\n",
      "  .fit(X)\n",
      "/Users/haraldme/miniconda3/envs/victree/lib/python3.10/site-packages/sklearn/mixture/_base.py:146: ConvergenceWarning: Number of distinct clusters (10) found smaller than n_clusters (12). Possibly due to duplicate points in X.\n",
      "  .fit(X)\n",
      "/Users/haraldme/miniconda3/envs/victree/lib/python3.10/site-packages/sklearn/mixture/_base.py:146: ConvergenceWarning: Number of distinct clusters (10) found smaller than n_clusters (12). Possibly due to duplicate points in X.\n",
      "  .fit(X)\n",
      "/Users/haraldme/miniconda3/envs/victree/lib/python3.10/site-packages/sklearn/mixture/_base.py:146: ConvergenceWarning: Number of distinct clusters (10) found smaller than n_clusters (12). Possibly due to duplicate points in X.\n",
      "  .fit(X)\n",
      "/Users/haraldme/miniconda3/envs/victree/lib/python3.10/site-packages/sklearn/mixture/_base.py:146: ConvergenceWarning: Number of distinct clusters (10) found smaller than n_clusters (12). Possibly due to duplicate points in X.\n",
      "  .fit(X)\n",
      "/Users/haraldme/miniconda3/envs/victree/lib/python3.10/site-packages/sklearn/mixture/_base.py:146: ConvergenceWarning: Number of distinct clusters (10) found smaller than n_clusters (12). Possibly due to duplicate points in X.\n",
      "  .fit(X)\n",
      "/Users/haraldme/miniconda3/envs/victree/lib/python3.10/site-packages/sklearn/mixture/_base.py:146: ConvergenceWarning: Number of distinct clusters (10) found smaller than n_clusters (13). Possibly due to duplicate points in X.\n",
      "  .fit(X)\n",
      "/Users/haraldme/miniconda3/envs/victree/lib/python3.10/site-packages/sklearn/mixture/_base.py:146: ConvergenceWarning: Number of distinct clusters (10) found smaller than n_clusters (13). Possibly due to duplicate points in X.\n",
      "  .fit(X)\n",
      "/Users/haraldme/miniconda3/envs/victree/lib/python3.10/site-packages/sklearn/mixture/_base.py:146: ConvergenceWarning: Number of distinct clusters (10) found smaller than n_clusters (13). Possibly due to duplicate points in X.\n",
      "  .fit(X)\n",
      "/Users/haraldme/miniconda3/envs/victree/lib/python3.10/site-packages/sklearn/mixture/_base.py:146: ConvergenceWarning: Number of distinct clusters (10) found smaller than n_clusters (13). Possibly due to duplicate points in X.\n",
      "  .fit(X)\n",
      "/Users/haraldme/miniconda3/envs/victree/lib/python3.10/site-packages/sklearn/mixture/_base.py:146: ConvergenceWarning: Number of distinct clusters (10) found smaller than n_clusters (13). Possibly due to duplicate points in X.\n",
      "  .fit(X)\n",
      "/Users/haraldme/miniconda3/envs/victree/lib/python3.10/site-packages/sklearn/mixture/_base.py:146: ConvergenceWarning: Number of distinct clusters (10) found smaller than n_clusters (13). Possibly due to duplicate points in X.\n",
      "  .fit(X)\n",
      "/Users/haraldme/miniconda3/envs/victree/lib/python3.10/site-packages/sklearn/mixture/_base.py:146: ConvergenceWarning: Number of distinct clusters (10) found smaller than n_clusters (13). Possibly due to duplicate points in X.\n",
      "  .fit(X)\n",
      "/Users/haraldme/miniconda3/envs/victree/lib/python3.10/site-packages/sklearn/mixture/_base.py:146: ConvergenceWarning: Number of distinct clusters (10) found smaller than n_clusters (13). Possibly due to duplicate points in X.\n",
      "  .fit(X)\n",
      "/Users/haraldme/miniconda3/envs/victree/lib/python3.10/site-packages/sklearn/mixture/_base.py:146: ConvergenceWarning: Number of distinct clusters (10) found smaller than n_clusters (13). Possibly due to duplicate points in X.\n",
      "  .fit(X)\n",
      "/Users/haraldme/miniconda3/envs/victree/lib/python3.10/site-packages/sklearn/mixture/_base.py:146: ConvergenceWarning: Number of distinct clusters (10) found smaller than n_clusters (13). Possibly due to duplicate points in X.\n",
      "  .fit(X)\n",
      "/Users/haraldme/miniconda3/envs/victree/lib/python3.10/site-packages/sklearn/mixture/_base.py:146: ConvergenceWarning: Number of distinct clusters (10) found smaller than n_clusters (14). Possibly due to duplicate points in X.\n",
      "  .fit(X)\n",
      "/Users/haraldme/miniconda3/envs/victree/lib/python3.10/site-packages/sklearn/mixture/_base.py:146: ConvergenceWarning: Number of distinct clusters (10) found smaller than n_clusters (14). Possibly due to duplicate points in X.\n",
      "  .fit(X)\n",
      "/Users/haraldme/miniconda3/envs/victree/lib/python3.10/site-packages/sklearn/mixture/_base.py:146: ConvergenceWarning: Number of distinct clusters (10) found smaller than n_clusters (14). Possibly due to duplicate points in X.\n",
      "  .fit(X)\n",
      "/Users/haraldme/miniconda3/envs/victree/lib/python3.10/site-packages/sklearn/mixture/_base.py:146: ConvergenceWarning: Number of distinct clusters (10) found smaller than n_clusters (14). Possibly due to duplicate points in X.\n",
      "  .fit(X)\n",
      "/Users/haraldme/miniconda3/envs/victree/lib/python3.10/site-packages/sklearn/mixture/_base.py:146: ConvergenceWarning: Number of distinct clusters (10) found smaller than n_clusters (14). Possibly due to duplicate points in X.\n",
      "  .fit(X)\n",
      "/Users/haraldme/miniconda3/envs/victree/lib/python3.10/site-packages/sklearn/mixture/_base.py:146: ConvergenceWarning: Number of distinct clusters (10) found smaller than n_clusters (14). Possibly due to duplicate points in X.\n",
      "  .fit(X)\n",
      "/Users/haraldme/miniconda3/envs/victree/lib/python3.10/site-packages/sklearn/mixture/_base.py:146: ConvergenceWarning: Number of distinct clusters (10) found smaller than n_clusters (14). Possibly due to duplicate points in X.\n",
      "  .fit(X)\n",
      "/Users/haraldme/miniconda3/envs/victree/lib/python3.10/site-packages/sklearn/mixture/_base.py:146: ConvergenceWarning: Number of distinct clusters (10) found smaller than n_clusters (14). Possibly due to duplicate points in X.\n",
      "  .fit(X)\n",
      "/Users/haraldme/miniconda3/envs/victree/lib/python3.10/site-packages/sklearn/mixture/_base.py:146: ConvergenceWarning: Number of distinct clusters (10) found smaller than n_clusters (14). Possibly due to duplicate points in X.\n",
      "  .fit(X)\n",
      "/Users/haraldme/miniconda3/envs/victree/lib/python3.10/site-packages/sklearn/mixture/_base.py:146: ConvergenceWarning: Number of distinct clusters (10) found smaller than n_clusters (14). Possibly due to duplicate points in X.\n",
      "  .fit(X)\n",
      "/Users/haraldme/miniconda3/envs/victree/lib/python3.10/site-packages/sklearn/mixture/_base.py:146: ConvergenceWarning: Number of distinct clusters (10) found smaller than n_clusters (15). Possibly due to duplicate points in X.\n",
      "  .fit(X)\n",
      "/Users/haraldme/miniconda3/envs/victree/lib/python3.10/site-packages/sklearn/mixture/_base.py:146: ConvergenceWarning: Number of distinct clusters (10) found smaller than n_clusters (15). Possibly due to duplicate points in X.\n",
      "  .fit(X)\n",
      "/Users/haraldme/miniconda3/envs/victree/lib/python3.10/site-packages/sklearn/mixture/_base.py:146: ConvergenceWarning: Number of distinct clusters (10) found smaller than n_clusters (15). Possibly due to duplicate points in X.\n",
      "  .fit(X)\n",
      "/Users/haraldme/miniconda3/envs/victree/lib/python3.10/site-packages/sklearn/mixture/_base.py:146: ConvergenceWarning: Number of distinct clusters (10) found smaller than n_clusters (15). Possibly due to duplicate points in X.\n",
      "  .fit(X)\n",
      "/Users/haraldme/miniconda3/envs/victree/lib/python3.10/site-packages/sklearn/mixture/_base.py:146: ConvergenceWarning: Number of distinct clusters (10) found smaller than n_clusters (15). Possibly due to duplicate points in X.\n",
      "  .fit(X)\n",
      "/Users/haraldme/miniconda3/envs/victree/lib/python3.10/site-packages/sklearn/mixture/_base.py:146: ConvergenceWarning: Number of distinct clusters (10) found smaller than n_clusters (15). Possibly due to duplicate points in X.\n",
      "  .fit(X)\n",
      "/Users/haraldme/miniconda3/envs/victree/lib/python3.10/site-packages/sklearn/mixture/_base.py:146: ConvergenceWarning: Number of distinct clusters (10) found smaller than n_clusters (15). Possibly due to duplicate points in X.\n",
      "  .fit(X)\n",
      "/Users/haraldme/miniconda3/envs/victree/lib/python3.10/site-packages/sklearn/mixture/_base.py:146: ConvergenceWarning: Number of distinct clusters (10) found smaller than n_clusters (15). Possibly due to duplicate points in X.\n",
      "  .fit(X)\n",
      "/Users/haraldme/miniconda3/envs/victree/lib/python3.10/site-packages/sklearn/mixture/_base.py:146: ConvergenceWarning: Number of distinct clusters (10) found smaller than n_clusters (15). Possibly due to duplicate points in X.\n",
      "  .fit(X)\n",
      "/Users/haraldme/miniconda3/envs/victree/lib/python3.10/site-packages/sklearn/mixture/_base.py:146: ConvergenceWarning: Number of distinct clusters (10) found smaller than n_clusters (15). Possibly due to duplicate points in X.\n",
      "  .fit(X)\n",
      "/Users/haraldme/miniconda3/envs/victree/lib/python3.10/site-packages/sklearn/mixture/_base.py:146: ConvergenceWarning: Number of distinct clusters (10) found smaller than n_clusters (16). Possibly due to duplicate points in X.\n",
      "  .fit(X)\n",
      "/Users/haraldme/miniconda3/envs/victree/lib/python3.10/site-packages/sklearn/mixture/_base.py:146: ConvergenceWarning: Number of distinct clusters (10) found smaller than n_clusters (16). Possibly due to duplicate points in X.\n",
      "  .fit(X)\n",
      "/Users/haraldme/miniconda3/envs/victree/lib/python3.10/site-packages/sklearn/mixture/_base.py:146: ConvergenceWarning: Number of distinct clusters (10) found smaller than n_clusters (16). Possibly due to duplicate points in X.\n",
      "  .fit(X)\n",
      "/Users/haraldme/miniconda3/envs/victree/lib/python3.10/site-packages/sklearn/mixture/_base.py:146: ConvergenceWarning: Number of distinct clusters (10) found smaller than n_clusters (16). Possibly due to duplicate points in X.\n",
      "  .fit(X)\n",
      "/Users/haraldme/miniconda3/envs/victree/lib/python3.10/site-packages/sklearn/mixture/_base.py:146: ConvergenceWarning: Number of distinct clusters (10) found smaller than n_clusters (16). Possibly due to duplicate points in X.\n",
      "  .fit(X)\n",
      "/Users/haraldme/miniconda3/envs/victree/lib/python3.10/site-packages/sklearn/mixture/_base.py:146: ConvergenceWarning: Number of distinct clusters (10) found smaller than n_clusters (16). Possibly due to duplicate points in X.\n",
      "  .fit(X)\n",
      "/Users/haraldme/miniconda3/envs/victree/lib/python3.10/site-packages/sklearn/mixture/_base.py:146: ConvergenceWarning: Number of distinct clusters (10) found smaller than n_clusters (16). Possibly due to duplicate points in X.\n",
      "  .fit(X)\n",
      "/Users/haraldme/miniconda3/envs/victree/lib/python3.10/site-packages/sklearn/mixture/_base.py:146: ConvergenceWarning: Number of distinct clusters (10) found smaller than n_clusters (16). Possibly due to duplicate points in X.\n",
      "  .fit(X)\n",
      "/Users/haraldme/miniconda3/envs/victree/lib/python3.10/site-packages/sklearn/mixture/_base.py:146: ConvergenceWarning: Number of distinct clusters (10) found smaller than n_clusters (16). Possibly due to duplicate points in X.\n",
      "  .fit(X)\n",
      "/Users/haraldme/miniconda3/envs/victree/lib/python3.10/site-packages/sklearn/mixture/_base.py:146: ConvergenceWarning: Number of distinct clusters (10) found smaller than n_clusters (16). Possibly due to duplicate points in X.\n",
      "  .fit(X)\n",
      "/Users/haraldme/miniconda3/envs/victree/lib/python3.10/site-packages/sklearn/mixture/_base.py:146: ConvergenceWarning: Number of distinct clusters (10) found smaller than n_clusters (17). Possibly due to duplicate points in X.\n",
      "  .fit(X)\n",
      "/Users/haraldme/miniconda3/envs/victree/lib/python3.10/site-packages/sklearn/mixture/_base.py:146: ConvergenceWarning: Number of distinct clusters (10) found smaller than n_clusters (17). Possibly due to duplicate points in X.\n",
      "  .fit(X)\n",
      "/Users/haraldme/miniconda3/envs/victree/lib/python3.10/site-packages/sklearn/mixture/_base.py:146: ConvergenceWarning: Number of distinct clusters (10) found smaller than n_clusters (17). Possibly due to duplicate points in X.\n",
      "  .fit(X)\n",
      "/Users/haraldme/miniconda3/envs/victree/lib/python3.10/site-packages/sklearn/mixture/_base.py:146: ConvergenceWarning: Number of distinct clusters (10) found smaller than n_clusters (17). Possibly due to duplicate points in X.\n",
      "  .fit(X)\n",
      "/Users/haraldme/miniconda3/envs/victree/lib/python3.10/site-packages/sklearn/mixture/_base.py:146: ConvergenceWarning: Number of distinct clusters (10) found smaller than n_clusters (17). Possibly due to duplicate points in X.\n",
      "  .fit(X)\n",
      "/Users/haraldme/miniconda3/envs/victree/lib/python3.10/site-packages/sklearn/mixture/_base.py:146: ConvergenceWarning: Number of distinct clusters (10) found smaller than n_clusters (17). Possibly due to duplicate points in X.\n",
      "  .fit(X)\n",
      "/Users/haraldme/miniconda3/envs/victree/lib/python3.10/site-packages/sklearn/mixture/_base.py:146: ConvergenceWarning: Number of distinct clusters (10) found smaller than n_clusters (17). Possibly due to duplicate points in X.\n",
      "  .fit(X)\n",
      "/Users/haraldme/miniconda3/envs/victree/lib/python3.10/site-packages/sklearn/mixture/_base.py:146: ConvergenceWarning: Number of distinct clusters (10) found smaller than n_clusters (17). Possibly due to duplicate points in X.\n",
      "  .fit(X)\n",
      "/Users/haraldme/miniconda3/envs/victree/lib/python3.10/site-packages/sklearn/mixture/_base.py:146: ConvergenceWarning: Number of distinct clusters (10) found smaller than n_clusters (17). Possibly due to duplicate points in X.\n",
      "  .fit(X)\n",
      "/Users/haraldme/miniconda3/envs/victree/lib/python3.10/site-packages/sklearn/mixture/_base.py:146: ConvergenceWarning: Number of distinct clusters (10) found smaller than n_clusters (17). Possibly due to duplicate points in X.\n",
      "  .fit(X)\n",
      "/Users/haraldme/miniconda3/envs/victree/lib/python3.10/site-packages/sklearn/mixture/_base.py:146: ConvergenceWarning: Number of distinct clusters (10) found smaller than n_clusters (18). Possibly due to duplicate points in X.\n",
      "  .fit(X)\n",
      "/Users/haraldme/miniconda3/envs/victree/lib/python3.10/site-packages/sklearn/mixture/_base.py:146: ConvergenceWarning: Number of distinct clusters (10) found smaller than n_clusters (18). Possibly due to duplicate points in X.\n",
      "  .fit(X)\n",
      "/Users/haraldme/miniconda3/envs/victree/lib/python3.10/site-packages/sklearn/mixture/_base.py:146: ConvergenceWarning: Number of distinct clusters (10) found smaller than n_clusters (18). Possibly due to duplicate points in X.\n",
      "  .fit(X)\n",
      "/Users/haraldme/miniconda3/envs/victree/lib/python3.10/site-packages/sklearn/mixture/_base.py:146: ConvergenceWarning: Number of distinct clusters (10) found smaller than n_clusters (18). Possibly due to duplicate points in X.\n",
      "  .fit(X)\n",
      "/Users/haraldme/miniconda3/envs/victree/lib/python3.10/site-packages/sklearn/mixture/_base.py:146: ConvergenceWarning: Number of distinct clusters (10) found smaller than n_clusters (18). Possibly due to duplicate points in X.\n",
      "  .fit(X)\n",
      "/Users/haraldme/miniconda3/envs/victree/lib/python3.10/site-packages/sklearn/mixture/_base.py:146: ConvergenceWarning: Number of distinct clusters (10) found smaller than n_clusters (18). Possibly due to duplicate points in X.\n",
      "  .fit(X)\n",
      "/Users/haraldme/miniconda3/envs/victree/lib/python3.10/site-packages/sklearn/mixture/_base.py:146: ConvergenceWarning: Number of distinct clusters (10) found smaller than n_clusters (18). Possibly due to duplicate points in X.\n",
      "  .fit(X)\n",
      "/Users/haraldme/miniconda3/envs/victree/lib/python3.10/site-packages/sklearn/mixture/_base.py:146: ConvergenceWarning: Number of distinct clusters (10) found smaller than n_clusters (18). Possibly due to duplicate points in X.\n",
      "  .fit(X)\n",
      "/Users/haraldme/miniconda3/envs/victree/lib/python3.10/site-packages/sklearn/mixture/_base.py:146: ConvergenceWarning: Number of distinct clusters (10) found smaller than n_clusters (18). Possibly due to duplicate points in X.\n",
      "  .fit(X)\n",
      "/Users/haraldme/miniconda3/envs/victree/lib/python3.10/site-packages/sklearn/mixture/_base.py:146: ConvergenceWarning: Number of distinct clusters (10) found smaller than n_clusters (18). Possibly due to duplicate points in X.\n",
      "  .fit(X)\n",
      "/Users/haraldme/miniconda3/envs/victree/lib/python3.10/site-packages/sklearn/mixture/_base.py:146: ConvergenceWarning: Number of distinct clusters (10) found smaller than n_clusters (19). Possibly due to duplicate points in X.\n",
      "  .fit(X)\n",
      "/Users/haraldme/miniconda3/envs/victree/lib/python3.10/site-packages/sklearn/mixture/_base.py:146: ConvergenceWarning: Number of distinct clusters (10) found smaller than n_clusters (19). Possibly due to duplicate points in X.\n",
      "  .fit(X)\n",
      "/Users/haraldme/miniconda3/envs/victree/lib/python3.10/site-packages/sklearn/mixture/_base.py:146: ConvergenceWarning: Number of distinct clusters (10) found smaller than n_clusters (19). Possibly due to duplicate points in X.\n",
      "  .fit(X)\n",
      "/Users/haraldme/miniconda3/envs/victree/lib/python3.10/site-packages/sklearn/mixture/_base.py:146: ConvergenceWarning: Number of distinct clusters (10) found smaller than n_clusters (19). Possibly due to duplicate points in X.\n",
      "  .fit(X)\n",
      "/Users/haraldme/miniconda3/envs/victree/lib/python3.10/site-packages/sklearn/mixture/_base.py:146: ConvergenceWarning: Number of distinct clusters (10) found smaller than n_clusters (19). Possibly due to duplicate points in X.\n",
      "  .fit(X)\n",
      "/Users/haraldme/miniconda3/envs/victree/lib/python3.10/site-packages/sklearn/mixture/_base.py:146: ConvergenceWarning: Number of distinct clusters (10) found smaller than n_clusters (19). Possibly due to duplicate points in X.\n",
      "  .fit(X)\n",
      "/Users/haraldme/miniconda3/envs/victree/lib/python3.10/site-packages/sklearn/mixture/_base.py:146: ConvergenceWarning: Number of distinct clusters (10) found smaller than n_clusters (19). Possibly due to duplicate points in X.\n",
      "  .fit(X)\n",
      "/Users/haraldme/miniconda3/envs/victree/lib/python3.10/site-packages/sklearn/mixture/_base.py:146: ConvergenceWarning: Number of distinct clusters (10) found smaller than n_clusters (19). Possibly due to duplicate points in X.\n",
      "  .fit(X)\n",
      "/Users/haraldme/miniconda3/envs/victree/lib/python3.10/site-packages/sklearn/mixture/_base.py:146: ConvergenceWarning: Number of distinct clusters (10) found smaller than n_clusters (19). Possibly due to duplicate points in X.\n",
      "  .fit(X)\n",
      "/Users/haraldme/miniconda3/envs/victree/lib/python3.10/site-packages/sklearn/mixture/_base.py:146: ConvergenceWarning: Number of distinct clusters (10) found smaller than n_clusters (19). Possibly due to duplicate points in X.\n",
      "  .fit(X)\n"
     ]
    }
   ],
   "source": [
    "import sklearn\n",
    "K_list = np.arange(5, 20)\n",
    "elbo_list = []\n",
    "hmm_states = observations\n",
    "for K in K_list:\n",
    "    cluster_alg = sklearn.mixture.GaussianMixture(n_components=K, covariance_type=\"diag\", n_init=10)\n",
    "    cluster_alg.fit(hmm_states)\n",
    "    labels = cluster_alg.predict(hmm_states)\n",
    "    elbo_list.append(cluster_alg.lower_bound_)"
   ],
   "metadata": {
    "collapsed": false
   }
  },
  {
   "cell_type": "code",
   "execution_count": 15,
   "outputs": [
    {
     "name": "stdout",
     "output_type": "stream",
     "text": [
      "ELBO at true K: 17964.2764092863\n",
      "ELBO at true K+1: 17964.2764092863\n",
      "ELBO at true K-1: 15636.06785531906\n"
     ]
    }
   ],
   "source": [
    "idx_true_K = np.where(K_list == true_K)[0][0]\n",
    "print(f\"ELBO at true K: {elbo_list[idx_true_K]}\")\n",
    "print(f\"ELBO at true K+1: {elbo_list[idx_true_K + 1]}\")\n",
    "print(f\"ELBO at true K-1: {elbo_list[idx_true_K - 1]}\")"
   ],
   "metadata": {
    "collapsed": false
   }
  },
  {
   "cell_type": "code",
   "execution_count": 11,
   "outputs": [
    {
     "data": {
      "text/plain": "<Figure size 640x480 with 1 Axes>",
      "image/png": "[encoded data removed]"
     },
     "metadata": {},
     "output_type": "display_data"
    }
   ],
   "source": [
    "%matplotlib inline\n",
    "plt.plot(K_list, elbo_list)\n",
    "plt.show()"
   ],
   "metadata": {
    "collapsed": false
   }
  }
 ],
 "metadata": {
  "kernelspec": {
   "display_name": "Python 3 (ipykernel)",
   "language": "python",
   "name": "python3"
  },
  "language_info": {
   "codemirror_mode": {
    "name": "ipython",
    "version": 3
   },
   "file_extension": ".py",
   "mimetype": "text/x-python",
   "name": "python",
   "nbconvert_exporter": "python",
   "pygments_lexer": "ipython3",
   "version": "3.10.0"
  }
 },
 "nbformat": 4,
 "nbformat_minor": 4
}
