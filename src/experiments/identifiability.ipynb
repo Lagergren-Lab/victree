{
 "cells": [
  {
   "cell_type": "markdown",
   "source": [
    "# Identifiability experiment\n",
    "\n",
    "Check whether multiple configurations of parameters in mu and copy number are\n",
    "equally likely."
   ],
   "metadata": {
    "collapsed": false
   },
   "id": "979d108e400a089d"
  },
  {
   "cell_type": "code",
   "execution_count": null,
   "outputs": [],
   "source": [
    "# TODO: simulate a dataset and run inference, then check where baseline is wrongly estimated\n",
    "#   take the true baseline and change the copy numbers accordingly. Does the elbo actually \n",
    "#   increase? If not, the model suffers inherently from the unidentifiability problem"
   ],
   "metadata": {
    "collapsed": false
   },
   "id": "c44af919a826f093"
  }
 ],
 "metadata": {
  "kernelspec": {
   "display_name": "Python 3",
   "language": "python",
   "name": "python3"
  },
  "language_info": {
   "codemirror_mode": {
    "name": "ipython",
    "version": 2
   },
   "file_extension": ".py",
   "mimetype": "text/x-python",
   "name": "python",
   "nbconvert_exporter": "python",
   "pygments_lexer": "ipython2",
   "version": "2.7.6"
  }
 },
 "nbformat": 4,
 "nbformat_minor": 5
}
