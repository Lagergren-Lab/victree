{
 "cells": [
  {
   "cell_type": "markdown",
   "metadata": {
    "collapsed": false
   },
   "source": [
    "    # Output CN plot"
   ]
  },
  {
   "cell_type": "code",
   "execution_count": 1,
   "metadata": {
    "collapsed": false,
    "ExecuteTime": {
     "end_time": "2023-08-14T16:51:19.470547Z",
     "start_time": "2023-08-14T16:51:15.154585Z"
    }
   },
   "outputs": [
    {
     "name": "stderr",
     "output_type": "stream",
     "text": [
      "/Users/zemp/PycharmProjects/victree/venv/lib/python3.10/site-packages/umap/distances.py:1063: NumbaDeprecationWarning: The 'nopython' keyword argument was not supplied to the 'numba.jit' decorator. The implicit default value for this argument is currently False, but it will be changed to True in Numba 0.59.0. See https://numba.readthedocs.io/en/stable/reference/deprecation.html#deprecation-of-object-mode-fall-back-behaviour-when-using-jit for details.\n",
      "  @numba.jit()\n",
      "/Users/zemp/PycharmProjects/victree/venv/lib/python3.10/site-packages/umap/distances.py:1071: NumbaDeprecationWarning: The 'nopython' keyword argument was not supplied to the 'numba.jit' decorator. The implicit default value for this argument is currently False, but it will be changed to True in Numba 0.59.0. See https://numba.readthedocs.io/en/stable/reference/deprecation.html#deprecation-of-object-mode-fall-back-behaviour-when-using-jit for details.\n",
      "  @numba.jit()\n",
      "/Users/zemp/PycharmProjects/victree/venv/lib/python3.10/site-packages/umap/distances.py:1086: NumbaDeprecationWarning: The 'nopython' keyword argument was not supplied to the 'numba.jit' decorator. The implicit default value for this argument is currently False, but it will be changed to True in Numba 0.59.0. See https://numba.readthedocs.io/en/stable/reference/deprecation.html#deprecation-of-object-mode-fall-back-behaviour-when-using-jit for details.\n",
      "  @numba.jit()\n",
      "/Users/zemp/PycharmProjects/victree/venv/lib/python3.10/site-packages/umap/umap_.py:660: NumbaDeprecationWarning: The 'nopython' keyword argument was not supplied to the 'numba.jit' decorator. The implicit default value for this argument is currently False, but it will be changed to True in Numba 0.59.0. See https://numba.readthedocs.io/en/stable/reference/deprecation.html#deprecation-of-object-mode-fall-back-behaviour-when-using-jit for details.\n",
      "  @numba.jit()\n"
     ]
    }
   ],
   "source": [
    "# imports\n",
    "import scgenome.plotting as pl\n",
    "import h5py\n",
    "import anndata\n",
    "import numpy as np"
   ]
  },
  {
   "cell_type": "code",
   "execution_count": 2,
   "metadata": {
    "collapsed": false,
    "ExecuteTime": {
     "end_time": "2023-08-14T16:51:19.485685Z",
     "start_time": "2023-08-14T16:51:19.475701Z"
    }
   },
   "outputs": [
    {
     "data": {
      "text/plain": "<KeysViewHDF5 ['X', 'result']>"
     },
     "execution_count": 2,
     "metadata": {},
     "output_type": "execute_result"
    }
   ],
   "source": [
    "# read output h5\n",
    "out_file = h5py.File('/Users/zemp/phd/scilife/cpt_experiments/output/spectr006/out_k6a7n1314m6206.h5') # 006\n",
    "# out_file = h5py.File('/Users/zemp/phd/scilife/cpt_experiments/output/spectr014/out_k6a7n1105m6206.h5') # 014\n",
    "# out_file = h5py.File('/Users/zemp/phd/scilife/cpt_experiments/output/spectr107/out_k6a7n608m6206.h5') # 107\n",
    "# out_file = h5py.File('/Users/zemp/phd/scilife/cpt_experiments/output/spectr107/out_k6a7n608m6206_pi1-10.h5') # 107x\n",
    "out_file.keys()"
   ]
  },
  {
   "cell_type": "code",
   "execution_count": 3,
   "metadata": {
    "collapsed": false,
    "ExecuteTime": {
     "end_time": "2023-08-14T16:51:20.110528Z",
     "start_time": "2023-08-14T16:51:20.104556Z"
    }
   },
   "outputs": [
    {
     "name": "stdout",
     "output_type": "stream",
     "text": [
      "cell_assignment (1314, 6)\n",
      "cn_marginal (6, 6206, 7)\n",
      "cn_viterbi (6, 6206)\n",
      "eps_alpha (6, 6)\n",
      "eps_beta (6, 6)\n",
      "graph (6, 6)\n",
      "mu_tau (4, 1314)\n"
     ]
    }
   ],
   "source": [
    "for k in out_file['result'].keys():\n",
    "    ds = out_file['result'][k]\n",
    "    if isinstance(ds, h5py.Dataset):\n",
    "        print(k, out_file['result'][k].shape)"
   ]
  },
  {
   "cell_type": "code",
   "execution_count": 4,
   "metadata": {
    "collapsed": false,
    "ExecuteTime": {
     "end_time": "2023-08-14T16:51:22.741968Z",
     "start_time": "2023-08-14T16:51:22.718114Z"
    }
   },
   "outputs": [
    {
     "data": {
      "text/plain": "(1314, 6206)"
     },
     "execution_count": 4,
     "metadata": {},
     "output_type": "execute_result"
    }
   ],
   "source": [
    "# get cell assignment and cell copy number\n",
    "top_z = out_file['result']['cell_assignment'][...].argmax(axis=1)\n",
    "clone_cn_np = out_file['result']['cn_viterbi'][...]\n",
    "cell_cn = clone_cn_np[top_z, :]\n",
    "cell_cn.shape"
   ]
  },
  {
   "cell_type": "code",
   "execution_count": 5,
   "metadata": {
    "collapsed": false,
    "ExecuteTime": {
     "end_time": "2023-08-14T16:51:23.847610Z",
     "start_time": "2023-08-14T16:51:23.314633Z"
    }
   },
   "outputs": [],
   "source": [
    "# create anndata\n",
    "adata = anndata.read_h5ad('/Users/zemp/Downloads/data/signals_SPECTRUM-OV-006.h5')\n",
    "# adata = anndata.read_h5ad('/Users/zemp/Downloads/data/signals_SPECTRUM-OV-014.h5')\n",
    "# adata = anndata.read_h5ad('/Users/zemp/Downloads/data/signals_SPECTRUM-OV-107.h5')\n",
    "adata.layers['victree-cn'] = cell_cn\n",
    "adata.layers['marginal'] = np.argmax(out_file['result']['cn_marginal'], axis=-1)[top_z, ...]\n",
    "adata.obs['clone'] = top_z"
   ]
  },
  {
   "cell_type": "code",
   "execution_count": 6,
   "metadata": {
    "collapsed": false,
    "ExecuteTime": {
     "end_time": "2023-08-14T16:51:25.240504Z",
     "start_time": "2023-08-14T16:51:23.854122Z"
    }
   },
   "outputs": [
    {
     "data": {
      "text/plain": "{'ax': <Axes: xlabel='chromosome'>,\n 'im': <matplotlib.image.AxesImage at 0x16a47bac0>,\n 'adata': View of AnnData object with n_obs × n_vars = 1314 × 6206\n     obs: 'multiplier', 'MSRSI_non_integerness', 'MBRSI_dispersion_non_integerness', 'MBRSM_dispersion', 'autocorrelation_hmmcopy', 'cv_hmmcopy', 'empty_bins_hmmcopy', 'mad_hmmcopy', 'mean_hmmcopy_reads_per_bin', 'median_hmmcopy_reads_per_bin', 'std_hmmcopy_reads_per_bin', 'total_mapped_reads_hmmcopy', 'total_halfiness', 'scaled_halfiness', 'mean_state_mads', 'mean_state_vars', 'mad_neutral_state', 'breakpoints', 'mean_copy', 'state_mode', 'log_likelihood', 'true_multiplier', 'column', 'img_col', 'index_i5', 'index_i7', 'is_control', 'library_id', 'primer_i5', 'primer_i7', 'row', 'sample_id', 'sample_type', 'cell_call', 'experimental_condition', 'order', 'is_s_phase', 'is_s_phase_prob', 'quality', 'paired_mapped_reads', 'unmapped_reads', 'estimated_library_size', 'expected', 'fastqscreen_mm10', 'total_reads', 'standard_deviation_insert_size', 'total_properly_paired', 'fastqscreen_nohit', 'overlap_with_all_filters_and_qual', 'fastqscreen_mm10_multihit', 'aligned', 'percent_duplicate_reads', 'overlap_without_dups', 'coverage_breadth', 'unpaired_mapped_reads', 'median_insert_size', 'fastqscreen_salmon_multihit', 'coverage_depth', 'overlap_with_dups', 'mean_insert_size', 'fastqscreen_grch37_multihit', 'paired_duplicate_reads', 'total_duplicate_reads', 'total_mapped_reads', 'overlap_with_all_filters', 'unpaired_duplicate_reads', 'fastqscreen_grch37', 'fastqscreen_salmon', 'is_contaminated', 'fastqscreen_nohit_ratio', 'fastqscreen_grch37_ratio', 'fastqscreen_mm10_ratio', 'fastqscreen_salmon_ratio', 'species', 'patient_id', 'cluster_id', 'cluster_size', 'cell_order', 'fraction_loh', 'ploidy', 'is_wgd', 'is_normal', 'clone'\n     var: 'chr', 'start', 'end', 'gc'\n     uns: 'kmeans'\n     layers: 'BAF', 'Maj', 'Min', 'alleleA', 'alleleB', 'copy', 'state', 'state_a', 'state_b', 'totalcounts', 'victree-cn', 'marginal'}"
     },
     "execution_count": 6,
     "metadata": {},
     "output_type": "execute_result"
    },
    {
     "data": {
      "text/plain": "<Figure size 640x480 with 1 Axes>",
      "image/png": "[encoded data removed]"
     },
     "metadata": {},
     "output_type": "display_data"
    }
   ],
   "source": [
    "pl.plot_cell_cn_matrix (adata, 'victree-cn', cell_order_fields=['clone'], max_cn=7)"
   ]
  },
  {
   "cell_type": "code",
   "execution_count": 7,
   "metadata": {
    "collapsed": false,
    "ExecuteTime": {
     "end_time": "2023-08-14T16:51:27.531407Z",
     "start_time": "2023-08-14T16:51:26.449283Z"
    }
   },
   "outputs": [
    {
     "data": {
      "text/plain": "<Axes: xlabel='chromosome'>"
     },
     "execution_count": 7,
     "metadata": {},
     "output_type": "execute_result"
    },
    {
     "data": {
      "text/plain": "<Figure size 640x480 with 1 Axes>",
      "image/png": "[encoded data removed]"
     },
     "metadata": {},
     "output_type": "display_data"
    }
   ],
   "source": [
    "pl.plot_cell_cn_matrix(adata, 'marginal', cell_order_fields=['clone'], max_cn=7)['ax']"
   ]
  },
  {
   "cell_type": "code",
   "execution_count": 16,
   "metadata": {},
   "outputs": [
    {
     "data": {
      "image/png": "[encoded data removed]",
      "text/plain": [
       "<Figure size 640x480 with 8 Axes>"
      ]
     },
     "metadata": {},
     "output_type": "display_data"
    }
   ],
   "source": [
    "g = pl.plot_cell_cn_matrix_fig(adata, 'state', cell_order_fields=['clone'], annotation_fields=['clone'], max_cn=7)"
   ]
  },
  {
   "cell_type": "code",
   "execution_count": 9,
   "metadata": {
    "ExecuteTime": {
     "end_time": "2023-08-10T19:31:17.244453Z",
     "start_time": "2023-08-10T19:31:15.877509Z"
    },
    "collapsed": false
   },
   "outputs": [
    {
     "data": {
      "image/png": "[encoded data removed]",
      "text/plain": [
       "<Figure size 640x480 with 8 Axes>"
      ]
     },
     "metadata": {},
     "output_type": "display_data"
    }
   ],
   "source": [
    "# sort cells based on cluster assignment\n",
    "adata.obs['clone'] = adata.obs['clone'].astype('category')\n",
    "adata.layers['marginal_diff'] = adata.layers['state'] - adata.layers['marginal']\n",
    "g = pl.plot_cell_cn_matrix_fig(\n",
    "    adata, 'marginal_diff', cell_order_fields=['clone', 'cell_order'],\n",
    "    annotation_fields=['clone'], max_cn=7, raw=True, vmin=-1, vmax=1)"
   ]
  },
  {
   "cell_type": "code",
   "execution_count": 31,
   "metadata": {
    "collapsed": false
   },
   "outputs": [
    {
     "data": {
      "text/plain": [
       "(array([0, 5]), array([724, 381]))"
      ]
     },
     "execution_count": 31,
     "metadata": {},
     "output_type": "execute_result"
    }
   ],
   "source": [
    "import numpy as np\n",
    "np.unique(top_z, return_counts=True)"
   ]
  },
  {
   "cell_type": "code",
   "execution_count": 32,
   "metadata": {
    "collapsed": false
   },
   "outputs": [
    {
     "data": {
      "text/plain": [
       "<KeysViewHDF5 ['newick', 'weight']>"
      ]
     },
     "execution_count": 32,
     "metadata": {},
     "output_type": "execute_result"
    }
   ],
   "source": [
    "out_file['result']['trees'].keys()"
   ]
  },
  {
   "cell_type": "code",
   "execution_count": 33,
   "metadata": {
    "collapsed": false
   },
   "outputs": [
    {
     "name": "stdout",
     "output_type": "stream",
     "text": [
      "b'((2,(1,5)4)3)0'\n",
      "0.02043939\n",
      "---\n",
      "b'((((5)2)1,3)4)0'\n",
      "0.013640878\n",
      "---\n",
      "b'(((5)1,(3)2)4)0'\n",
      "0.013598051\n",
      "---\n",
      "b'(1,(2,(5)3)4)0'\n",
      "0.013593179\n",
      "---\n",
      "b'((2,(3)4)1,5)0'\n",
      "0.013571922\n",
      "---\n",
      "b'((3,5)2,(1)4)0'\n",
      "0.013564752\n",
      "---\n",
      "b'(2,(1,4)3,5)0'\n",
      "0.01355846\n",
      "---\n",
      "b'((1,4)2,3,5)0'\n",
      "0.013556236\n",
      "---\n",
      "b'((2,((5)3)4)1)0'\n",
      "0.013550264\n",
      "---\n",
      "b'((1)2,(4,5)3)0'\n",
      "0.013547564\n",
      "---\n",
      "b'((1,(3)2,5)4)0'\n",
      "0.013543362\n",
      "---\n",
      "b'(((4,5)2,3)1)0'\n",
      "0.013538791\n",
      "---\n",
      "b'(((2,3)4,5)1)0'\n",
      "0.0135366\n",
      "---\n",
      "b'((1,(2,5)4)3)0'\n",
      "0.0135211\n",
      "---\n",
      "b'((4)1,(2,5)3)0'\n",
      "0.013488823\n",
      "---\n",
      "b'(((3)1,5)2,4)0'\n",
      "0.013478719\n",
      "---\n",
      "b'(1,(((5)2)4)3)0'\n",
      "0.013476964\n",
      "---\n",
      "b'((2,(3,5)4)1)0'\n",
      "0.013476209\n",
      "---\n",
      "b'(2,((1,5)4)3)0'\n",
      "0.0134605905\n",
      "---\n",
      "b'(((2,(5)4)1)3)0'\n",
      "0.01343996\n",
      "---\n",
      "b'((3,5)1,(4)2)0'\n",
      "0.0134385275\n",
      "---\n",
      "b'(((5)2,3)1,4)0'\n",
      "0.013409871\n",
      "---\n",
      "b'(((3)1)2,(5)4)0'\n",
      "0.013383034\n",
      "---\n",
      "b'((2)1,(5)3,4)0'\n",
      "0.013311512\n",
      "---\n",
      "b'(((3,(1)4)2)5)0'\n",
      "0.012144192\n",
      "---\n",
      "b'(((1,(4)2)3)5)0'\n",
      "0.012141792\n",
      "---\n",
      "b'(((1,2,4)3)5)0'\n",
      "0.012141299\n",
      "---\n",
      "b'((((4)1,2)3)5)0'\n",
      "0.01205685\n",
      "---\n",
      "b'((((1)5)2,3)4)0'\n",
      "0.012046414\n",
      "---\n",
      "b'(((((1)5)3)2)4)0'\n",
      "0.012039037\n",
      "---\n",
      "b'((2,4)3,(1)5)0'\n",
      "0.012029736\n",
      "---\n",
      "b'(4,(((1)3)2)5)0'\n",
      "0.012015604\n",
      "---\n",
      "b'(((1)3)4,(2)5)0'\n",
      "0.01199714\n",
      "---\n",
      "b'(((((1)4)3)2)5)0'\n",
      "0.011988523\n",
      "---\n",
      "b'(((((2)4)3)5)1)0'\n",
      "0.011974865\n",
      "---\n",
      "b'(((3,(2)4)1)5)0'\n",
      "0.011958624\n",
      "---\n",
      "b'(((3,(4)5)2)1)0'\n",
      "0.011954118\n",
      "---\n",
      "b'((4)1,((3)2)5)0'\n",
      "0.011938513\n",
      "---\n",
      "b'((4)2,((1)5)3)0'\n",
      "0.011895074\n",
      "---\n",
      "b'(1,(((4)5)3)2)0'\n",
      "0.01189288\n",
      "---\n",
      "b'(3,(((1)5)2)4)0'\n",
      "0.011890962\n",
      "---\n",
      "b'(1,(4,(3)5)2)0'\n",
      "0.011889699\n",
      "---\n",
      "b'(1,(4)2,(3)5)0'\n",
      "0.011888629\n",
      "---\n",
      "b'(1,(2)4,(3)5)0'\n",
      "0.011888594\n",
      "---\n",
      "b'((((2)3,4)1)5)0'\n",
      "0.011871586\n",
      "---\n",
      "b'(((2,(1)5)4)3)0'\n",
      "0.01186952\n",
      "---\n",
      "b'(((4,(2)5)3)1)0'\n",
      "0.011865891\n",
      "---\n",
      "b'(1,3,((4)2)5)0'\n",
      "0.011863975\n",
      "---\n",
      "b'(1,(((3)2)4)5)0'\n",
      "0.011838193\n",
      "---\n",
      "b'(((((4)3)5)1)2)0'\n",
      "0.011832737\n",
      "---\n",
      "b'(((2)5)1,(3)4)0'\n",
      "0.011831915\n",
      "---\n",
      "b'((1,((2)5)4)3)0'\n",
      "0.011823593\n",
      "---\n",
      "b'(((((3)4)1)2)5)0'\n",
      "0.011818235\n",
      "---\n",
      "b'(2,(3,(1)5)4)0'\n",
      "0.0118177645\n",
      "---\n",
      "b'(1,2,((4)5)3)0'\n",
      "0.011739706\n",
      "---\n",
      "b'((((4)2,3)5)1)0'\n",
      "0.010475362\n",
      "---\n",
      "b'((((2)1,4)5)3)0'\n",
      "0.010443549\n",
      "---\n",
      "b'((4,(2,3)5)1)0'\n",
      "0.010389706\n",
      "---\n",
      "b'((((3)1,2)5)4)0'\n",
      "0.010380029\n",
      "---\n",
      "b'(((3,4)5)1,2)0'\n",
      "0.010349681\n",
      "---\n",
      "b'((((1)4,5)3)2)0'\n",
      "0.00686918\n",
      "---\n",
      "b'((1,((5)3)4)2)0'\n",
      "0.006868367\n",
      "---\n",
      "b'(((1,(5)3)2)4)0'\n",
      "0.0068667084\n",
      "---\n",
      "b'((1,(4,5)3)2)0'\n",
      "0.0068623456\n",
      "---\n",
      "b'((3,((5)1)4)2)0'\n",
      "0.0068405857\n",
      "---\n",
      "b'(((((5)1)4)3)2)0'\n",
      "0.0068405843\n",
      "---\n",
      "b'(((((5)1)3)4)2)0'\n",
      "0.0068392763\n",
      "---\n",
      "b'(((5)1,2,4)3)0'\n",
      "0.0068343054\n",
      "---\n",
      "b'((((5)1,2)3)4)0'\n",
      "0.0068343035\n",
      "---\n",
      "b'((((5)1,4)2)3)0'\n",
      "0.006833178\n",
      "---\n",
      "b'((((5)2,3)4)1)0'\n",
      "0.00683149\n",
      "---\n",
      "b'((((3)1)4,5)2)0'\n",
      "0.0068266243\n",
      "---\n",
      "b'(((2)1,4,5)3)0'\n",
      "0.0068163252\n",
      "---\n",
      "b'(((4)1,2,5)3)0'\n",
      "0.0068150666\n",
      "---\n",
      "b'((((2,5)3)4)1)0'\n",
      "0.0068150666\n",
      "---\n",
      "b'((((4)1,5)2)3)0'\n",
      "0.006813453\n",
      "---\n",
      "b'(((1,2)3,5)4)0'\n",
      "0.0068133315\n",
      "---\n",
      "b'((1,2,(5)4)3)0'\n",
      "0.006813331\n",
      "---\n",
      "b'((((3)4,5)1)2)0'\n",
      "0.006792761\n",
      "---\n",
      "b'((((2)1,5)4)3)0'\n",
      "0.00677214\n",
      "---\n",
      "b'((2,(4)3,5)1)0'\n",
      "0.006760825\n",
      "---\n",
      "b'(((((1)2)3)4)5)0'\n",
      "0.0062155477\n",
      "---\n",
      "b'((((2,4)3)1)5)0'\n",
      "0.0061964765\n",
      "---\n",
      "b'(((((2)4)1)3)5)0'\n",
      "0.0061735\n",
      "---\n",
      "b'((((1,4)2)3)5)0'\n",
      "0.006141048\n",
      "---\n",
      "b'(((3)4,(1)5)2)0'\n",
      "0.0060215476\n",
      "---\n",
      "b'((((1,4)3)5)2)0'\n",
      "0.005999816\n",
      "---\n",
      "b'((((2,4)3)5)1)0'\n",
      "0.0059849774\n",
      "---\n",
      "b'(((3,(1)5)4)2)0'\n",
      "0.0059785806\n",
      "---\n",
      "b'(((((2)4)1)5)3)0'\n",
      "0.005977913\n",
      "---\n",
      "b'(((((3)1)5)2)4)0'\n",
      "0.0059766113\n",
      "---\n",
      "b'(((((4)3)5)2)1)0'\n",
      "0.0059688846\n",
      "---\n",
      "b'(((((2)5)3)1)4)0'\n",
      "0.0059684506\n",
      "---\n",
      "b'(((4,(2)5)1)3)0'\n",
      "0.005930635\n",
      "---\n",
      "b'((1,((2)3)4)5)0'\n",
      "0.005452673\n",
      "---\n",
      "b'(((2)3,(1)4)5)0'\n",
      "0.0054370733\n",
      "---\n",
      "b'((1,(2)3,4)5)0'\n",
      "0.0047693895\n",
      "---\n",
      "b'(((2)1,3,4)5)0'\n",
      "0.004737743\n",
      "---\n",
      "b'(((1,2,4)5)3)0'\n",
      "0.004601208\n",
      "---\n"
     ]
    }
   ],
   "source": [
    "\n",
    "for t in zip(out_file['result']['trees']['newick'], out_file['result']['trees']['weight']):\n",
    "    print(t[0])\n",
    "    print(t[1])\n",
    "    print('---')"
   ]
  },
  {
   "cell_type": "code",
   "execution_count": 33,
   "metadata": {
    "collapsed": false
   },
   "outputs": [],
   "source": []
  }
 ],
 "metadata": {
  "kernelspec": {
   "display_name": "Python 3 (ipykernel)",
   "language": "python",
   "name": "python3"
  },
  "language_info": {
   "codemirror_mode": {
    "name": "ipython",
    "version": 3
   },
   "file_extension": ".py",
   "mimetype": "text/x-python",
   "name": "python",
   "nbconvert_exporter": "python",
   "pygments_lexer": "ipython3",
   "version": "3.10.12"
  }
 },
 "nbformat": 4,
 "nbformat_minor": 4
}
