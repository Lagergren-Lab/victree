{
 "cells": [
  {
   "cell_type": "markdown",
   "metadata": {
    "collapsed": false,
    "jupyter": {
     "outputs_hidden": false
    }
   },
   "source": [
    "    # Output CN plot"
   ]
  },
  {
   "cell_type": "code",
   "execution_count": 28,
   "metadata": {
    "collapsed": false,
    "jupyter": {
     "outputs_hidden": false
    }
   },
   "outputs": [],
   "source": [
    "import matplotlib\n",
    "import matplotlib.pyplot as plt\n",
    "# imports\n",
    "import scgenome.plotting as pl\n",
    "import h5py\n",
    "import anndata\n",
    "import numpy as np"
   ]
  },
  {
   "cell_type": "code",
   "execution_count": 29,
   "metadata": {
    "collapsed": false,
    "jupyter": {
     "outputs_hidden": false
    }
   },
   "outputs": [
    {
     "name": "stdout",
     "output_type": "stream",
     "text": [
      "/Users/haraldme/git/Lagergren Lab/CopyTree/VICTree/victree/src/experiments\n"
     ]
    }
   ],
   "source": [
    "import os\n",
    "print(os.getcwd())\n"
   ]
  },
  {
   "cell_type": "code",
   "execution_count": 57,
   "metadata": {
    "collapsed": false,
    "jupyter": {
     "outputs_hidden": false
    }
   },
   "outputs": [
    {
     "name": "stdout",
     "output_type": "stream",
     "text": [
      "out file keys: AnnData object with n_obs × n_vars = 683 × 6206\n",
      "    obs: 'victree-mu', 'victree-mt-lambda', 'victree-mt-alpha', 'victree-mt-beta', 'victree-tau', 'victree-clone'\n",
      "    var: 'bin', 'chr', 'start', 'end'\n",
      "    uns: 'victree-eps-alpha', 'victree-eps-beta', 'victree-tree-graph', 'victree-tree-newick', 'victree-tree-probs'\n",
      "    obsm: 'victree-clone-probs'\n",
      "    varm: 'victree-cn-pprobs', 'victree-cn-sprobs'\n",
      "    layers: 'victree-cn-marginal', 'victree-cn-viterbi'\n",
      "model file keys: <KeysViewHDF5 ['VarTreeJointDist', 'qCMultiChrom', 'qEpsilonMulti', 'qMuTau', 'qPi', 'qT', 'qZ']>\n",
      "config keys: {'step_size_delay': 2.0, 'step_size_forgetting_rate': 0.7, 'step_size_scheme': 'None', 'batch_size': 20, 'SVI': False, 'split': 'categorical', 'curr_it': 100, 'qc_smoothing': False, '_diagnostics': True, 'step_size': 0.1, 'annealing': 1.0, '_n_nodes': 6, '_n_states': 7, '_eps0': 0.01, '_n_cells': 683, '_chain_length': 6206, '_n_chromosomes': 24, '_chromosome_indexes': [499, 986, 1383, 1766, 2128, 2471, 2790, 3083, 3366, 3638, 3909, 4177, 4408, 4623, 4829, 5010, 5173, 5330, 5449, 5576, 5673, 5776, 6087], '_wis_sample_size': 5, '_elbo_rtol': 0.001, '_max_close_runs': 10, '_sieving_size': 1, '_n_run_iter': 100, '_n_sieving_iter': 0, '_debug': False, '_out_dir': '../output/P01-066/K5L5i100step0p1split', '_save_progress_every_niter': 10}\n"
     ]
    },
    {
     "name": "stderr",
     "output_type": "stream",
     "text": [
      "/Users/haraldme/miniconda3/envs/victree/lib/python3.10/site-packages/anndata/_core/anndata.py:117: ImplicitModificationWarning: Transforming to str index.\n",
      "  warnings.warn(\"Transforming to str index.\", ImplicitModificationWarning)\n"
     ]
    }
   ],
   "source": [
    "import json\n",
    "base_path = \"../../output/P01-066\"\n",
    "data_set = \"K5L5i100step0p1split\"\n",
    "experiment_seed = \"\"\n",
    "path = os.path.join(base_path, data_set)\n",
    "path = os.path.join(path, experiment_seed)\n",
    "\n",
    "out_file = anndata.read_h5ad(os.path.join(path, 'victree.out.h5ad')) # 014\n",
    "model_file = h5py.File(os.path.join(path, 'victree.model.h5')) # 014\n",
    "with open(os.path.join(path, \"victree.config.json\")) as file:\n",
    "    config_file = json.load(file)\n",
    "\n",
    "print(f'out file keys: {out_file}')\n",
    "print(f'model file keys: {model_file.keys()}')\n",
    "print(f'config keys: {config_file}')"
   ]
  },
  {
   "cell_type": "code",
   "execution_count": 49,
   "metadata": {
    "collapsed": false,
    "jupyter": {
     "outputs_hidden": false
    }
   },
   "outputs": [
    {
     "name": "stdout",
     "output_type": "stream",
     "text": [
      "KeysView(Layers with keys: victree-cn-marginal, victree-cn-viterbi)\n",
      "Index(['victree-mu', 'victree-mt-lambda', 'victree-mt-alpha',\n",
      "       'victree-mt-beta', 'victree-tau', 'victree-clone'],\n",
      "      dtype='object')\n"
     ]
    }
   ],
   "source": [
    "print(out_file.layers.keys())\n",
    "print(out_file.obs.keys())"
   ]
  },
  {
   "cell_type": "code",
   "execution_count": 50,
   "metadata": {
    "collapsed": false,
    "jupyter": {
     "outputs_hidden": false
    }
   },
   "outputs": [],
   "source": [
    "# get cell assignment and cell copy number\n",
    "top_z = out_file.obsm['victree-clone-probs'][...].argmax(axis=1)\n",
    "clone_cn_np = out_file.layers['victree-cn-marginal'][...].argmax(axis=-1)\n",
    "cell_cn = clone_cn_np[top_z, :]"
   ]
  },
  {
   "cell_type": "code",
   "execution_count": 51,
   "metadata": {
    "collapsed": false,
    "jupyter": {
     "outputs_hidden": false
    }
   },
   "outputs": [
    {
     "name": "stderr",
     "output_type": "stream",
     "text": [
      "/Users/haraldme/git/Lagergren Lab/CopyTree/VICTree/victree/src/utils/factory_utils.py:90: UserWarning: Creating a tensor from a list of numpy.ndarrays is extremely slow. Please consider converting the list to a single numpy.ndarray with numpy.array() before converting to a tensor. (Triggered internally at /Users/runner/miniforge3/conda-bld/pytorch-recipe_1675740407425/work/torch/csrc/utils/tensor_new.cpp:233.)\n",
      "  eta1 = torch.tensor(qC_params[key]['eta1'])\n"
     ]
    },
    {
     "name": "stdout",
     "output_type": "stream",
     "text": [
      "tensor([[7.4064e-05, 7.0749e-05, 9.9957e-01, 6.9017e-05, 7.1090e-05, 7.0789e-05,\n",
      "         7.0980e-05],\n",
      "        [3.6380e-04, 3.7356e-04, 9.9780e-01, 3.7545e-04, 3.6926e-04, 3.5916e-04,\n",
      "         3.5508e-04],\n",
      "        [3.4094e-06, 2.8664e-06, 1.8272e-05, 9.9996e-01, 4.2961e-06, 4.5980e-06,\n",
      "         5.1944e-06]])\n"
     ]
    }
   ],
   "source": [
    "from utils import factory_utils\n",
    "\n",
    "qC = factory_utils.construct_qCMultiChrome_from_model_output_data(model_file)\n",
    "qC.compute_filtering_probs()\n",
    "print(qC.single_filtering_probs[1, 0:3])"
   ]
  },
  {
   "cell_type": "code",
   "execution_count": 52,
   "metadata": {
    "collapsed": false,
    "jupyter": {
     "outputs_hidden": false
    }
   },
   "outputs": [],
   "source": [
    "# create anndata\n",
    "# adata = anndata.read_h5ad('/Users/zemp/Downloads/data/signals_SPECTRUM-OV-006.h5')\n",
    "adata = anndata.read_h5ad('../../data/x_data/P01-066_cn_data.h5ad')\n",
    "# adata = anndata.read_h5ad('/Users/zemp/Downloads/data/signals_SPECTRUM-OV-107.h5')\n",
    "\n",
    "\n",
    "adata.obs['clone'] = top_z"
   ]
  },
  {
   "cell_type": "code",
   "execution_count": 53,
   "metadata": {
    "collapsed": false,
    "jupyter": {
     "outputs_hidden": false
    }
   },
   "outputs": [
    {
     "name": "stdout",
     "output_type": "stream",
     "text": [
      "(683, 6206)\n",
      "(683, 6206)\n"
     ]
    }
   ],
   "source": [
    "print(cell_cn.shape)\n",
    "print(clone_cn_np.shape)"
   ]
  },
  {
   "cell_type": "code",
   "execution_count": 54,
   "metadata": {
    "collapsed": false,
    "jupyter": {
     "outputs_hidden": false
    }
   },
   "outputs": [
    {
     "name": "stdout",
     "output_type": "stream",
     "text": [
      "[3 3 3 3 3 3 3 3 3 3 2 3 3 3 3 3 3 3 3 3 3 3 3 3 3 3 3 3 3 3 3 3 3 3 3 3 3\n",
      " 3 3 3 3 3 3 3 3 3 2 2 2 3 2 3 4 4 4 4 4 4 4 4 4 3 3 3 3 3 3 3 3 3 3 3 3 3\n",
      " 3 3 3 3 3 3 3 3 3 3 3 3 3 3 3 3 3 3 3 3 3 3 3 3 2 2 3 3 3 3 3 3 3 3 3 3 3\n",
      " 3 3 3 3 3 3 3 3 3 3 3 3 3 3 3 3 3 3 3 3 3 3 3 3 3 3 3 3 3 3 3 3 3 3 3 3 3\n",
      " 3 3 3 3 3 3 3 3 3 3 3 3 3 3 3 3 3 3 3 3 3 3 3 3 1 2 4 4 4 4 4 4 4 4 4 4 4\n",
      " 4 4 4 4 4 4 4 4 4 4 4 4 4 4 4]\n"
     ]
    }
   ],
   "source": [
    "from utils import visualization_utils\n",
    "matplotlib.use('Qt5Agg')\n",
    "qC_marginals_np = qC.single_filtering_probs.numpy()\n",
    "qC_argmax = qC_marginals_np.argmax(axis=-1)\n",
    "#visualization_utils.visualize_copy_number_profiles_ipynb()\n",
    "import matplotlib.pyplot as plt\n",
    "\n",
    "print(qC_argmax[5, 5000:5200])"
   ]
  },
  {
   "cell_type": "code",
   "execution_count": 55,
   "metadata": {
    "collapsed": false,
    "jupyter": {
     "outputs_hidden": false
    }
   },
   "outputs": [
    {
     "data": {
      "text/plain": "<Figure size 640x480 with 5 Axes>",
      "image/png": "[encoded data removed]"
     },
     "metadata": {},
     "output_type": "display_data"
    }
   ],
   "source": [
    "%matplotlib inline\n",
    "#out_file.layers['victree-cn-marginal'] = cell_qc.get_viterbi()[1:].numpy()\n",
    "g = pl.plot_cell_cn_matrix_fig(out_file, 'victree-cn-viterbi', cell_order_fields=['victree-clone'], max_cn=7)"
   ]
  },
  {
   "cell_type": "code",
   "execution_count": 56,
   "metadata": {},
   "outputs": [
    {
     "data": {
      "text/plain": "<Figure size 640x480 with 5 Axes>",
      "image/png": "[encoded data removed]"
     },
     "metadata": {},
     "output_type": "display_data"
    }
   ],
   "source": [
    "adata.obs['victree-clone'] = out_file.obs['victree-clone']\n",
    "g = pl.plot_cell_cn_matrix_fig(adata, 'state', cell_order_fields=['clone'])"
   ]
  },
  {
   "cell_type": "code",
   "execution_count": 29,
   "metadata": {
    "collapsed": false,
    "jupyter": {
     "outputs_hidden": false
    }
   },
   "outputs": [
    {
     "data": {
      "text/plain": [
       "<Axes: xlabel='chromosome'>"
      ]
     },
     "execution_count": 29,
     "metadata": {},
     "output_type": "execute_result"
    },
    {
     "data": {
      "image/png": "[encoded data removed]",
      "text/plain": [
       "<Figure size 640x480 with 1 Axes>"
      ]
     },
     "metadata": {},
     "output_type": "display_data"
    }
   ],
   "source": [
    "pl.plot_cell_cn_matrix(adata, 'marginal', cell_order_fields=['clone'], max_cn=7)['ax']"
   ]
  },
  {
   "cell_type": "code",
   "execution_count": 30,
   "metadata": {
    "collapsed": false,
    "jupyter": {
     "outputs_hidden": false
    }
   },
   "outputs": [
    {
     "data": {
      "text/plain": [
       "<Axes: xlabel='chromosome'>"
      ]
     },
     "execution_count": 30,
     "metadata": {},
     "output_type": "execute_result"
    },
    {
     "data": {
      "image/png": "[encoded data removed]",
      "text/plain": [
       "<Figure size 640x480 with 1 Axes>"
      ]
     },
     "metadata": {},
     "output_type": "display_data"
    }
   ],
   "source": [
    "# sort cells based on cluster assignment\n",
    "pl.plot_cell_cn_matrix(adata, 'state', cell_order_fields=['clone'], max_cn=7)['ax']"
   ]
  },
  {
   "cell_type": "code",
   "execution_count": 31,
   "metadata": {
    "collapsed": false,
    "jupyter": {
     "outputs_hidden": false
    }
   },
   "outputs": [
    {
     "data": {
      "text/plain": [
       "(array([0, 5]), array([724, 381]))"
      ]
     },
     "execution_count": 31,
     "metadata": {},
     "output_type": "execute_result"
    }
   ],
   "source": [
    "import numpy as np\n",
    "np.unique(top_z, return_counts=True)"
   ]
  },
  {
   "cell_type": "code",
   "execution_count": 32,
   "metadata": {
    "collapsed": false,
    "jupyter": {
     "outputs_hidden": false
    }
   },
   "outputs": [
    {
     "data": {
      "text/plain": [
       "<KeysViewHDF5 ['newick', 'weight']>"
      ]
     },
     "execution_count": 32,
     "metadata": {},
     "output_type": "execute_result"
    }
   ],
   "source": [
    "out_file['result']['trees'].keys()"
   ]
  },
  {
   "cell_type": "code",
   "execution_count": 33,
   "metadata": {
    "collapsed": false,
    "jupyter": {
     "outputs_hidden": false
    }
   },
   "outputs": [
    {
     "name": "stdout",
     "output_type": "stream",
     "text": [
      "b'((2,(1,5)4)3)0'\n",
      "0.02043939\n",
      "---\n",
      "b'((((5)2)1,3)4)0'\n",
      "0.013640878\n",
      "---\n",
      "b'(((5)1,(3)2)4)0'\n",
      "0.013598051\n",
      "---\n",
      "b'(1,(2,(5)3)4)0'\n",
      "0.013593179\n",
      "---\n",
      "b'((2,(3)4)1,5)0'\n",
      "0.013571922\n",
      "---\n",
      "b'((3,5)2,(1)4)0'\n",
      "0.013564752\n",
      "---\n",
      "b'(2,(1,4)3,5)0'\n",
      "0.01355846\n",
      "---\n",
      "b'((1,4)2,3,5)0'\n",
      "0.013556236\n",
      "---\n",
      "b'((2,((5)3)4)1)0'\n",
      "0.013550264\n",
      "---\n",
      "b'((1)2,(4,5)3)0'\n",
      "0.013547564\n",
      "---\n",
      "b'((1,(3)2,5)4)0'\n",
      "0.013543362\n",
      "---\n",
      "b'(((4,5)2,3)1)0'\n",
      "0.013538791\n",
      "---\n",
      "b'(((2,3)4,5)1)0'\n",
      "0.0135366\n",
      "---\n",
      "b'((1,(2,5)4)3)0'\n",
      "0.0135211\n",
      "---\n",
      "b'((4)1,(2,5)3)0'\n",
      "0.013488823\n",
      "---\n",
      "b'(((3)1,5)2,4)0'\n",
      "0.013478719\n",
      "---\n",
      "b'(1,(((5)2)4)3)0'\n",
      "0.013476964\n",
      "---\n",
      "b'((2,(3,5)4)1)0'\n",
      "0.013476209\n",
      "---\n",
      "b'(2,((1,5)4)3)0'\n",
      "0.0134605905\n",
      "---\n",
      "b'(((2,(5)4)1)3)0'\n",
      "0.01343996\n",
      "---\n",
      "b'((3,5)1,(4)2)0'\n",
      "0.0134385275\n",
      "---\n",
      "b'(((5)2,3)1,4)0'\n",
      "0.013409871\n",
      "---\n",
      "b'(((3)1)2,(5)4)0'\n",
      "0.013383034\n",
      "---\n",
      "b'((2)1,(5)3,4)0'\n",
      "0.013311512\n",
      "---\n",
      "b'(((3,(1)4)2)5)0'\n",
      "0.012144192\n",
      "---\n",
      "b'(((1,(4)2)3)5)0'\n",
      "0.012141792\n",
      "---\n",
      "b'(((1,2,4)3)5)0'\n",
      "0.012141299\n",
      "---\n",
      "b'((((4)1,2)3)5)0'\n",
      "0.01205685\n",
      "---\n",
      "b'((((1)5)2,3)4)0'\n",
      "0.012046414\n",
      "---\n",
      "b'(((((1)5)3)2)4)0'\n",
      "0.012039037\n",
      "---\n",
      "b'((2,4)3,(1)5)0'\n",
      "0.012029736\n",
      "---\n",
      "b'(4,(((1)3)2)5)0'\n",
      "0.012015604\n",
      "---\n",
      "b'(((1)3)4,(2)5)0'\n",
      "0.01199714\n",
      "---\n",
      "b'(((((1)4)3)2)5)0'\n",
      "0.011988523\n",
      "---\n",
      "b'(((((2)4)3)5)1)0'\n",
      "0.011974865\n",
      "---\n",
      "b'(((3,(2)4)1)5)0'\n",
      "0.011958624\n",
      "---\n",
      "b'(((3,(4)5)2)1)0'\n",
      "0.011954118\n",
      "---\n",
      "b'((4)1,((3)2)5)0'\n",
      "0.011938513\n",
      "---\n",
      "b'((4)2,((1)5)3)0'\n",
      "0.011895074\n",
      "---\n",
      "b'(1,(((4)5)3)2)0'\n",
      "0.01189288\n",
      "---\n",
      "b'(3,(((1)5)2)4)0'\n",
      "0.011890962\n",
      "---\n",
      "b'(1,(4,(3)5)2)0'\n",
      "0.011889699\n",
      "---\n",
      "b'(1,(4)2,(3)5)0'\n",
      "0.011888629\n",
      "---\n",
      "b'(1,(2)4,(3)5)0'\n",
      "0.011888594\n",
      "---\n",
      "b'((((2)3,4)1)5)0'\n",
      "0.011871586\n",
      "---\n",
      "b'(((2,(1)5)4)3)0'\n",
      "0.01186952\n",
      "---\n",
      "b'(((4,(2)5)3)1)0'\n",
      "0.011865891\n",
      "---\n",
      "b'(1,3,((4)2)5)0'\n",
      "0.011863975\n",
      "---\n",
      "b'(1,(((3)2)4)5)0'\n",
      "0.011838193\n",
      "---\n",
      "b'(((((4)3)5)1)2)0'\n",
      "0.011832737\n",
      "---\n",
      "b'(((2)5)1,(3)4)0'\n",
      "0.011831915\n",
      "---\n",
      "b'((1,((2)5)4)3)0'\n",
      "0.011823593\n",
      "---\n",
      "b'(((((3)4)1)2)5)0'\n",
      "0.011818235\n",
      "---\n",
      "b'(2,(3,(1)5)4)0'\n",
      "0.0118177645\n",
      "---\n",
      "b'(1,2,((4)5)3)0'\n",
      "0.011739706\n",
      "---\n",
      "b'((((4)2,3)5)1)0'\n",
      "0.010475362\n",
      "---\n",
      "b'((((2)1,4)5)3)0'\n",
      "0.010443549\n",
      "---\n",
      "b'((4,(2,3)5)1)0'\n",
      "0.010389706\n",
      "---\n",
      "b'((((3)1,2)5)4)0'\n",
      "0.010380029\n",
      "---\n",
      "b'(((3,4)5)1,2)0'\n",
      "0.010349681\n",
      "---\n",
      "b'((((1)4,5)3)2)0'\n",
      "0.00686918\n",
      "---\n",
      "b'((1,((5)3)4)2)0'\n",
      "0.006868367\n",
      "---\n",
      "b'(((1,(5)3)2)4)0'\n",
      "0.0068667084\n",
      "---\n",
      "b'((1,(4,5)3)2)0'\n",
      "0.0068623456\n",
      "---\n",
      "b'((3,((5)1)4)2)0'\n",
      "0.0068405857\n",
      "---\n",
      "b'(((((5)1)4)3)2)0'\n",
      "0.0068405843\n",
      "---\n",
      "b'(((((5)1)3)4)2)0'\n",
      "0.0068392763\n",
      "---\n",
      "b'(((5)1,2,4)3)0'\n",
      "0.0068343054\n",
      "---\n",
      "b'((((5)1,2)3)4)0'\n",
      "0.0068343035\n",
      "---\n",
      "b'((((5)1,4)2)3)0'\n",
      "0.006833178\n",
      "---\n",
      "b'((((5)2,3)4)1)0'\n",
      "0.00683149\n",
      "---\n",
      "b'((((3)1)4,5)2)0'\n",
      "0.0068266243\n",
      "---\n",
      "b'(((2)1,4,5)3)0'\n",
      "0.0068163252\n",
      "---\n",
      "b'(((4)1,2,5)3)0'\n",
      "0.0068150666\n",
      "---\n",
      "b'((((2,5)3)4)1)0'\n",
      "0.0068150666\n",
      "---\n",
      "b'((((4)1,5)2)3)0'\n",
      "0.006813453\n",
      "---\n",
      "b'(((1,2)3,5)4)0'\n",
      "0.0068133315\n",
      "---\n",
      "b'((1,2,(5)4)3)0'\n",
      "0.006813331\n",
      "---\n",
      "b'((((3)4,5)1)2)0'\n",
      "0.006792761\n",
      "---\n",
      "b'((((2)1,5)4)3)0'\n",
      "0.00677214\n",
      "---\n",
      "b'((2,(4)3,5)1)0'\n",
      "0.006760825\n",
      "---\n",
      "b'(((((1)2)3)4)5)0'\n",
      "0.0062155477\n",
      "---\n",
      "b'((((2,4)3)1)5)0'\n",
      "0.0061964765\n",
      "---\n",
      "b'(((((2)4)1)3)5)0'\n",
      "0.0061735\n",
      "---\n",
      "b'((((1,4)2)3)5)0'\n",
      "0.006141048\n",
      "---\n",
      "b'(((3)4,(1)5)2)0'\n",
      "0.0060215476\n",
      "---\n",
      "b'((((1,4)3)5)2)0'\n",
      "0.005999816\n",
      "---\n",
      "b'((((2,4)3)5)1)0'\n",
      "0.0059849774\n",
      "---\n",
      "b'(((3,(1)5)4)2)0'\n",
      "0.0059785806\n",
      "---\n",
      "b'(((((2)4)1)5)3)0'\n",
      "0.005977913\n",
      "---\n",
      "b'(((((3)1)5)2)4)0'\n",
      "0.0059766113\n",
      "---\n",
      "b'(((((4)3)5)2)1)0'\n",
      "0.0059688846\n",
      "---\n",
      "b'(((((2)5)3)1)4)0'\n",
      "0.0059684506\n",
      "---\n",
      "b'(((4,(2)5)1)3)0'\n",
      "0.005930635\n",
      "---\n",
      "b'((1,((2)3)4)5)0'\n",
      "0.005452673\n",
      "---\n",
      "b'(((2)3,(1)4)5)0'\n",
      "0.0054370733\n",
      "---\n",
      "b'((1,(2)3,4)5)0'\n",
      "0.0047693895\n",
      "---\n",
      "b'(((2)1,3,4)5)0'\n",
      "0.004737743\n",
      "---\n",
      "b'(((1,2,4)5)3)0'\n",
      "0.004601208\n",
      "---\n"
     ]
    }
   ],
   "source": [
    "\n",
    "for t in zip(out_file['result']['trees']['newick'], out_file['result']['trees']['weight']):\n",
    "    print(t[0])\n",
    "    print(t[1])\n",
    "    print('---')"
   ]
  },
  {
   "cell_type": "code",
   "execution_count": 33,
   "metadata": {
    "collapsed": false,
    "jupyter": {
     "outputs_hidden": false
    }
   },
   "outputs": [],
   "source": []
  }
 ],
 "metadata": {
  "kernelspec": {
   "display_name": "Python 3 (ipykernel)",
   "language": "python",
   "name": "python3"
  },
  "language_info": {
   "codemirror_mode": {
    "name": "ipython",
    "version": 3
   },
   "file_extension": ".py",
   "mimetype": "text/x-python",
   "name": "python",
   "nbconvert_exporter": "python",
   "pygments_lexer": "ipython3",
   "version": "3.10.0"
  }
 },
 "nbformat": 4,
 "nbformat_minor": 4
}
