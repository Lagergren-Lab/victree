{
 "cells": [
  {
   "cell_type": "markdown",
   "metadata": {
    "collapsed": false,
    "jupyter": {
     "outputs_hidden": false
    }
   },
   "source": [
    "    # Output CN plot"
   ]
  },
  {
   "cell_type": "code",
   "execution_count": 28,
   "metadata": {
    "collapsed": false,
    "jupyter": {
     "outputs_hidden": false
    }
   },
   "outputs": [],
   "source": [
    "import matplotlib\n",
    "import matplotlib.pyplot as plt\n",
    "# imports\n",
    "import scgenome.plotting as pl\n",
    "import h5py\n",
    "import anndata\n",
    "import numpy as np"
   ]
  },
  {
   "cell_type": "code",
   "execution_count": 29,
   "metadata": {
    "collapsed": false,
    "jupyter": {
     "outputs_hidden": false
    }
   },
   "outputs": [
    {
     "name": "stdout",
     "output_type": "stream",
     "text": [
      "/Users/haraldme/git/Lagergren Lab/CopyTree/VICTree/victree/src/experiments\n"
     ]
    }
   ],
   "source": [
    "import os\n",
    "print(os.getcwd())\n"
   ]
  },
  {
   "cell_type": "code",
   "execution_count": 40,
   "metadata": {
    "collapsed": false,
    "jupyter": {
     "outputs_hidden": false
    }
   },
   "outputs": [
    {
     "ename": "FileNotFoundError",
     "evalue": "[Errno 2] Unable to open file (unable to open file: name = '../../tests/test_output/experiments/fixed_tree_experiments/VICtreeFixedTreeExperiment/fixed_tree_real_data_experiment/K7_A7_rho1.0_niter30/seed_0/victree.out.h5ad', errno = 2, error message = 'No such file or directory', flags = 0, o_flags = 0)",
     "output_type": "error",
     "traceback": [
      "\u001B[0;31m---------------------------------------------------------------------------\u001B[0m",
      "\u001B[0;31mFileNotFoundError\u001B[0m                         Traceback (most recent call last)",
      "Cell \u001B[0;32mIn[40], line 4\u001B[0m\n\u001B[1;32m      1\u001B[0m \u001B[38;5;66;03m# read output h5\u001B[39;00m\n\u001B[1;32m      2\u001B[0m \u001B[38;5;66;03m# out_file = h5py.File('/Users/zemp/phd/scilife/cpt_experiments/output/spectr006/out_k6a7n1314m6206.h5') # 006\u001B[39;00m\n\u001B[1;32m      3\u001B[0m \u001B[38;5;66;03m#out_file = h5py.File('../../output/P01-066/K6L100i200s0p1/victree.out.h5ad') # 014\u001B[39;00m\n\u001B[0;32m----> 4\u001B[0m out_file \u001B[38;5;241m=\u001B[39m \u001B[43manndata\u001B[49m\u001B[38;5;241;43m.\u001B[39;49m\u001B[43mread_h5ad\u001B[49m\u001B[43m(\u001B[49m\u001B[38;5;124;43m'\u001B[39;49m\u001B[38;5;124;43m../../tests/test_output/experiments/fixed_tree_experiments/VICtreeFixedTreeExperiment/fixed_tree_real_data_experiment/K7_A7_rho1.0_niter30/seed_0/victree.out.h5ad\u001B[39;49m\u001B[38;5;124;43m'\u001B[39;49m\u001B[43m)\u001B[49m \u001B[38;5;66;03m# 014\u001B[39;00m\n\u001B[1;32m      5\u001B[0m \u001B[38;5;66;03m#model_file = h5py.File('../../output/P01-066/K6L100i200s0p1/victree.model.h5') # 014\u001B[39;00m\n\u001B[1;32m      6\u001B[0m model_file \u001B[38;5;241m=\u001B[39m h5py\u001B[38;5;241m.\u001B[39mFile(\u001B[38;5;124m'\u001B[39m\u001B[38;5;124m../../tests/test_output/experiments/fixed_tree_experiments/VICtreeFixedTreeExperiment/fixed_tree_real_data_experiment/K7_A7_rho1.0_niter30/seed_0/victree.model.h5\u001B[39m\u001B[38;5;124m'\u001B[39m) \u001B[38;5;66;03m# 014\u001B[39;00m\n",
      "File \u001B[0;32m~/miniconda3/envs/victree/lib/python3.10/site-packages/anndata/_io/h5ad.py:219\u001B[0m, in \u001B[0;36mread_h5ad\u001B[0;34m(filename, backed, as_sparse, as_sparse_fmt, chunk_size)\u001B[0m\n\u001B[1;32m    211\u001B[0m         \u001B[38;5;28;01mraise\u001B[39;00m \u001B[38;5;167;01mNotImplementedError\u001B[39;00m(\n\u001B[1;32m    212\u001B[0m             \u001B[38;5;124m\"\u001B[39m\u001B[38;5;124mCurrently only `X` and `raw/X` can be read as sparse.\u001B[39m\u001B[38;5;124m\"\u001B[39m\n\u001B[1;32m    213\u001B[0m         )\n\u001B[1;32m    215\u001B[0m rdasp \u001B[38;5;241m=\u001B[39m partial(\n\u001B[1;32m    216\u001B[0m     read_dense_as_sparse, sparse_format\u001B[38;5;241m=\u001B[39mas_sparse_fmt, axis_chunk\u001B[38;5;241m=\u001B[39mchunk_size\n\u001B[1;32m    217\u001B[0m )\n\u001B[0;32m--> 219\u001B[0m \u001B[38;5;28;01mwith\u001B[39;00m \u001B[43mh5py\u001B[49m\u001B[38;5;241;43m.\u001B[39;49m\u001B[43mFile\u001B[49m\u001B[43m(\u001B[49m\u001B[43mfilename\u001B[49m\u001B[43m,\u001B[49m\u001B[43m \u001B[49m\u001B[38;5;124;43m\"\u001B[39;49m\u001B[38;5;124;43mr\u001B[39;49m\u001B[38;5;124;43m\"\u001B[39;49m\u001B[43m)\u001B[49m \u001B[38;5;28;01mas\u001B[39;00m f:\n\u001B[1;32m    221\u001B[0m     \u001B[38;5;28;01mdef\u001B[39;00m \u001B[38;5;21mcallback\u001B[39m(func, elem_name: \u001B[38;5;28mstr\u001B[39m, elem, iospec):\n\u001B[1;32m    222\u001B[0m         \u001B[38;5;28;01mif\u001B[39;00m iospec\u001B[38;5;241m.\u001B[39mencoding_type \u001B[38;5;241m==\u001B[39m \u001B[38;5;124m\"\u001B[39m\u001B[38;5;124manndata\u001B[39m\u001B[38;5;124m\"\u001B[39m \u001B[38;5;129;01mor\u001B[39;00m elem_name\u001B[38;5;241m.\u001B[39mendswith(\u001B[38;5;124m\"\u001B[39m\u001B[38;5;124m/\u001B[39m\u001B[38;5;124m\"\u001B[39m):\n",
      "File \u001B[0;32m~/miniconda3/envs/victree/lib/python3.10/site-packages/h5py/_hl/files.py:507\u001B[0m, in \u001B[0;36mFile.__init__\u001B[0;34m(self, name, mode, driver, libver, userblock_size, swmr, rdcc_nslots, rdcc_nbytes, rdcc_w0, track_order, fs_strategy, fs_persist, fs_threshold, fs_page_size, page_buf_size, min_meta_keep, min_raw_keep, locking, **kwds)\u001B[0m\n\u001B[1;32m    502\u001B[0m     fapl \u001B[38;5;241m=\u001B[39m make_fapl(driver, libver, rdcc_nslots, rdcc_nbytes, rdcc_w0,\n\u001B[1;32m    503\u001B[0m                      locking, page_buf_size, min_meta_keep, min_raw_keep, \u001B[38;5;241m*\u001B[39m\u001B[38;5;241m*\u001B[39mkwds)\n\u001B[1;32m    504\u001B[0m     fcpl \u001B[38;5;241m=\u001B[39m make_fcpl(track_order\u001B[38;5;241m=\u001B[39mtrack_order, fs_strategy\u001B[38;5;241m=\u001B[39mfs_strategy,\n\u001B[1;32m    505\u001B[0m                      fs_persist\u001B[38;5;241m=\u001B[39mfs_persist, fs_threshold\u001B[38;5;241m=\u001B[39mfs_threshold,\n\u001B[1;32m    506\u001B[0m                      fs_page_size\u001B[38;5;241m=\u001B[39mfs_page_size)\n\u001B[0;32m--> 507\u001B[0m     fid \u001B[38;5;241m=\u001B[39m \u001B[43mmake_fid\u001B[49m\u001B[43m(\u001B[49m\u001B[43mname\u001B[49m\u001B[43m,\u001B[49m\u001B[43m \u001B[49m\u001B[43mmode\u001B[49m\u001B[43m,\u001B[49m\u001B[43m \u001B[49m\u001B[43muserblock_size\u001B[49m\u001B[43m,\u001B[49m\u001B[43m \u001B[49m\u001B[43mfapl\u001B[49m\u001B[43m,\u001B[49m\u001B[43m \u001B[49m\u001B[43mfcpl\u001B[49m\u001B[43m,\u001B[49m\u001B[43m \u001B[49m\u001B[43mswmr\u001B[49m\u001B[38;5;241;43m=\u001B[39;49m\u001B[43mswmr\u001B[49m\u001B[43m)\u001B[49m\n\u001B[1;32m    509\u001B[0m \u001B[38;5;28;01mif\u001B[39;00m \u001B[38;5;28misinstance\u001B[39m(libver, \u001B[38;5;28mtuple\u001B[39m):\n\u001B[1;32m    510\u001B[0m     \u001B[38;5;28mself\u001B[39m\u001B[38;5;241m.\u001B[39m_libver \u001B[38;5;241m=\u001B[39m libver\n",
      "File \u001B[0;32m~/miniconda3/envs/victree/lib/python3.10/site-packages/h5py/_hl/files.py:220\u001B[0m, in \u001B[0;36mmake_fid\u001B[0;34m(name, mode, userblock_size, fapl, fcpl, swmr)\u001B[0m\n\u001B[1;32m    218\u001B[0m     \u001B[38;5;28;01mif\u001B[39;00m swmr \u001B[38;5;129;01mand\u001B[39;00m swmr_support:\n\u001B[1;32m    219\u001B[0m         flags \u001B[38;5;241m|\u001B[39m\u001B[38;5;241m=\u001B[39m h5f\u001B[38;5;241m.\u001B[39mACC_SWMR_READ\n\u001B[0;32m--> 220\u001B[0m     fid \u001B[38;5;241m=\u001B[39m \u001B[43mh5f\u001B[49m\u001B[38;5;241;43m.\u001B[39;49m\u001B[43mopen\u001B[49m\u001B[43m(\u001B[49m\u001B[43mname\u001B[49m\u001B[43m,\u001B[49m\u001B[43m \u001B[49m\u001B[43mflags\u001B[49m\u001B[43m,\u001B[49m\u001B[43m \u001B[49m\u001B[43mfapl\u001B[49m\u001B[38;5;241;43m=\u001B[39;49m\u001B[43mfapl\u001B[49m\u001B[43m)\u001B[49m\n\u001B[1;32m    221\u001B[0m \u001B[38;5;28;01melif\u001B[39;00m mode \u001B[38;5;241m==\u001B[39m \u001B[38;5;124m'\u001B[39m\u001B[38;5;124mr+\u001B[39m\u001B[38;5;124m'\u001B[39m:\n\u001B[1;32m    222\u001B[0m     fid \u001B[38;5;241m=\u001B[39m h5f\u001B[38;5;241m.\u001B[39mopen(name, h5f\u001B[38;5;241m.\u001B[39mACC_RDWR, fapl\u001B[38;5;241m=\u001B[39mfapl)\n",
      "File \u001B[0;32mh5py/_objects.pyx:54\u001B[0m, in \u001B[0;36mh5py._objects.with_phil.wrapper\u001B[0;34m()\u001B[0m\n",
      "File \u001B[0;32mh5py/_objects.pyx:55\u001B[0m, in \u001B[0;36mh5py._objects.with_phil.wrapper\u001B[0;34m()\u001B[0m\n",
      "File \u001B[0;32mh5py/h5f.pyx:106\u001B[0m, in \u001B[0;36mh5py.h5f.open\u001B[0;34m()\u001B[0m\n",
      "\u001B[0;31mFileNotFoundError\u001B[0m: [Errno 2] Unable to open file (unable to open file: name = '../../tests/test_output/experiments/fixed_tree_experiments/VICtreeFixedTreeExperiment/fixed_tree_real_data_experiment/K7_A7_rho1.0_niter30/seed_0/victree.out.h5ad', errno = 2, error message = 'No such file or directory', flags = 0, o_flags = 0)"
     ]
    }
   ],
   "source": [
    "# read output h5\n",
    "# out_file = h5py.File('/Users/zemp/phd/scilife/cpt_experiments/output/spectr006/out_k6a7n1314m6206.h5') # 006\n",
    "#out_file = h5py.File('../../output/P01-066/K6L100i200s0p1/victree.out.h5ad') # 014\n",
    "out_file = anndata.read_h5ad('../../tests/test_output/experiments/fixed_tree_experiments/VICtreeFixedTreeExperiment/fixed_tree_real_data_experiment/K7_A7_rho1.0_niter30/seed_0/victree.out.h5ad') # 014\n",
    "#model_file = h5py.File('../../output/P01-066/K6L100i200s0p1/victree.model.h5') # 014\n",
    "model_file = h5py.File('../../tests/test_output/experiments/fixed_tree_experiments/VICtreeFixedTreeExperiment/fixed_tree_real_data_experiment/K7_A7_rho1.0_niter30/seed_0/victree.model.h5') # 014\n",
    "# out_file = h5py.File('/Users/zemp/phd/scilife/cpt_experiments/output/spectr107/out_k6a7n608m6206.h5') # 107\n",
    "# out_file = h5py.File('/Users/zemp/phd/scilife/cpt_experiments/output/spectr107/out_k6a7n608m6206_pi1-10.h5') # 107x\n",
    "print(f'out file keys: {out_file}')\n",
    "print(f'model file keys: {model_file.keys()}')"
   ]
  },
  {
   "cell_type": "code",
   "execution_count": 41,
   "metadata": {
    "collapsed": false,
    "jupyter": {
     "outputs_hidden": false
    }
   },
   "outputs": [
    {
     "name": "stdout",
     "output_type": "stream",
     "text": [
      "KeysView(Layers with keys: victree-cn-marginal, victree-cn-viterbi)\n",
      "Index(['victree-mu', 'victree-mt-lambda', 'victree-mt-alpha',\n",
      "       'victree-mt-beta', 'victree-tau', 'victree-clone'],\n",
      "      dtype='object')\n"
     ]
    }
   ],
   "source": [
    "print(out_file.layers.keys())\n",
    "print(out_file.obs.keys())"
   ]
  },
  {
   "cell_type": "code",
   "execution_count": 42,
   "metadata": {
    "collapsed": false,
    "jupyter": {
     "outputs_hidden": false
    }
   },
   "outputs": [],
   "source": [
    "# get cell assignment and cell copy number\n",
    "top_z = out_file.obsm['victree-clone-probs'][...].argmax(axis=1)\n",
    "clone_cn_np = out_file.layers['victree-cn-marginal'][...].argmax(axis=-1)\n",
    "cell_cn = clone_cn_np[top_z, :]"
   ]
  },
  {
   "cell_type": "code",
   "execution_count": 43,
   "metadata": {
    "collapsed": false,
    "jupyter": {
     "outputs_hidden": false
    }
   },
   "outputs": [
    {
     "ename": "ValueError",
     "evalue": "too many values to unpack (expected 3)",
     "output_type": "error",
     "traceback": [
      "\u001B[0;31m---------------------------------------------------------------------------\u001B[0m",
      "\u001B[0;31mValueError\u001B[0m                                Traceback (most recent call last)",
      "Cell \u001B[0;32mIn[43], line 3\u001B[0m\n\u001B[1;32m      1\u001B[0m \u001B[38;5;28;01mfrom\u001B[39;00m \u001B[38;5;21;01mutils\u001B[39;00m \u001B[38;5;28;01mimport\u001B[39;00m factory_utils\n\u001B[0;32m----> 3\u001B[0m qC \u001B[38;5;241m=\u001B[39m \u001B[43mfactory_utils\u001B[49m\u001B[38;5;241;43m.\u001B[39;49m\u001B[43mconstruct_qCMultiChrome_from_model_output_data\u001B[49m\u001B[43m(\u001B[49m\u001B[43mmodel_file\u001B[49m\u001B[43m)\u001B[49m\n\u001B[1;32m      4\u001B[0m qC\u001B[38;5;241m.\u001B[39mcompute_filtering_probs()\n\u001B[1;32m      5\u001B[0m \u001B[38;5;28mprint\u001B[39m(qC\u001B[38;5;241m.\u001B[39msingle_filtering_probs[\u001B[38;5;241m1\u001B[39m, \u001B[38;5;241m0\u001B[39m:\u001B[38;5;241m3\u001B[39m])\n",
      "File \u001B[0;32m~/git/Lagergren Lab/CopyTree/VICTree/victree/src/utils/factory_utils.py:85\u001B[0m, in \u001B[0;36mconstruct_qCMultiChrome_from_model_output_data\u001B[0;34m(model_output_data, config)\u001B[0m\n\u001B[1;32m     84\u001B[0m \u001B[38;5;28;01mdef\u001B[39;00m \u001B[38;5;21mconstruct_qCMultiChrome_from_model_output_data\u001B[39m(model_output_data, config\u001B[38;5;241m=\u001B[39m\u001B[38;5;28;01mNone\u001B[39;00m):\n\u001B[0;32m---> 85\u001B[0m     config \u001B[38;5;241m=\u001B[39m \u001B[43mconstruct_config_from_checkpoint_data\u001B[49m\u001B[43m(\u001B[49m\u001B[43mmodel_output_data\u001B[49m\u001B[43m)\u001B[49m \u001B[38;5;28;01mif\u001B[39;00m config \u001B[38;5;129;01mis\u001B[39;00m \u001B[38;5;28;01mNone\u001B[39;00m \u001B[38;5;28;01melse\u001B[39;00m config\n\u001B[1;32m     86\u001B[0m     qC_params \u001B[38;5;241m=\u001B[39m model_output_data[\u001B[38;5;124m'\u001B[39m\u001B[38;5;124mqCMultiChrom\u001B[39m\u001B[38;5;124m'\u001B[39m]\n\u001B[1;32m     87\u001B[0m     qCMultiChrom \u001B[38;5;241m=\u001B[39m var_dists\u001B[38;5;241m.\u001B[39mqCMultiChrom(config)\n",
      "File \u001B[0;32m~/git/Lagergren Lab/CopyTree/VICTree/victree/src/utils/factory_utils.py:18\u001B[0m, in \u001B[0;36mconstruct_config_from_checkpoint_data\u001B[0;34m(checkpoint_data)\u001B[0m\n\u001B[1;32m     16\u001B[0m \u001B[38;5;28;01mif\u001B[39;00m \u001B[38;5;124m'\u001B[39m\u001B[38;5;124mqC\u001B[39m\u001B[38;5;124m'\u001B[39m \u001B[38;5;129;01min\u001B[39;00m checkpoint_data\u001B[38;5;241m.\u001B[39mkeys():\n\u001B[1;32m     17\u001B[0m     qC \u001B[38;5;241m=\u001B[39m checkpoint_data[\u001B[38;5;124m'\u001B[39m\u001B[38;5;124mqC\u001B[39m\u001B[38;5;124m'\u001B[39m]\n\u001B[0;32m---> 18\u001B[0m     K, M, A \u001B[38;5;241m=\u001B[39m qC[\u001B[38;5;124m'\u001B[39m\u001B[38;5;124meta2\u001B[39m\u001B[38;5;124m'\u001B[39m]\u001B[38;5;241m.\u001B[39mshape\n\u001B[1;32m     19\u001B[0m     M \u001B[38;5;241m+\u001B[39m\u001B[38;5;241m=\u001B[39m \u001B[38;5;241m1\u001B[39m  \u001B[38;5;66;03m# eta2 of shape M-1\u001B[39;00m\n\u001B[1;32m     20\u001B[0m \u001B[38;5;28;01melse\u001B[39;00m:\n",
      "\u001B[0;31mValueError\u001B[0m: too many values to unpack (expected 3)"
     ]
    }
   ],
   "source": [
    "from utils import factory_utils\n",
    "\n",
    "qC = factory_utils.construct_qCMultiChrome_from_model_output_data(model_file)\n",
    "qC.compute_filtering_probs()\n",
    "print(qC.single_filtering_probs[1, 0:3])"
   ]
  },
  {
   "cell_type": "code",
   "execution_count": 44,
   "metadata": {
    "collapsed": false,
    "jupyter": {
     "outputs_hidden": false
    }
   },
   "outputs": [],
   "source": [
    "# create anndata\n",
    "# adata = anndata.read_h5ad('/Users/zemp/Downloads/data/signals_SPECTRUM-OV-006.h5')\n",
    "adata = anndata.read_h5ad('../../data/x_data/P01-066_cn_data.h5ad')\n",
    "# adata = anndata.read_h5ad('/Users/zemp/Downloads/data/signals_SPECTRUM-OV-107.h5')\n",
    "\n",
    "\n",
    "adata.obs['clone'] = top_z"
   ]
  },
  {
   "cell_type": "code",
   "execution_count": 45,
   "metadata": {
    "collapsed": false,
    "jupyter": {
     "outputs_hidden": false
    }
   },
   "outputs": [
    {
     "name": "stdout",
     "output_type": "stream",
     "text": [
      "(683, 6206)\n",
      "(683, 6206)\n"
     ]
    }
   ],
   "source": [
    "print(cell_cn.shape)\n",
    "print(clone_cn_np.shape)"
   ]
  },
  {
   "cell_type": "code",
   "execution_count": 46,
   "metadata": {
    "collapsed": false,
    "jupyter": {
     "outputs_hidden": false
    }
   },
   "outputs": [
    {
     "ename": "NameError",
     "evalue": "name 'qC' is not defined",
     "output_type": "error",
     "traceback": [
      "\u001B[0;31m---------------------------------------------------------------------------\u001B[0m",
      "\u001B[0;31mNameError\u001B[0m                                 Traceback (most recent call last)",
      "Cell \u001B[0;32mIn[46], line 3\u001B[0m\n\u001B[1;32m      1\u001B[0m \u001B[38;5;28;01mfrom\u001B[39;00m \u001B[38;5;21;01mutils\u001B[39;00m \u001B[38;5;28;01mimport\u001B[39;00m visualization_utils\n\u001B[1;32m      2\u001B[0m matplotlib\u001B[38;5;241m.\u001B[39muse(\u001B[38;5;124m'\u001B[39m\u001B[38;5;124mQt5Agg\u001B[39m\u001B[38;5;124m'\u001B[39m)\n\u001B[0;32m----> 3\u001B[0m qC_marginals_np \u001B[38;5;241m=\u001B[39m \u001B[43mqC\u001B[49m\u001B[38;5;241m.\u001B[39msingle_filtering_probs\u001B[38;5;241m.\u001B[39mnumpy()\n\u001B[1;32m      4\u001B[0m qC_argmax \u001B[38;5;241m=\u001B[39m qC_marginals_np\u001B[38;5;241m.\u001B[39margmax(axis\u001B[38;5;241m=\u001B[39m\u001B[38;5;241m-\u001B[39m\u001B[38;5;241m1\u001B[39m)\n\u001B[1;32m      5\u001B[0m \u001B[38;5;66;03m#visualization_utils.visualize_copy_number_profiles_ipynb()\u001B[39;00m\n",
      "\u001B[0;31mNameError\u001B[0m: name 'qC' is not defined"
     ]
    }
   ],
   "source": [
    "from utils import visualization_utils\n",
    "matplotlib.use('Qt5Agg')\n",
    "qC_marginals_np = qC.single_filtering_probs.numpy()\n",
    "qC_argmax = qC_marginals_np.argmax(axis=-1)\n",
    "#visualization_utils.visualize_copy_number_profiles_ipynb()\n",
    "import matplotlib.pyplot as plt\n",
    "\n",
    "print(qC_argmax[5, 5000:5200])"
   ]
  },
  {
   "cell_type": "code",
   "execution_count": 47,
   "metadata": {
    "collapsed": false,
    "jupyter": {
     "outputs_hidden": false
    }
   },
   "outputs": [
    {
     "data": {
      "text/plain": "<Figure size 640x480 with 5 Axes>",
      "image/png": "[encoded data removed]"
     },
     "metadata": {},
     "output_type": "display_data"
    }
   ],
   "source": [
    "%matplotlib inline\n",
    "#out_file.layers['victree-cn-marginal'] = cell_qc.get_viterbi()[1:].numpy()\n",
    "g = pl.plot_cell_cn_matrix_fig(out_file, 'victree-cn-viterbi', cell_order_fields=['victree-clone'], max_cn=7)"
   ]
  },
  {
   "cell_type": "code",
   "execution_count": 39,
   "metadata": {},
   "outputs": [
    {
     "data": {
      "text/plain": "<Figure size 640x480 with 5 Axes>",
      "image/png": "[encoded data removed]"
     },
     "metadata": {},
     "output_type": "display_data"
    }
   ],
   "source": [
    "adata.obs['victree-clone'] = out_file.obs['victree-clone']\n",
    "g = pl.plot_cell_cn_matrix_fig(adata, 'state', cell_order_fields=['clone'])"
   ]
  },
  {
   "cell_type": "code",
   "execution_count": 29,
   "metadata": {
    "collapsed": false,
    "jupyter": {
     "outputs_hidden": false
    }
   },
   "outputs": [
    {
     "data": {
      "text/plain": [
       "<Axes: xlabel='chromosome'>"
      ]
     },
     "execution_count": 29,
     "metadata": {},
     "output_type": "execute_result"
    },
    {
     "data": {
      "image/png": "[encoded data removed]",
      "text/plain": [
       "<Figure size 640x480 with 1 Axes>"
      ]
     },
     "metadata": {},
     "output_type": "display_data"
    }
   ],
   "source": [
    "pl.plot_cell_cn_matrix(adata, 'marginal', cell_order_fields=['clone'], max_cn=7)['ax']"
   ]
  },
  {
   "cell_type": "code",
   "execution_count": 30,
   "metadata": {
    "collapsed": false,
    "jupyter": {
     "outputs_hidden": false
    }
   },
   "outputs": [
    {
     "data": {
      "text/plain": [
       "<Axes: xlabel='chromosome'>"
      ]
     },
     "execution_count": 30,
     "metadata": {},
     "output_type": "execute_result"
    },
    {
     "data": {
      "image/png": "[encoded data removed]",
      "text/plain": [
       "<Figure size 640x480 with 1 Axes>"
      ]
     },
     "metadata": {},
     "output_type": "display_data"
    }
   ],
   "source": [
    "# sort cells based on cluster assignment\n",
    "pl.plot_cell_cn_matrix(adata, 'state', cell_order_fields=['clone'], max_cn=7)['ax']"
   ]
  },
  {
   "cell_type": "code",
   "execution_count": 31,
   "metadata": {
    "collapsed": false,
    "jupyter": {
     "outputs_hidden": false
    }
   },
   "outputs": [
    {
     "data": {
      "text/plain": [
       "(array([0, 5]), array([724, 381]))"
      ]
     },
     "execution_count": 31,
     "metadata": {},
     "output_type": "execute_result"
    }
   ],
   "source": [
    "import numpy as np\n",
    "np.unique(top_z, return_counts=True)"
   ]
  },
  {
   "cell_type": "code",
   "execution_count": 32,
   "metadata": {
    "collapsed": false,
    "jupyter": {
     "outputs_hidden": false
    }
   },
   "outputs": [
    {
     "data": {
      "text/plain": [
       "<KeysViewHDF5 ['newick', 'weight']>"
      ]
     },
     "execution_count": 32,
     "metadata": {},
     "output_type": "execute_result"
    }
   ],
   "source": [
    "out_file['result']['trees'].keys()"
   ]
  },
  {
   "cell_type": "code",
   "execution_count": 33,
   "metadata": {
    "collapsed": false,
    "jupyter": {
     "outputs_hidden": false
    }
   },
   "outputs": [
    {
     "name": "stdout",
     "output_type": "stream",
     "text": [
      "b'((2,(1,5)4)3)0'\n",
      "0.02043939\n",
      "---\n",
      "b'((((5)2)1,3)4)0'\n",
      "0.013640878\n",
      "---\n",
      "b'(((5)1,(3)2)4)0'\n",
      "0.013598051\n",
      "---\n",
      "b'(1,(2,(5)3)4)0'\n",
      "0.013593179\n",
      "---\n",
      "b'((2,(3)4)1,5)0'\n",
      "0.013571922\n",
      "---\n",
      "b'((3,5)2,(1)4)0'\n",
      "0.013564752\n",
      "---\n",
      "b'(2,(1,4)3,5)0'\n",
      "0.01355846\n",
      "---\n",
      "b'((1,4)2,3,5)0'\n",
      "0.013556236\n",
      "---\n",
      "b'((2,((5)3)4)1)0'\n",
      "0.013550264\n",
      "---\n",
      "b'((1)2,(4,5)3)0'\n",
      "0.013547564\n",
      "---\n",
      "b'((1,(3)2,5)4)0'\n",
      "0.013543362\n",
      "---\n",
      "b'(((4,5)2,3)1)0'\n",
      "0.013538791\n",
      "---\n",
      "b'(((2,3)4,5)1)0'\n",
      "0.0135366\n",
      "---\n",
      "b'((1,(2,5)4)3)0'\n",
      "0.0135211\n",
      "---\n",
      "b'((4)1,(2,5)3)0'\n",
      "0.013488823\n",
      "---\n",
      "b'(((3)1,5)2,4)0'\n",
      "0.013478719\n",
      "---\n",
      "b'(1,(((5)2)4)3)0'\n",
      "0.013476964\n",
      "---\n",
      "b'((2,(3,5)4)1)0'\n",
      "0.013476209\n",
      "---\n",
      "b'(2,((1,5)4)3)0'\n",
      "0.0134605905\n",
      "---\n",
      "b'(((2,(5)4)1)3)0'\n",
      "0.01343996\n",
      "---\n",
      "b'((3,5)1,(4)2)0'\n",
      "0.0134385275\n",
      "---\n",
      "b'(((5)2,3)1,4)0'\n",
      "0.013409871\n",
      "---\n",
      "b'(((3)1)2,(5)4)0'\n",
      "0.013383034\n",
      "---\n",
      "b'((2)1,(5)3,4)0'\n",
      "0.013311512\n",
      "---\n",
      "b'(((3,(1)4)2)5)0'\n",
      "0.012144192\n",
      "---\n",
      "b'(((1,(4)2)3)5)0'\n",
      "0.012141792\n",
      "---\n",
      "b'(((1,2,4)3)5)0'\n",
      "0.012141299\n",
      "---\n",
      "b'((((4)1,2)3)5)0'\n",
      "0.01205685\n",
      "---\n",
      "b'((((1)5)2,3)4)0'\n",
      "0.012046414\n",
      "---\n",
      "b'(((((1)5)3)2)4)0'\n",
      "0.012039037\n",
      "---\n",
      "b'((2,4)3,(1)5)0'\n",
      "0.012029736\n",
      "---\n",
      "b'(4,(((1)3)2)5)0'\n",
      "0.012015604\n",
      "---\n",
      "b'(((1)3)4,(2)5)0'\n",
      "0.01199714\n",
      "---\n",
      "b'(((((1)4)3)2)5)0'\n",
      "0.011988523\n",
      "---\n",
      "b'(((((2)4)3)5)1)0'\n",
      "0.011974865\n",
      "---\n",
      "b'(((3,(2)4)1)5)0'\n",
      "0.011958624\n",
      "---\n",
      "b'(((3,(4)5)2)1)0'\n",
      "0.011954118\n",
      "---\n",
      "b'((4)1,((3)2)5)0'\n",
      "0.011938513\n",
      "---\n",
      "b'((4)2,((1)5)3)0'\n",
      "0.011895074\n",
      "---\n",
      "b'(1,(((4)5)3)2)0'\n",
      "0.01189288\n",
      "---\n",
      "b'(3,(((1)5)2)4)0'\n",
      "0.011890962\n",
      "---\n",
      "b'(1,(4,(3)5)2)0'\n",
      "0.011889699\n",
      "---\n",
      "b'(1,(4)2,(3)5)0'\n",
      "0.011888629\n",
      "---\n",
      "b'(1,(2)4,(3)5)0'\n",
      "0.011888594\n",
      "---\n",
      "b'((((2)3,4)1)5)0'\n",
      "0.011871586\n",
      "---\n",
      "b'(((2,(1)5)4)3)0'\n",
      "0.01186952\n",
      "---\n",
      "b'(((4,(2)5)3)1)0'\n",
      "0.011865891\n",
      "---\n",
      "b'(1,3,((4)2)5)0'\n",
      "0.011863975\n",
      "---\n",
      "b'(1,(((3)2)4)5)0'\n",
      "0.011838193\n",
      "---\n",
      "b'(((((4)3)5)1)2)0'\n",
      "0.011832737\n",
      "---\n",
      "b'(((2)5)1,(3)4)0'\n",
      "0.011831915\n",
      "---\n",
      "b'((1,((2)5)4)3)0'\n",
      "0.011823593\n",
      "---\n",
      "b'(((((3)4)1)2)5)0'\n",
      "0.011818235\n",
      "---\n",
      "b'(2,(3,(1)5)4)0'\n",
      "0.0118177645\n",
      "---\n",
      "b'(1,2,((4)5)3)0'\n",
      "0.011739706\n",
      "---\n",
      "b'((((4)2,3)5)1)0'\n",
      "0.010475362\n",
      "---\n",
      "b'((((2)1,4)5)3)0'\n",
      "0.010443549\n",
      "---\n",
      "b'((4,(2,3)5)1)0'\n",
      "0.010389706\n",
      "---\n",
      "b'((((3)1,2)5)4)0'\n",
      "0.010380029\n",
      "---\n",
      "b'(((3,4)5)1,2)0'\n",
      "0.010349681\n",
      "---\n",
      "b'((((1)4,5)3)2)0'\n",
      "0.00686918\n",
      "---\n",
      "b'((1,((5)3)4)2)0'\n",
      "0.006868367\n",
      "---\n",
      "b'(((1,(5)3)2)4)0'\n",
      "0.0068667084\n",
      "---\n",
      "b'((1,(4,5)3)2)0'\n",
      "0.0068623456\n",
      "---\n",
      "b'((3,((5)1)4)2)0'\n",
      "0.0068405857\n",
      "---\n",
      "b'(((((5)1)4)3)2)0'\n",
      "0.0068405843\n",
      "---\n",
      "b'(((((5)1)3)4)2)0'\n",
      "0.0068392763\n",
      "---\n",
      "b'(((5)1,2,4)3)0'\n",
      "0.0068343054\n",
      "---\n",
      "b'((((5)1,2)3)4)0'\n",
      "0.0068343035\n",
      "---\n",
      "b'((((5)1,4)2)3)0'\n",
      "0.006833178\n",
      "---\n",
      "b'((((5)2,3)4)1)0'\n",
      "0.00683149\n",
      "---\n",
      "b'((((3)1)4,5)2)0'\n",
      "0.0068266243\n",
      "---\n",
      "b'(((2)1,4,5)3)0'\n",
      "0.0068163252\n",
      "---\n",
      "b'(((4)1,2,5)3)0'\n",
      "0.0068150666\n",
      "---\n",
      "b'((((2,5)3)4)1)0'\n",
      "0.0068150666\n",
      "---\n",
      "b'((((4)1,5)2)3)0'\n",
      "0.006813453\n",
      "---\n",
      "b'(((1,2)3,5)4)0'\n",
      "0.0068133315\n",
      "---\n",
      "b'((1,2,(5)4)3)0'\n",
      "0.006813331\n",
      "---\n",
      "b'((((3)4,5)1)2)0'\n",
      "0.006792761\n",
      "---\n",
      "b'((((2)1,5)4)3)0'\n",
      "0.00677214\n",
      "---\n",
      "b'((2,(4)3,5)1)0'\n",
      "0.006760825\n",
      "---\n",
      "b'(((((1)2)3)4)5)0'\n",
      "0.0062155477\n",
      "---\n",
      "b'((((2,4)3)1)5)0'\n",
      "0.0061964765\n",
      "---\n",
      "b'(((((2)4)1)3)5)0'\n",
      "0.0061735\n",
      "---\n",
      "b'((((1,4)2)3)5)0'\n",
      "0.006141048\n",
      "---\n",
      "b'(((3)4,(1)5)2)0'\n",
      "0.0060215476\n",
      "---\n",
      "b'((((1,4)3)5)2)0'\n",
      "0.005999816\n",
      "---\n",
      "b'((((2,4)3)5)1)0'\n",
      "0.0059849774\n",
      "---\n",
      "b'(((3,(1)5)4)2)0'\n",
      "0.0059785806\n",
      "---\n",
      "b'(((((2)4)1)5)3)0'\n",
      "0.005977913\n",
      "---\n",
      "b'(((((3)1)5)2)4)0'\n",
      "0.0059766113\n",
      "---\n",
      "b'(((((4)3)5)2)1)0'\n",
      "0.0059688846\n",
      "---\n",
      "b'(((((2)5)3)1)4)0'\n",
      "0.0059684506\n",
      "---\n",
      "b'(((4,(2)5)1)3)0'\n",
      "0.005930635\n",
      "---\n",
      "b'((1,((2)3)4)5)0'\n",
      "0.005452673\n",
      "---\n",
      "b'(((2)3,(1)4)5)0'\n",
      "0.0054370733\n",
      "---\n",
      "b'((1,(2)3,4)5)0'\n",
      "0.0047693895\n",
      "---\n",
      "b'(((2)1,3,4)5)0'\n",
      "0.004737743\n",
      "---\n",
      "b'(((1,2,4)5)3)0'\n",
      "0.004601208\n",
      "---\n"
     ]
    }
   ],
   "source": [
    "\n",
    "for t in zip(out_file['result']['trees']['newick'], out_file['result']['trees']['weight']):\n",
    "    print(t[0])\n",
    "    print(t[1])\n",
    "    print('---')"
   ]
  },
  {
   "cell_type": "code",
   "execution_count": 33,
   "metadata": {
    "collapsed": false,
    "jupyter": {
     "outputs_hidden": false
    }
   },
   "outputs": [],
   "source": []
  }
 ],
 "metadata": {
  "kernelspec": {
   "display_name": "Python 3 (ipykernel)",
   "language": "python",
   "name": "python3"
  },
  "language_info": {
   "codemirror_mode": {
    "name": "ipython",
    "version": 3
   },
   "file_extension": ".py",
   "mimetype": "text/x-python",
   "name": "python",
   "nbconvert_exporter": "python",
   "pygments_lexer": "ipython3",
   "version": "3.10.0"
  }
 },
 "nbformat": 4,
 "nbformat_minor": 4
}
