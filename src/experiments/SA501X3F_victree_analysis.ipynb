{
 "cells": [
  {
   "cell_type": "markdown",
   "id": "3fdfd15668c67074",
   "metadata": {
    "collapsed": false
   },
   "source": [
    "# Xenograft SA501X3F breast cancer\n",
    "> data plot and victree fixed tree inference"
   ]
  },
  {
   "cell_type": "markdown",
   "id": "5237c1044f7fde6b",
   "metadata": {
    "collapsed": false
   },
   "source": [
    "## Load dataset"
   ]
  },
  {
   "cell_type": "code",
   "execution_count": 1,
   "id": "4aeae60bd3e0032c",
   "metadata": {
    "collapsed": false,
    "ExecuteTime": {
     "end_time": "2023-09-20T15:57:43.956197Z",
     "start_time": "2023-09-20T15:57:43.109249Z"
    }
   },
   "outputs": [
    {
     "data": {
      "text/plain": "   chr    start      end   width  candidate_brkp  SA501X3F.00136  \\\n0    1   750001   900000  150000               1        0.788418   \n1    1  1200001  1350000  150000               1        0.849975   \n2    1  1350001  1500000  150000               0        0.929382   \n3    1  1650001  1800000  150000               0        1.343439   \n4    1  1800001  1950000  150000               0        0.948423   \n\n   SA501X3F.00268  SA501X3F.00324  SA501X3F.00164  SA501X3F.00143  ...  \\\n0        0.997561        0.849417        0.958833        0.884363  ...   \n1        0.706687        1.004793        0.880624        0.953681  ...   \n2        0.642708        0.742128        0.585840        0.922690  ...   \n3        0.784339        1.109889        1.091277        0.820710  ...   \n4        1.101478        1.050133        1.251881        0.925633  ...   \n\n   SA501X3F.00038  SA501X3F.00103  SA501X3F.00156  SA501X3F.00357  \\\n0        1.460313        1.021588        0.802751        0.844613   \n1        1.088894        1.172028        0.833906        0.837472   \n2        0.900067        0.798808        1.036568        1.183317   \n3        0.665662        0.825962        0.971873        1.058432   \n4        0.934722        0.877758        0.716137        1.364659   \n\n   SA501X3F.00314  SA501X3F.00344  SA501X3F.00194  SA501X3F.00302  \\\n0        1.126179        0.894077        0.886262        1.024218   \n1        0.831351        0.965090        0.690766        0.823925   \n2        1.166959        0.634227        1.183463        0.952956   \n3        0.923954        1.193048        0.779907        0.992012   \n4        0.931454        1.158391        0.682872        0.807189   \n\n   SA501X3F.00300  SA501X3F.00375  \n0        0.852884        0.809327  \n1        0.589073        0.610860  \n2        0.469167        1.059823  \n3        0.907129        0.803182  \n4        0.676003        1.004426  \n\n[5 rows x 265 columns]",
      "text/html": "<div>\n<style scoped>\n    .dataframe tbody tr th:only-of-type {\n        vertical-align: middle;\n    }\n\n    .dataframe tbody tr th {\n        vertical-align: top;\n    }\n\n    .dataframe thead th {\n        text-align: right;\n    }\n</style>\n<table border=\"1\" class=\"dataframe\">\n  <thead>\n    <tr style=\"text-align: right;\">\n      <th></th>\n      <th>chr</th>\n      <th>start</th>\n      <th>end</th>\n      <th>width</th>\n      <th>candidate_brkp</th>\n      <th>SA501X3F.00136</th>\n      <th>SA501X3F.00268</th>\n      <th>SA501X3F.00324</th>\n      <th>SA501X3F.00164</th>\n      <th>SA501X3F.00143</th>\n      <th>...</th>\n      <th>SA501X3F.00038</th>\n      <th>SA501X3F.00103</th>\n      <th>SA501X3F.00156</th>\n      <th>SA501X3F.00357</th>\n      <th>SA501X3F.00314</th>\n      <th>SA501X3F.00344</th>\n      <th>SA501X3F.00194</th>\n      <th>SA501X3F.00302</th>\n      <th>SA501X3F.00300</th>\n      <th>SA501X3F.00375</th>\n    </tr>\n  </thead>\n  <tbody>\n    <tr>\n      <th>0</th>\n      <td>1</td>\n      <td>750001</td>\n      <td>900000</td>\n      <td>150000</td>\n      <td>1</td>\n      <td>0.788418</td>\n      <td>0.997561</td>\n      <td>0.849417</td>\n      <td>0.958833</td>\n      <td>0.884363</td>\n      <td>...</td>\n      <td>1.460313</td>\n      <td>1.021588</td>\n      <td>0.802751</td>\n      <td>0.844613</td>\n      <td>1.126179</td>\n      <td>0.894077</td>\n      <td>0.886262</td>\n      <td>1.024218</td>\n      <td>0.852884</td>\n      <td>0.809327</td>\n    </tr>\n    <tr>\n      <th>1</th>\n      <td>1</td>\n      <td>1200001</td>\n      <td>1350000</td>\n      <td>150000</td>\n      <td>1</td>\n      <td>0.849975</td>\n      <td>0.706687</td>\n      <td>1.004793</td>\n      <td>0.880624</td>\n      <td>0.953681</td>\n      <td>...</td>\n      <td>1.088894</td>\n      <td>1.172028</td>\n      <td>0.833906</td>\n      <td>0.837472</td>\n      <td>0.831351</td>\n      <td>0.965090</td>\n      <td>0.690766</td>\n      <td>0.823925</td>\n      <td>0.589073</td>\n      <td>0.610860</td>\n    </tr>\n    <tr>\n      <th>2</th>\n      <td>1</td>\n      <td>1350001</td>\n      <td>1500000</td>\n      <td>150000</td>\n      <td>0</td>\n      <td>0.929382</td>\n      <td>0.642708</td>\n      <td>0.742128</td>\n      <td>0.585840</td>\n      <td>0.922690</td>\n      <td>...</td>\n      <td>0.900067</td>\n      <td>0.798808</td>\n      <td>1.036568</td>\n      <td>1.183317</td>\n      <td>1.166959</td>\n      <td>0.634227</td>\n      <td>1.183463</td>\n      <td>0.952956</td>\n      <td>0.469167</td>\n      <td>1.059823</td>\n    </tr>\n    <tr>\n      <th>3</th>\n      <td>1</td>\n      <td>1650001</td>\n      <td>1800000</td>\n      <td>150000</td>\n      <td>0</td>\n      <td>1.343439</td>\n      <td>0.784339</td>\n      <td>1.109889</td>\n      <td>1.091277</td>\n      <td>0.820710</td>\n      <td>...</td>\n      <td>0.665662</td>\n      <td>0.825962</td>\n      <td>0.971873</td>\n      <td>1.058432</td>\n      <td>0.923954</td>\n      <td>1.193048</td>\n      <td>0.779907</td>\n      <td>0.992012</td>\n      <td>0.907129</td>\n      <td>0.803182</td>\n    </tr>\n    <tr>\n      <th>4</th>\n      <td>1</td>\n      <td>1800001</td>\n      <td>1950000</td>\n      <td>150000</td>\n      <td>0</td>\n      <td>0.948423</td>\n      <td>1.101478</td>\n      <td>1.050133</td>\n      <td>1.251881</td>\n      <td>0.925633</td>\n      <td>...</td>\n      <td>0.934722</td>\n      <td>0.877758</td>\n      <td>0.716137</td>\n      <td>1.364659</td>\n      <td>0.931454</td>\n      <td>1.158391</td>\n      <td>0.682872</td>\n      <td>0.807189</td>\n      <td>0.676003</td>\n      <td>1.004426</td>\n    </tr>\n  </tbody>\n</table>\n<p>5 rows × 265 columns</p>\n</div>"
     },
     "execution_count": 1,
     "metadata": {},
     "output_type": "execute_result"
    }
   ],
   "source": [
    "import numpy as np\n",
    "import pandas as pd\n",
    "\n",
    "bio_df = pd.read_csv(\"/Users/zemp/phd/scilife/cpt_experiments/CONET/CONET/python/notebooks/biological_data/data/SA501X3F_filtered_corrected_counts.csv\")\n",
    "cell_names = bio_df.filter(like='SA501X3F').columns\n",
    "bio_df.head()"
   ]
  },
  {
   "cell_type": "code",
   "execution_count": 2,
   "outputs": [
    {
     "name": "stderr",
     "output_type": "stream",
     "text": [
      "/Users/zemp/PycharmProjects/victree/venv/lib/python3.10/site-packages/umap/distances.py:1063: NumbaDeprecationWarning: The 'nopython' keyword argument was not supplied to the 'numba.jit' decorator. The implicit default value for this argument is currently False, but it will be changed to True in Numba 0.59.0. See https://numba.readthedocs.io/en/stable/reference/deprecation.html#deprecation-of-object-mode-fall-back-behaviour-when-using-jit for details.\n",
      "  @numba.jit()\n",
      "/Users/zemp/PycharmProjects/victree/venv/lib/python3.10/site-packages/umap/distances.py:1071: NumbaDeprecationWarning: The 'nopython' keyword argument was not supplied to the 'numba.jit' decorator. The implicit default value for this argument is currently False, but it will be changed to True in Numba 0.59.0. See https://numba.readthedocs.io/en/stable/reference/deprecation.html#deprecation-of-object-mode-fall-back-behaviour-when-using-jit for details.\n",
      "  @numba.jit()\n",
      "/Users/zemp/PycharmProjects/victree/venv/lib/python3.10/site-packages/umap/distances.py:1086: NumbaDeprecationWarning: The 'nopython' keyword argument was not supplied to the 'numba.jit' decorator. The implicit default value for this argument is currently False, but it will be changed to True in Numba 0.59.0. See https://numba.readthedocs.io/en/stable/reference/deprecation.html#deprecation-of-object-mode-fall-back-behaviour-when-using-jit for details.\n",
      "  @numba.jit()\n",
      "/Users/zemp/PycharmProjects/victree/venv/lib/python3.10/site-packages/umap/umap_.py:660: NumbaDeprecationWarning: The 'nopython' keyword argument was not supplied to the 'numba.jit' decorator. The implicit default value for this argument is currently False, but it will be changed to True in Numba 0.59.0. See https://numba.readthedocs.io/en/stable/reference/deprecation.html#deprecation-of-object-mode-fall-back-behaviour-when-using-jit for details.\n",
      "  @numba.jit()\n"
     ]
    },
    {
     "data": {
      "text/plain": "  chr    start      end\n0   1   750001   900000\n1   1  1200001  1350000\n2   1  1350001  1500000\n3   1  1650001  1800000\n4   1  1800001  1950000",
      "text/html": "<div>\n<style scoped>\n    .dataframe tbody tr th:only-of-type {\n        vertical-align: middle;\n    }\n\n    .dataframe tbody tr th {\n        vertical-align: top;\n    }\n\n    .dataframe thead th {\n        text-align: right;\n    }\n</style>\n<table border=\"1\" class=\"dataframe\">\n  <thead>\n    <tr style=\"text-align: right;\">\n      <th></th>\n      <th>chr</th>\n      <th>start</th>\n      <th>end</th>\n    </tr>\n  </thead>\n  <tbody>\n    <tr>\n      <th>0</th>\n      <td>1</td>\n      <td>750001</td>\n      <td>900000</td>\n    </tr>\n    <tr>\n      <th>1</th>\n      <td>1</td>\n      <td>1200001</td>\n      <td>1350000</td>\n    </tr>\n    <tr>\n      <th>2</th>\n      <td>1</td>\n      <td>1350001</td>\n      <td>1500000</td>\n    </tr>\n    <tr>\n      <th>3</th>\n      <td>1</td>\n      <td>1650001</td>\n      <td>1800000</td>\n    </tr>\n    <tr>\n      <th>4</th>\n      <td>1</td>\n      <td>1800001</td>\n      <td>1950000</td>\n    </tr>\n  </tbody>\n</table>\n</div>"
     },
     "execution_count": 2,
     "metadata": {},
     "output_type": "execute_result"
    }
   ],
   "source": [
    "import scgenome.plotting as pl\n",
    "import anndata\n",
    "\n",
    "# read as anndata\n",
    "bio_ad = anndata.AnnData(bio_df[cell_names].to_numpy().T)\n",
    "bio_ad.layers['copy'] = bio_ad.X\n",
    "bio_ad.obs_names = cell_names\n",
    "\n",
    "# map chr to X Y format\n",
    "chr_codes = {i: str(i) for i in range(1, 23)}\n",
    "chr_codes[23] = 'X'\n",
    "chr_codes[24] = 'Y'\n",
    "\n",
    "# add metadata\n",
    "bio_ad.var['chr'] = bio_df['chr'].map(chr_codes).values\n",
    "bio_ad.var['start'] = bio_df['start'].values\n",
    "bio_ad.var['end'] = bio_df['end'].values\n",
    "bio_ad.var.head()\n"
   ],
   "metadata": {
    "collapsed": false,
    "ExecuteTime": {
     "end_time": "2023-09-20T15:57:50.052459Z",
     "start_time": "2023-09-20T15:57:43.957774Z"
    }
   },
   "id": "f43f8667ec565c8d"
  },
  {
   "cell_type": "markdown",
   "source": [
    "Speed up script by selecting only a subset of the chromosomes"
   ],
   "metadata": {
    "collapsed": false
   },
   "id": "d720d83a14e24af9"
  },
  {
   "cell_type": "code",
   "execution_count": null,
   "outputs": [],
   "source": [
    "# bio_ad = bio_ad[:, bio_ad.var['chr'].isin(['19', '20', '21', '22', 'X'])]"
   ],
   "metadata": {
    "collapsed": false
   },
   "id": "7dd9683c231739a5"
  },
  {
   "cell_type": "code",
   "execution_count": null,
   "outputs": [],
   "source": [
    "# saturate outliers\n",
    "perc_thresh = 99.5\n",
    "q_thresh = np.percentile(bio_ad.X, perc_thresh)\n",
    "print(f\"removed - set to nan - {np.sum(bio_ad.X > q_thresh)} / {bio_ad.X.size}\"\n",
    "      f\" outliers: count > {q_thresh:.3f} ({perc_thresh}%)\")\n",
    "bio_ad.layers['copy'][bio_ad.X > q_thresh] = np.nan"
   ],
   "metadata": {
    "collapsed": false
   },
   "id": "4148410ae0612c58"
  },
  {
   "cell_type": "code",
   "execution_count": null,
   "outputs": [],
   "source": [
    "pl.plot_cell_cn_matrix_fig(bio_ad, layer_name='copy', raw=True);"
   ],
   "metadata": {
    "collapsed": false
   },
   "id": "51b6e6292a4e3343"
  },
  {
   "cell_type": "markdown",
   "source": [
    "## Load HMMCopy CN calling"
   ],
   "metadata": {
    "collapsed": false
   },
   "id": "1961f6663856c131"
  },
  {
   "cell_type": "markdown",
   "source": [
    "## Run VICTree\n",
    "\n",
    "### Initialization step"
   ],
   "metadata": {
    "collapsed": false
   },
   "id": "18fc7e6f12d35306"
  },
  {
   "cell_type": "code",
   "execution_count": null,
   "outputs": [],
   "source": [
    "import torch\n",
    "from utils.config import Config\n",
    "from utils.tree_utils import star_tree\n",
    "from variational_distributions.joint_dists import JointDist, FixedTreeJointDist\n",
    "from variational_distributions.var_dists import qCMultiChrom, qMuTau, qEpsilonMulti, qZ\n",
    "from utils.data_handling import DataHandler"
   ],
   "metadata": {
    "collapsed": false
   },
   "id": "ff608fc82af6eb9b"
  },
  {
   "cell_type": "code",
   "execution_count": null,
   "outputs": [],
   "source": [
    "def cell_cn_calling_from_adata(adata, n_states=7, max_iter=100, rtol=1e-2, step_size=0.2,\n",
    "                      **custom_params) -> torch.Tensor:\n",
    "    dh = DataHandler(adata=adata)\n",
    "    \n",
    "    cell_config = Config(n_cells=adata.n_obs, n_nodes=adata.n_obs + 1,\n",
    "                         n_states=n_states, step_size=0.3,\n",
    "                         chain_length=adata.n_vars, chromosome_indexes=dh.get_chr_idx(),\n",
    "                         debug=True)\n",
    "    \n",
    "    cell_qmt = qMuTau(cell_config, nu_prior=1., lambda_prior=1000., alpha_prior=5000., beta_prior=500.)\n",
    "    cell_qmt.initialize(method='data', obs=dh.norm_reads)\n",
    "    \n",
    "    cell_qc = qCMultiChrom(cell_config)\n",
    "    cell_qc.initialize(method='random')\n",
    "    \n",
    "    cell_qeps = qEpsilonMulti(cell_config, alpha_prior=1., beta_prior=1.)\n",
    "    cell_qeps.initialize(method='data', obs=dh.norm_reads)  # try varying change_ratio\n",
    "    # run inference with qmt,cell-qc\n",
    "    fixed_z = torch.arange(1, adata.n_obs + 1)\n",
    "    cell_qz_fix = qZ(cell_config, true_params={'z': fixed_z})\n",
    "    cell_tree = star_tree(adata.n_obs + 1)\n",
    "\n",
    "    joint_q = FixedTreeJointDist(obs=dh.norm_reads, qc=cell_qc, qpsi=cell_qmt, qeps=cell_qeps, qz=cell_qz_fix)\n",
    "    i = 0\n",
    "    convergence = False\n",
    "    curr_elbo = - np.infty\n",
    "    print(\"running inference...\")\n",
    "    while not convergence and i < max_iter:\n",
    "        print(f\"*** {i} ***\")\n",
    "        if i == 0:\n",
    "            print(\"computing initial elbo\", end=\"\")\n",
    "            curr_elbo = cell_qc.compute_elbo([cell_tree], [1.], q_eps=cell_qeps)\n",
    "            print(f\": {curr_elbo}\")\n",
    "\n",
    "        print(\"qmt update\")\n",
    "        cell_qmt.update(cell_qc, cell_qz_fix, dh.norm_reads)\n",
    "        print(\"qc update\")\n",
    "        cell_qc.update(dh.norm_reads, cell_qeps, cell_qz_fix, cell_qmt,\n",
    "                         [cell_tree], [1.])\n",
    "        print(\"qeps update\")\n",
    "        cell_qeps.update([cell_tree], torch.tensor([1.]), cell_qc)\n",
    "\n",
    "        print(\"computing new elbo\")\n",
    "        new_elbo = cell_qc.compute_elbo([cell_tree], [1.], q_eps=cell_qeps)\n",
    "        improvement = (new_elbo - curr_elbo) / curr_elbo\n",
    "        print(f\"--- [{i}] elbo: {new_elbo:.3f} (rel impr: {improvement:.3f})\")\n",
    "        if improvement < rtol:\n",
    "            convergence = True\n",
    "            print(f\"converged after {i} iterations\")\n",
    "        curr_elbo = new_elbo\n",
    "        i += 1\n",
    "\n",
    "    return cell_qc.get_viterbi()[1:].numpy()"
   ],
   "metadata": {
    "collapsed": false
   },
   "id": "5970e728d93e9840"
  },
  {
   "cell_type": "markdown",
   "source": [
    "Running inference on single cells as clones is quite time consuming, although few iterations (6 it, ~10 minutes) are enough\n",
    "to reach convergence on the qC partial elbo. The issue here is the baseline being wrong for the cells at the bottom."
   ],
   "metadata": {
    "collapsed": false
   },
   "id": "8359ec4ae564d15e"
  },
  {
   "cell_type": "code",
   "execution_count": null,
   "outputs": [],
   "source": [
    "# bio_ad.layers['cn-init'] = cell_cn_calling_from_adata(bio_ad)"
   ],
   "metadata": {
    "collapsed": false
   },
   "id": "7bf4510e7ca79dd6"
  },
  {
   "cell_type": "code",
   "execution_count": null,
   "outputs": [],
   "source": [
    "# pl.plot_cell_cn_matrix_fig(bio_ad, layer_name='cn-init', max_cn=6);"
   ],
   "metadata": {
    "collapsed": false
   },
   "id": "aac8a789ebda7790"
  },
  {
   "cell_type": "markdown",
   "source": [
    "## Run FixedTree\n",
    "TODO"
   ],
   "metadata": {
    "collapsed": false
   },
   "id": "610a5bd07d818286"
  },
  {
   "cell_type": "code",
   "execution_count": null,
   "outputs": [],
   "source": [
    "from inference.victree import VICTree\n",
    "from inference import victree\n",
    "\n",
    "# prepare victree input\n",
    "config, q, dh = victree.make_input(bio_ad, cc_layer='copy', fix_tree=None)\n",
    "config.step_size = .3\n",
    "victree = VICTree(config, q, data_handler=dh)\n",
    "victree.run()"
   ],
   "metadata": {
    "collapsed": false
   },
   "id": "511c236233115163"
  },
  {
   "cell_type": "code",
   "execution_count": null,
   "outputs": [],
   "source": [
    "bio_ad.obs['clone'] = victree.q.z.pi.argmax(dim=1).numpy()\n",
    "bio_ad.obs['baseline'] = victree.q.mt.nu.numpy()\n",
    "bio_ad.layers['viterbi'] = victree.q.c.get_viterbi()[bio_ad.obs['clone']].numpy()\n",
    "\n",
    "pl.plot_cell_cn_matrix_fig(bio_ad, layer_name='viterbi', max_cn=config.n_states-1, cell_order_fields=['clone'], annotation_fields=['baseline']);"
   ],
   "metadata": {
    "collapsed": false
   },
   "id": "d4a16c1917259709"
  },
  {
   "cell_type": "code",
   "execution_count": null,
   "outputs": [],
   "source": [],
   "metadata": {
    "collapsed": false
   },
   "id": "ff55aad4c4b63ebb"
  }
 ],
 "metadata": {
  "kernelspec": {
   "display_name": "Python 3 (ipykernel)",
   "language": "python",
   "name": "python3"
  },
  "language_info": {
   "codemirror_mode": {
    "name": "ipython",
    "version": 3
   },
   "file_extension": ".py",
   "mimetype": "text/x-python",
   "name": "python",
   "nbconvert_exporter": "python",
   "pygments_lexer": "ipython3",
   "version": "3.10.12"
  }
 },
 "nbformat": 4,
 "nbformat_minor": 5
}
