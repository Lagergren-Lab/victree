{
 "cells": [
  {
   "cell_type": "code",
   "execution_count": 1,
   "metadata": {
    "collapsed": true
   },
   "outputs": [],
   "source": [
    "import pandas as pd\n",
    "from sklearn.metrics import adjusted_rand_score"
   ]
  },
  {
   "cell_type": "code",
   "execution_count": 71,
   "outputs": [],
   "source": [
    "import os\n",
    "import sys\n",
    "module_path = os.path.abspath(os.path.join('..'))\n",
    "if module_path not in sys.path:\n",
    "    sys.path.append(module_path)"
   ],
   "metadata": {
    "collapsed": false
   }
  },
  {
   "cell_type": "code",
   "execution_count": 41,
   "outputs": [
    {
     "data": {
      "text/plain": "                 cell_id sample_id library_id chr    start      end  reads  \\\n0  SA922-A90554B-R34-C70     SA922    A90554B   1        1   500000     13   \n1  SA922-A90554B-R34-C70     SA922    A90554B   1   500001  1000000    442   \n2  SA922-A90554B-R34-C70     SA922    A90554B   1  1000001  1500000    461   \n3  SA922-A90554B-R34-C70     SA922    A90554B   1  1500001  2000000    478   \n4  SA922-A90554B-R34-C70     SA922    A90554B   1  2000001  2500000    594   \n\n       copy  state  \n0       NaN      6  \n1       NaN      6  \n2  6.672340      6  \n3  5.211916      6  \n4  8.384862      6  ",
      "text/html": "<div>\n<style scoped>\n    .dataframe tbody tr th:only-of-type {\n        vertical-align: middle;\n    }\n\n    .dataframe tbody tr th {\n        vertical-align: top;\n    }\n\n    .dataframe thead th {\n        text-align: right;\n    }\n</style>\n<table border=\"1\" class=\"dataframe\">\n  <thead>\n    <tr style=\"text-align: right;\">\n      <th></th>\n      <th>cell_id</th>\n      <th>sample_id</th>\n      <th>library_id</th>\n      <th>chr</th>\n      <th>start</th>\n      <th>end</th>\n      <th>reads</th>\n      <th>copy</th>\n      <th>state</th>\n    </tr>\n  </thead>\n  <tbody>\n    <tr>\n      <th>0</th>\n      <td>SA922-A90554B-R34-C70</td>\n      <td>SA922</td>\n      <td>A90554B</td>\n      <td>1</td>\n      <td>1</td>\n      <td>500000</td>\n      <td>13</td>\n      <td>NaN</td>\n      <td>6</td>\n    </tr>\n    <tr>\n      <th>1</th>\n      <td>SA922-A90554B-R34-C70</td>\n      <td>SA922</td>\n      <td>A90554B</td>\n      <td>1</td>\n      <td>500001</td>\n      <td>1000000</td>\n      <td>442</td>\n      <td>NaN</td>\n      <td>6</td>\n    </tr>\n    <tr>\n      <th>2</th>\n      <td>SA922-A90554B-R34-C70</td>\n      <td>SA922</td>\n      <td>A90554B</td>\n      <td>1</td>\n      <td>1000001</td>\n      <td>1500000</td>\n      <td>461</td>\n      <td>6.672340</td>\n      <td>6</td>\n    </tr>\n    <tr>\n      <th>3</th>\n      <td>SA922-A90554B-R34-C70</td>\n      <td>SA922</td>\n      <td>A90554B</td>\n      <td>1</td>\n      <td>1500001</td>\n      <td>2000000</td>\n      <td>478</td>\n      <td>5.211916</td>\n      <td>6</td>\n    </tr>\n    <tr>\n      <th>4</th>\n      <td>SA922-A90554B-R34-C70</td>\n      <td>SA922</td>\n      <td>A90554B</td>\n      <td>1</td>\n      <td>2000001</td>\n      <td>2500000</td>\n      <td>594</td>\n      <td>8.384862</td>\n      <td>6</td>\n    </tr>\n  </tbody>\n</table>\n</div>"
     },
     "execution_count": 41,
     "metadata": {},
     "output_type": "execute_result"
    }
   ],
   "source": [
    "df = pd.read_csv(\"/Users/zemp/phd/scilife/mskcc_data/ov2295/ov2295_cell_cn.csv\")\n",
    "df.head()"
   ],
   "metadata": {
    "collapsed": false
   }
  },
  {
   "cell_type": "code",
   "execution_count": 42,
   "outputs": [
    {
     "data": {
      "text/plain": "(1966,)"
     },
     "execution_count": 42,
     "metadata": {},
     "output_type": "execute_result"
    }
   ],
   "source": [
    "df['cell_id'].unique().shape"
   ],
   "metadata": {
    "collapsed": false
   }
  },
  {
   "cell_type": "code",
   "execution_count": 43,
   "outputs": [],
   "source": [
    "clones = pd.read_csv(\"/Users/zemp/phd/scilife/mskcc_data/ov2295/ov2295_clone_clusters.csv\")"
   ],
   "metadata": {
    "collapsed": false
   }
  },
  {
   "cell_type": "code",
   "execution_count": 44,
   "outputs": [
    {
     "data": {
      "text/plain": "array(['C', 'D', 'A', 'B', 'I', 'H', 'G', 'E', 'F'], dtype=object)"
     },
     "execution_count": 44,
     "metadata": {},
     "output_type": "execute_result"
    }
   ],
   "source": [
    "clones['clone_id'].unique()"
   ],
   "metadata": {
    "collapsed": false
   }
  },
  {
   "cell_type": "code",
   "execution_count": 76,
   "outputs": [
    {
     "data": {
      "text/plain": "(891, 2)"
     },
     "execution_count": 76,
     "metadata": {},
     "output_type": "execute_result"
    }
   ],
   "source": [
    "# join by cell_id\n",
    "clones['cell'] = clones['cell_id'].rank(method='dense', ascending=True).astype(int) - 1\n",
    "clones['clone'] = clones['clone_id'].rank(method='dense', ascending=True).astype(int) - 1\n",
    "joined_df = pd.merge(clones, df, on = 'cell_id', how='left')\n",
    "joined_df_ca = joined_df[['cell', 'clone']].dropna().drop_duplicates().astype(int)\n",
    "joined_df_ca.shape"
   ],
   "metadata": {
    "collapsed": false
   }
  },
  {
   "cell_type": "code",
   "execution_count": 77,
   "outputs": [
    {
     "data": {
      "text/plain": "       cell  clone\n0         0      2\n6206      1      2\n12412     5      2\n18618     8      2\n24824    10      2",
      "text/html": "<div>\n<style scoped>\n    .dataframe tbody tr th:only-of-type {\n        vertical-align: middle;\n    }\n\n    .dataframe tbody tr th {\n        vertical-align: top;\n    }\n\n    .dataframe thead th {\n        text-align: right;\n    }\n</style>\n<table border=\"1\" class=\"dataframe\">\n  <thead>\n    <tr style=\"text-align: right;\">\n      <th></th>\n      <th>cell</th>\n      <th>clone</th>\n    </tr>\n  </thead>\n  <tbody>\n    <tr>\n      <th>0</th>\n      <td>0</td>\n      <td>2</td>\n    </tr>\n    <tr>\n      <th>6206</th>\n      <td>1</td>\n      <td>2</td>\n    </tr>\n    <tr>\n      <th>12412</th>\n      <td>5</td>\n      <td>2</td>\n    </tr>\n    <tr>\n      <th>18618</th>\n      <td>8</td>\n      <td>2</td>\n    </tr>\n    <tr>\n      <th>24824</th>\n      <td>10</td>\n      <td>2</td>\n    </tr>\n  </tbody>\n</table>\n</div>"
     },
     "execution_count": 77,
     "metadata": {},
     "output_type": "execute_result"
    }
   ],
   "source": [
    "joined_df_ca.head()"
   ],
   "metadata": {
    "collapsed": false
   }
  },
  {
   "cell_type": "code",
   "execution_count": 78,
   "outputs": [
    {
     "data": {
      "text/plain": "0"
     },
     "execution_count": 78,
     "metadata": {},
     "output_type": "execute_result"
    }
   ],
   "source": [
    "joined_df_ca['cell'].min()"
   ],
   "metadata": {
    "collapsed": false
   }
  },
  {
   "cell_type": "code",
   "execution_count": 79,
   "outputs": [
    {
     "data": {
      "text/plain": "<AxesSubplot:>"
     },
     "execution_count": 79,
     "metadata": {},
     "output_type": "execute_result"
    },
    {
     "data": {
      "text/plain": "<Figure size 640x480 with 1 Axes>",
      "image/png": "[encoded data removed]"
     },
     "metadata": {},
     "output_type": "display_data"
    }
   ],
   "source": [
    "joined_df_ca['clone'].hist()"
   ],
   "metadata": {
    "collapsed": false
   }
  },
  {
   "cell_type": "code",
   "execution_count": 80,
   "outputs": [
    {
     "data": {
      "text/plain": "(891,)"
     },
     "execution_count": 80,
     "metadata": {},
     "output_type": "execute_result"
    }
   ],
   "source": [
    "joined_df_ca['cell'].unique().shape"
   ],
   "metadata": {
    "collapsed": false
   }
  },
  {
   "cell_type": "code",
   "execution_count": 81,
   "outputs": [
    {
     "data": {
      "text/plain": "<AxesSubplot:>"
     },
     "execution_count": 81,
     "metadata": {},
     "output_type": "execute_result"
    },
    {
     "data": {
      "text/plain": "<Figure size 640x480 with 1 Axes>",
      "image/png": "[encoded data removed]"
     },
     "metadata": {},
     "output_type": "display_data"
    }
   ],
   "source": [
    "joined_df_ca['clone'].hist()"
   ],
   "metadata": {
    "collapsed": false
   }
  },
  {
   "cell_type": "code",
   "execution_count": 73,
   "outputs": [],
   "source": [
    "import h5py\n",
    "\n",
    "h5f = h5py.File(\"/Users/zemp/phd/scilife/cpt_experiments/configs/ov2295_1chr/real_k9_lp/checkpoint_k9a7n1966m499.h5\")"
   ],
   "metadata": {
    "collapsed": false
   }
  },
  {
   "cell_type": "code",
   "execution_count": 87,
   "outputs": [],
   "source": [
    "import numpy as np\n",
    "cell_assignment = h5f['qZ']['pi'][-1, ...].argmax(axis=1)\n",
    "cell_probs_full = h5f['qZ']['pi'][-1, ...]\n",
    "cell_probs = cell_probs_full[joined_df_ca['cell'], :]"
   ],
   "metadata": {
    "collapsed": false
   }
  },
  {
   "cell_type": "code",
   "execution_count": 92,
   "outputs": [],
   "source": [
    "from utils.evaluation import best_mapping\n",
    "\n",
    "mapp = best_mapping(joined_df_ca['clone'].to_numpy(), cell_probs)"
   ],
   "metadata": {
    "collapsed": false
   }
  },
  {
   "cell_type": "code",
   "execution_count": 96,
   "outputs": [
    {
     "data": {
      "text/plain": "(891, 9)"
     },
     "execution_count": 96,
     "metadata": {},
     "output_type": "execute_result"
    }
   ],
   "source": [
    "K = len(joined_df_ca['clone'].unique())\n",
    "one_hot_gt = np.eye(K)[joined_df_ca['clone'].to_numpy()]\n",
    "one_hot_gt.shape"
   ],
   "metadata": {
    "collapsed": false
   }
  },
  {
   "cell_type": "code",
   "execution_count": 97,
   "outputs": [
    {
     "data": {
      "text/plain": "0        2\n6206     2\n12412    2\n18618    2\n24824    2\n31030    2\n37236    2\n43442    2\n49648    2\n55854    2\nName: clone, dtype: int64"
     },
     "execution_count": 97,
     "metadata": {},
     "output_type": "execute_result"
    }
   ],
   "source": [
    "joined_df_ca['clone'][:10]"
   ],
   "metadata": {
    "collapsed": false
   }
  },
  {
   "cell_type": "code",
   "execution_count": 99,
   "outputs": [
    {
     "data": {
      "text/plain": "0.1537660173961514"
     },
     "execution_count": 99,
     "metadata": {},
     "output_type": "execute_result"
    }
   ],
   "source": [
    "(cell_probs * one_hot_gt[:, mapp]).sum() / 891"
   ],
   "metadata": {
    "collapsed": false
   }
  },
  {
   "cell_type": "code",
   "execution_count": 66,
   "outputs": [],
   "source": [
    "viz = cell_assignment[joined_df_ca['cell']]"
   ],
   "metadata": {
    "collapsed": false
   }
  },
  {
   "cell_type": "code",
   "execution_count": 67,
   "outputs": [
    {
     "data": {
      "text/plain": "(891,)"
     },
     "execution_count": 67,
     "metadata": {},
     "output_type": "execute_result"
    }
   ],
   "source": [
    "viz.shape"
   ],
   "metadata": {
    "collapsed": false
   }
  },
  {
   "cell_type": "code",
   "execution_count": 68,
   "outputs": [
    {
     "data": {
      "text/plain": "-0.00042940743985863994"
     },
     "execution_count": 68,
     "metadata": {},
     "output_type": "execute_result"
    }
   ],
   "source": [
    "adjusted_rand_score(joined_df_ca['clone'], viz)"
   ],
   "metadata": {
    "collapsed": false
   }
  },
  {
   "cell_type": "code",
   "execution_count": 15,
   "outputs": [
    {
     "data": {
      "text/plain": "<AxesSubplot:>"
     },
     "execution_count": 15,
     "metadata": {},
     "output_type": "execute_result"
    },
    {
     "data": {
      "text/plain": "<Figure size 640x480 with 1 Axes>",
      "image/png": "[encoded data removed]"
     },
     "metadata": {},
     "output_type": "display_data"
    }
   ],
   "source": [
    "joined_df_ca['clone'].hist()"
   ],
   "metadata": {
    "collapsed": false
   }
  },
  {
   "cell_type": "code",
   "execution_count": 16,
   "outputs": [],
   "source": [
    "viz_df = pd.DataFrame({'clone': viz})"
   ],
   "metadata": {
    "collapsed": false
   }
  },
  {
   "cell_type": "code",
   "execution_count": 17,
   "outputs": [
    {
     "data": {
      "text/plain": "<AxesSubplot:>"
     },
     "execution_count": 17,
     "metadata": {},
     "output_type": "execute_result"
    },
    {
     "data": {
      "text/plain": "<Figure size 640x480 with 1 Axes>",
      "image/png": "[encoded data removed]"
     },
     "metadata": {},
     "output_type": "display_data"
    }
   ],
   "source": [
    "viz_df['clone'].hist()"
   ],
   "metadata": {
    "collapsed": false
   }
  },
  {
   "cell_type": "code",
   "execution_count": null,
   "outputs": [],
   "source": [],
   "metadata": {
    "collapsed": false
   }
  }
 ],
 "metadata": {
  "kernelspec": {
   "display_name": "Python 3",
   "language": "python",
   "name": "python3"
  },
  "language_info": {
   "codemirror_mode": {
    "name": "ipython",
    "version": 2
   },
   "file_extension": ".py",
   "mimetype": "text/x-python",
   "name": "python",
   "nbconvert_exporter": "python",
   "pygments_lexer": "ipython2",
   "version": "2.7.6"
  }
 },
 "nbformat": 4,
 "nbformat_minor": 0
}
